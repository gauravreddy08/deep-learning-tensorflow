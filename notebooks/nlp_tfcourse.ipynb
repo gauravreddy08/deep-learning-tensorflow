{
  "nbformat": 4,
  "nbformat_minor": 0,
  "metadata": {
    "colab": {
      "provenance": [],
      "authorship_tag": "ABX9TyNDsauTDL8mbygpe3Hjljkq",
      "include_colab_link": true
    },
    "kernelspec": {
      "name": "python3",
      "display_name": "Python 3"
    },
    "language_info": {
      "name": "python"
    },
    "accelerator": "GPU",
    "gpuClass": "standard"
  },
  "cells": [
    {
      "cell_type": "markdown",
      "metadata": {
        "id": "view-in-github",
        "colab_type": "text"
      },
      "source": [
        "<a href=\"https://colab.research.google.com/github/gauravreddy08/deep-learning-tensorflow/blob/main/notebooks/nlp_tfcourse.ipynb\" target=\"_parent\"><img src=\"https://colab.research.google.com/assets/colab-badge.svg\" alt=\"Open In Colab\"/></a>"
      ]
    },
    {
      "cell_type": "code",
      "execution_count": 1,
      "metadata": {
        "colab": {
          "base_uri": "https://localhost:8080/"
        },
        "id": "A_i3QF5YaD0s",
        "outputId": "e49f3263-fd72-484a-f161-7d6eddc7b423"
      },
      "outputs": [
        {
          "output_type": "stream",
          "name": "stdout",
          "text": [
            "GPU 0: Tesla T4 (UUID: GPU-ce15062e-4713-70e8-00f5-69bc014e57ba)\n"
          ]
        }
      ],
      "source": [
        "!nvidia-smi -L"
      ]
    },
    {
      "cell_type": "code",
      "source": [
        "!wget https://raw.githubusercontent.com/mrdbourke/tensorflow-deep-learning/main/extras/helper_functions.py\n",
        "\n",
        "from helper_functions import unzip_data, create_tensorboard_callback, plot_loss_curves, compare_historys"
      ],
      "metadata": {
        "colab": {
          "base_uri": "https://localhost:8080/"
        },
        "id": "rO-eMziiauFf",
        "outputId": "40d8a280-67aa-4d8b-8bb8-c94cd963f7fb"
      },
      "execution_count": 2,
      "outputs": [
        {
          "output_type": "stream",
          "name": "stdout",
          "text": [
            "--2023-01-27 08:59:43--  https://raw.githubusercontent.com/mrdbourke/tensorflow-deep-learning/main/extras/helper_functions.py\n",
            "Resolving raw.githubusercontent.com (raw.githubusercontent.com)... 185.199.108.133, 185.199.109.133, 185.199.110.133, ...\n",
            "Connecting to raw.githubusercontent.com (raw.githubusercontent.com)|185.199.108.133|:443... connected.\n",
            "HTTP request sent, awaiting response... 200 OK\n",
            "Length: 10246 (10K) [text/plain]\n",
            "Saving to: ‘helper_functions.py.1’\n",
            "\n",
            "helper_functions.py 100%[===================>]  10.01K  --.-KB/s    in 0s      \n",
            "\n",
            "2023-01-27 08:59:43 (88.6 MB/s) - ‘helper_functions.py.1’ saved [10246/10246]\n",
            "\n"
          ]
        }
      ]
    },
    {
      "cell_type": "markdown",
      "source": [
        "# Getting the text dataset"
      ],
      "metadata": {
        "id": "IcJllYBcbHeX"
      }
    },
    {
      "cell_type": "code",
      "source": [
        "!wget https://storage.googleapis.com/ztm_tf_course/nlp_getting_started.zip\n",
        "\n",
        "unzip_data(\"/content/nlp_getting_started.zip\")"
      ],
      "metadata": {
        "colab": {
          "base_uri": "https://localhost:8080/"
        },
        "id": "MhBzGrXga5QW",
        "outputId": "75be6ba0-2eca-4b08-c36b-bef65bdec2c3"
      },
      "execution_count": 3,
      "outputs": [
        {
          "output_type": "stream",
          "name": "stdout",
          "text": [
            "--2023-01-27 08:59:46--  https://storage.googleapis.com/ztm_tf_course/nlp_getting_started.zip\n",
            "Resolving storage.googleapis.com (storage.googleapis.com)... 74.125.68.128, 74.125.24.128, 142.250.4.128, ...\n",
            "Connecting to storage.googleapis.com (storage.googleapis.com)|74.125.68.128|:443... connected.\n",
            "HTTP request sent, awaiting response... 200 OK\n",
            "Length: 607343 (593K) [application/zip]\n",
            "Saving to: ‘nlp_getting_started.zip.1’\n",
            "\n",
            "nlp_getting_started 100%[===================>] 593.11K  --.-KB/s    in 0.004s  \n",
            "\n",
            "2023-01-27 08:59:47 (141 MB/s) - ‘nlp_getting_started.zip.1’ saved [607343/607343]\n",
            "\n"
          ]
        }
      ]
    },
    {
      "cell_type": "markdown",
      "source": [
        "# Become ONE with the data"
      ],
      "metadata": {
        "id": "qL3uoUKybzkZ"
      }
    },
    {
      "cell_type": "code",
      "source": [
        "import pandas as pd\n",
        "import numpy as np\n",
        "import tensorflow as tf\n",
        "import matplotlib.pyplot as plt"
      ],
      "metadata": {
        "id": "KP_t37bfbzBJ"
      },
      "execution_count": 4,
      "outputs": []
    },
    {
      "cell_type": "code",
      "source": [
        "train = pd.read_csv(\"train.csv\")\n",
        "test = pd.read_csv(\"test.csv\")"
      ],
      "metadata": {
        "id": "0T28oo9MbqQt"
      },
      "execution_count": 5,
      "outputs": []
    },
    {
      "cell_type": "code",
      "source": [
        "train"
      ],
      "metadata": {
        "colab": {
          "base_uri": "https://localhost:8080/",
          "height": 419
        },
        "id": "y8lZuR6ncOg2",
        "outputId": "0d7aa3fa-060f-4bea-9ffd-929ce7668cc3"
      },
      "execution_count": 6,
      "outputs": [
        {
          "output_type": "execute_result",
          "data": {
            "text/plain": [
              "         id keyword location  \\\n",
              "0         1     NaN      NaN   \n",
              "1         4     NaN      NaN   \n",
              "2         5     NaN      NaN   \n",
              "3         6     NaN      NaN   \n",
              "4         7     NaN      NaN   \n",
              "...     ...     ...      ...   \n",
              "7608  10869     NaN      NaN   \n",
              "7609  10870     NaN      NaN   \n",
              "7610  10871     NaN      NaN   \n",
              "7611  10872     NaN      NaN   \n",
              "7612  10873     NaN      NaN   \n",
              "\n",
              "                                                   text  target  \n",
              "0     Our Deeds are the Reason of this #earthquake M...       1  \n",
              "1                Forest fire near La Ronge Sask. Canada       1  \n",
              "2     All residents asked to 'shelter in place' are ...       1  \n",
              "3     13,000 people receive #wildfires evacuation or...       1  \n",
              "4     Just got sent this photo from Ruby #Alaska as ...       1  \n",
              "...                                                 ...     ...  \n",
              "7608  Two giant cranes holding a bridge collapse int...       1  \n",
              "7609  @aria_ahrary @TheTawniest The out of control w...       1  \n",
              "7610  M1.94 [01:04 UTC]?5km S of Volcano Hawaii. htt...       1  \n",
              "7611  Police investigating after an e-bike collided ...       1  \n",
              "7612  The Latest: More Homes Razed by Northern Calif...       1  \n",
              "\n",
              "[7613 rows x 5 columns]"
            ],
            "text/html": [
              "\n",
              "  <div id=\"df-1af97da5-afb4-4c54-b61e-51aefa75c502\">\n",
              "    <div class=\"colab-df-container\">\n",
              "      <div>\n",
              "<style scoped>\n",
              "    .dataframe tbody tr th:only-of-type {\n",
              "        vertical-align: middle;\n",
              "    }\n",
              "\n",
              "    .dataframe tbody tr th {\n",
              "        vertical-align: top;\n",
              "    }\n",
              "\n",
              "    .dataframe thead th {\n",
              "        text-align: right;\n",
              "    }\n",
              "</style>\n",
              "<table border=\"1\" class=\"dataframe\">\n",
              "  <thead>\n",
              "    <tr style=\"text-align: right;\">\n",
              "      <th></th>\n",
              "      <th>id</th>\n",
              "      <th>keyword</th>\n",
              "      <th>location</th>\n",
              "      <th>text</th>\n",
              "      <th>target</th>\n",
              "    </tr>\n",
              "  </thead>\n",
              "  <tbody>\n",
              "    <tr>\n",
              "      <th>0</th>\n",
              "      <td>1</td>\n",
              "      <td>NaN</td>\n",
              "      <td>NaN</td>\n",
              "      <td>Our Deeds are the Reason of this #earthquake M...</td>\n",
              "      <td>1</td>\n",
              "    </tr>\n",
              "    <tr>\n",
              "      <th>1</th>\n",
              "      <td>4</td>\n",
              "      <td>NaN</td>\n",
              "      <td>NaN</td>\n",
              "      <td>Forest fire near La Ronge Sask. Canada</td>\n",
              "      <td>1</td>\n",
              "    </tr>\n",
              "    <tr>\n",
              "      <th>2</th>\n",
              "      <td>5</td>\n",
              "      <td>NaN</td>\n",
              "      <td>NaN</td>\n",
              "      <td>All residents asked to 'shelter in place' are ...</td>\n",
              "      <td>1</td>\n",
              "    </tr>\n",
              "    <tr>\n",
              "      <th>3</th>\n",
              "      <td>6</td>\n",
              "      <td>NaN</td>\n",
              "      <td>NaN</td>\n",
              "      <td>13,000 people receive #wildfires evacuation or...</td>\n",
              "      <td>1</td>\n",
              "    </tr>\n",
              "    <tr>\n",
              "      <th>4</th>\n",
              "      <td>7</td>\n",
              "      <td>NaN</td>\n",
              "      <td>NaN</td>\n",
              "      <td>Just got sent this photo from Ruby #Alaska as ...</td>\n",
              "      <td>1</td>\n",
              "    </tr>\n",
              "    <tr>\n",
              "      <th>...</th>\n",
              "      <td>...</td>\n",
              "      <td>...</td>\n",
              "      <td>...</td>\n",
              "      <td>...</td>\n",
              "      <td>...</td>\n",
              "    </tr>\n",
              "    <tr>\n",
              "      <th>7608</th>\n",
              "      <td>10869</td>\n",
              "      <td>NaN</td>\n",
              "      <td>NaN</td>\n",
              "      <td>Two giant cranes holding a bridge collapse int...</td>\n",
              "      <td>1</td>\n",
              "    </tr>\n",
              "    <tr>\n",
              "      <th>7609</th>\n",
              "      <td>10870</td>\n",
              "      <td>NaN</td>\n",
              "      <td>NaN</td>\n",
              "      <td>@aria_ahrary @TheTawniest The out of control w...</td>\n",
              "      <td>1</td>\n",
              "    </tr>\n",
              "    <tr>\n",
              "      <th>7610</th>\n",
              "      <td>10871</td>\n",
              "      <td>NaN</td>\n",
              "      <td>NaN</td>\n",
              "      <td>M1.94 [01:04 UTC]?5km S of Volcano Hawaii. htt...</td>\n",
              "      <td>1</td>\n",
              "    </tr>\n",
              "    <tr>\n",
              "      <th>7611</th>\n",
              "      <td>10872</td>\n",
              "      <td>NaN</td>\n",
              "      <td>NaN</td>\n",
              "      <td>Police investigating after an e-bike collided ...</td>\n",
              "      <td>1</td>\n",
              "    </tr>\n",
              "    <tr>\n",
              "      <th>7612</th>\n",
              "      <td>10873</td>\n",
              "      <td>NaN</td>\n",
              "      <td>NaN</td>\n",
              "      <td>The Latest: More Homes Razed by Northern Calif...</td>\n",
              "      <td>1</td>\n",
              "    </tr>\n",
              "  </tbody>\n",
              "</table>\n",
              "<p>7613 rows × 5 columns</p>\n",
              "</div>\n",
              "      <button class=\"colab-df-convert\" onclick=\"convertToInteractive('df-1af97da5-afb4-4c54-b61e-51aefa75c502')\"\n",
              "              title=\"Convert this dataframe to an interactive table.\"\n",
              "              style=\"display:none;\">\n",
              "        \n",
              "  <svg xmlns=\"http://www.w3.org/2000/svg\" height=\"24px\"viewBox=\"0 0 24 24\"\n",
              "       width=\"24px\">\n",
              "    <path d=\"M0 0h24v24H0V0z\" fill=\"none\"/>\n",
              "    <path d=\"M18.56 5.44l.94 2.06.94-2.06 2.06-.94-2.06-.94-.94-2.06-.94 2.06-2.06.94zm-11 1L8.5 8.5l.94-2.06 2.06-.94-2.06-.94L8.5 2.5l-.94 2.06-2.06.94zm10 10l.94 2.06.94-2.06 2.06-.94-2.06-.94-.94-2.06-.94 2.06-2.06.94z\"/><path d=\"M17.41 7.96l-1.37-1.37c-.4-.4-.92-.59-1.43-.59-.52 0-1.04.2-1.43.59L10.3 9.45l-7.72 7.72c-.78.78-.78 2.05 0 2.83L4 21.41c.39.39.9.59 1.41.59.51 0 1.02-.2 1.41-.59l7.78-7.78 2.81-2.81c.8-.78.8-2.07 0-2.86zM5.41 20L4 18.59l7.72-7.72 1.47 1.35L5.41 20z\"/>\n",
              "  </svg>\n",
              "      </button>\n",
              "      \n",
              "  <style>\n",
              "    .colab-df-container {\n",
              "      display:flex;\n",
              "      flex-wrap:wrap;\n",
              "      gap: 12px;\n",
              "    }\n",
              "\n",
              "    .colab-df-convert {\n",
              "      background-color: #E8F0FE;\n",
              "      border: none;\n",
              "      border-radius: 50%;\n",
              "      cursor: pointer;\n",
              "      display: none;\n",
              "      fill: #1967D2;\n",
              "      height: 32px;\n",
              "      padding: 0 0 0 0;\n",
              "      width: 32px;\n",
              "    }\n",
              "\n",
              "    .colab-df-convert:hover {\n",
              "      background-color: #E2EBFA;\n",
              "      box-shadow: 0px 1px 2px rgba(60, 64, 67, 0.3), 0px 1px 3px 1px rgba(60, 64, 67, 0.15);\n",
              "      fill: #174EA6;\n",
              "    }\n",
              "\n",
              "    [theme=dark] .colab-df-convert {\n",
              "      background-color: #3B4455;\n",
              "      fill: #D2E3FC;\n",
              "    }\n",
              "\n",
              "    [theme=dark] .colab-df-convert:hover {\n",
              "      background-color: #434B5C;\n",
              "      box-shadow: 0px 1px 3px 1px rgba(0, 0, 0, 0.15);\n",
              "      filter: drop-shadow(0px 1px 2px rgba(0, 0, 0, 0.3));\n",
              "      fill: #FFFFFF;\n",
              "    }\n",
              "  </style>\n",
              "\n",
              "      <script>\n",
              "        const buttonEl =\n",
              "          document.querySelector('#df-1af97da5-afb4-4c54-b61e-51aefa75c502 button.colab-df-convert');\n",
              "        buttonEl.style.display =\n",
              "          google.colab.kernel.accessAllowed ? 'block' : 'none';\n",
              "\n",
              "        async function convertToInteractive(key) {\n",
              "          const element = document.querySelector('#df-1af97da5-afb4-4c54-b61e-51aefa75c502');\n",
              "          const dataTable =\n",
              "            await google.colab.kernel.invokeFunction('convertToInteractive',\n",
              "                                                     [key], {});\n",
              "          if (!dataTable) return;\n",
              "\n",
              "          const docLinkHtml = 'Like what you see? Visit the ' +\n",
              "            '<a target=\"_blank\" href=https://colab.research.google.com/notebooks/data_table.ipynb>data table notebook</a>'\n",
              "            + ' to learn more about interactive tables.';\n",
              "          element.innerHTML = '';\n",
              "          dataTable['output_type'] = 'display_data';\n",
              "          await google.colab.output.renderOutput(dataTable, element);\n",
              "          const docLink = document.createElement('div');\n",
              "          docLink.innerHTML = docLinkHtml;\n",
              "          element.appendChild(docLink);\n",
              "        }\n",
              "      </script>\n",
              "    </div>\n",
              "  </div>\n",
              "  "
            ]
          },
          "metadata": {},
          "execution_count": 6
        }
      ]
    },
    {
      "cell_type": "code",
      "source": [
        "test.head()"
      ],
      "metadata": {
        "colab": {
          "base_uri": "https://localhost:8080/",
          "height": 204
        },
        "id": "n7Hop92vcP9E",
        "outputId": "e50c336b-397f-474b-e3bc-c9333204639d"
      },
      "execution_count": 7,
      "outputs": [
        {
          "output_type": "execute_result",
          "data": {
            "text/plain": [
              "   id keyword location                                               text\n",
              "0   0     NaN      NaN                 Just happened a terrible car crash\n",
              "1   2     NaN      NaN  Heard about #earthquake is different cities, s...\n",
              "2   3     NaN      NaN  there is a forest fire at spot pond, geese are...\n",
              "3   9     NaN      NaN           Apocalypse lighting. #Spokane #wildfires\n",
              "4  11     NaN      NaN      Typhoon Soudelor kills 28 in China and Taiwan"
            ],
            "text/html": [
              "\n",
              "  <div id=\"df-98815bc4-dad0-46e8-b0aa-a507732ee53f\">\n",
              "    <div class=\"colab-df-container\">\n",
              "      <div>\n",
              "<style scoped>\n",
              "    .dataframe tbody tr th:only-of-type {\n",
              "        vertical-align: middle;\n",
              "    }\n",
              "\n",
              "    .dataframe tbody tr th {\n",
              "        vertical-align: top;\n",
              "    }\n",
              "\n",
              "    .dataframe thead th {\n",
              "        text-align: right;\n",
              "    }\n",
              "</style>\n",
              "<table border=\"1\" class=\"dataframe\">\n",
              "  <thead>\n",
              "    <tr style=\"text-align: right;\">\n",
              "      <th></th>\n",
              "      <th>id</th>\n",
              "      <th>keyword</th>\n",
              "      <th>location</th>\n",
              "      <th>text</th>\n",
              "    </tr>\n",
              "  </thead>\n",
              "  <tbody>\n",
              "    <tr>\n",
              "      <th>0</th>\n",
              "      <td>0</td>\n",
              "      <td>NaN</td>\n",
              "      <td>NaN</td>\n",
              "      <td>Just happened a terrible car crash</td>\n",
              "    </tr>\n",
              "    <tr>\n",
              "      <th>1</th>\n",
              "      <td>2</td>\n",
              "      <td>NaN</td>\n",
              "      <td>NaN</td>\n",
              "      <td>Heard about #earthquake is different cities, s...</td>\n",
              "    </tr>\n",
              "    <tr>\n",
              "      <th>2</th>\n",
              "      <td>3</td>\n",
              "      <td>NaN</td>\n",
              "      <td>NaN</td>\n",
              "      <td>there is a forest fire at spot pond, geese are...</td>\n",
              "    </tr>\n",
              "    <tr>\n",
              "      <th>3</th>\n",
              "      <td>9</td>\n",
              "      <td>NaN</td>\n",
              "      <td>NaN</td>\n",
              "      <td>Apocalypse lighting. #Spokane #wildfires</td>\n",
              "    </tr>\n",
              "    <tr>\n",
              "      <th>4</th>\n",
              "      <td>11</td>\n",
              "      <td>NaN</td>\n",
              "      <td>NaN</td>\n",
              "      <td>Typhoon Soudelor kills 28 in China and Taiwan</td>\n",
              "    </tr>\n",
              "  </tbody>\n",
              "</table>\n",
              "</div>\n",
              "      <button class=\"colab-df-convert\" onclick=\"convertToInteractive('df-98815bc4-dad0-46e8-b0aa-a507732ee53f')\"\n",
              "              title=\"Convert this dataframe to an interactive table.\"\n",
              "              style=\"display:none;\">\n",
              "        \n",
              "  <svg xmlns=\"http://www.w3.org/2000/svg\" height=\"24px\"viewBox=\"0 0 24 24\"\n",
              "       width=\"24px\">\n",
              "    <path d=\"M0 0h24v24H0V0z\" fill=\"none\"/>\n",
              "    <path d=\"M18.56 5.44l.94 2.06.94-2.06 2.06-.94-2.06-.94-.94-2.06-.94 2.06-2.06.94zm-11 1L8.5 8.5l.94-2.06 2.06-.94-2.06-.94L8.5 2.5l-.94 2.06-2.06.94zm10 10l.94 2.06.94-2.06 2.06-.94-2.06-.94-.94-2.06-.94 2.06-2.06.94z\"/><path d=\"M17.41 7.96l-1.37-1.37c-.4-.4-.92-.59-1.43-.59-.52 0-1.04.2-1.43.59L10.3 9.45l-7.72 7.72c-.78.78-.78 2.05 0 2.83L4 21.41c.39.39.9.59 1.41.59.51 0 1.02-.2 1.41-.59l7.78-7.78 2.81-2.81c.8-.78.8-2.07 0-2.86zM5.41 20L4 18.59l7.72-7.72 1.47 1.35L5.41 20z\"/>\n",
              "  </svg>\n",
              "      </button>\n",
              "      \n",
              "  <style>\n",
              "    .colab-df-container {\n",
              "      display:flex;\n",
              "      flex-wrap:wrap;\n",
              "      gap: 12px;\n",
              "    }\n",
              "\n",
              "    .colab-df-convert {\n",
              "      background-color: #E8F0FE;\n",
              "      border: none;\n",
              "      border-radius: 50%;\n",
              "      cursor: pointer;\n",
              "      display: none;\n",
              "      fill: #1967D2;\n",
              "      height: 32px;\n",
              "      padding: 0 0 0 0;\n",
              "      width: 32px;\n",
              "    }\n",
              "\n",
              "    .colab-df-convert:hover {\n",
              "      background-color: #E2EBFA;\n",
              "      box-shadow: 0px 1px 2px rgba(60, 64, 67, 0.3), 0px 1px 3px 1px rgba(60, 64, 67, 0.15);\n",
              "      fill: #174EA6;\n",
              "    }\n",
              "\n",
              "    [theme=dark] .colab-df-convert {\n",
              "      background-color: #3B4455;\n",
              "      fill: #D2E3FC;\n",
              "    }\n",
              "\n",
              "    [theme=dark] .colab-df-convert:hover {\n",
              "      background-color: #434B5C;\n",
              "      box-shadow: 0px 1px 3px 1px rgba(0, 0, 0, 0.15);\n",
              "      filter: drop-shadow(0px 1px 2px rgba(0, 0, 0, 0.3));\n",
              "      fill: #FFFFFF;\n",
              "    }\n",
              "  </style>\n",
              "\n",
              "      <script>\n",
              "        const buttonEl =\n",
              "          document.querySelector('#df-98815bc4-dad0-46e8-b0aa-a507732ee53f button.colab-df-convert');\n",
              "        buttonEl.style.display =\n",
              "          google.colab.kernel.accessAllowed ? 'block' : 'none';\n",
              "\n",
              "        async function convertToInteractive(key) {\n",
              "          const element = document.querySelector('#df-98815bc4-dad0-46e8-b0aa-a507732ee53f');\n",
              "          const dataTable =\n",
              "            await google.colab.kernel.invokeFunction('convertToInteractive',\n",
              "                                                     [key], {});\n",
              "          if (!dataTable) return;\n",
              "\n",
              "          const docLinkHtml = 'Like what you see? Visit the ' +\n",
              "            '<a target=\"_blank\" href=https://colab.research.google.com/notebooks/data_table.ipynb>data table notebook</a>'\n",
              "            + ' to learn more about interactive tables.';\n",
              "          element.innerHTML = '';\n",
              "          dataTable['output_type'] = 'display_data';\n",
              "          await google.colab.output.renderOutput(dataTable, element);\n",
              "          const docLink = document.createElement('div');\n",
              "          docLink.innerHTML = docLinkHtml;\n",
              "          element.appendChild(docLink);\n",
              "        }\n",
              "      </script>\n",
              "    </div>\n",
              "  </div>\n",
              "  "
            ]
          },
          "metadata": {},
          "execution_count": 7
        }
      ]
    },
    {
      "cell_type": "code",
      "source": [
        "len(train), len(test)"
      ],
      "metadata": {
        "colab": {
          "base_uri": "https://localhost:8080/"
        },
        "id": "mh7EHCIrcR2C",
        "outputId": "337601de-3cb7-47f8-b25b-a11373040d44"
      },
      "execution_count": 8,
      "outputs": [
        {
          "output_type": "execute_result",
          "data": {
            "text/plain": [
              "(7613, 3263)"
            ]
          },
          "metadata": {},
          "execution_count": 8
        }
      ]
    },
    {
      "cell_type": "code",
      "source": [
        "train = train.sample(frac=1, random_state=42)\n",
        "train.value_counts()"
      ],
      "metadata": {
        "colab": {
          "base_uri": "https://localhost:8080/"
        },
        "id": "woLq_pkKchPi",
        "outputId": "2d48aadc-c939-492a-fb63-fcfe37bd1d1c"
      },
      "execution_count": 9,
      "outputs": [
        {
          "output_type": "execute_result",
          "data": {
            "text/plain": [
              "id     keyword   location                        text                                                                                                                                 target\n",
              "48     ablaze    Birmingham                      @bbcmtd Wholesale Markets ablaze http://t.co/lHYXEOHY6C                                                                              1         1\n",
              "7166   mudslide  Chiswick, London                2 great new recipes; mudslide cake and so sorry stew! #GBBO                                                                          0         1\n",
              "7178   mudslide  Edinburgh                       @hazelannmac ooh now I feel guilty about wishing hatman out. I bet the mudslide was delicious!                                       0         1\n",
              "7176   mudslide  London                          First impressions: glad hat man is leaving in lieu of more interesting ladies. Hope mudslide lady triumphs next week.                0         1\n",
              "7174   mudslide  The Pumpkin Carriage of Dreams  @Lolly_Knickers It's a mudslide. \\nIt's like chewing on a rubber tyre.\\nAnd with those I'm DONE.\\n#vaginaorcake #GBBO                1         1\n",
              "                                                                                                                                                                                               ..\n",
              "3591   desolate  Pueblo, CO                      @Bill_Roose That looks so desolate and just...depressing                                                                             1         1\n",
              "3589   desolate  Macclesfield                    @booksbyRoger TY for the follow Go To http://t.co/l9MB2j5pXg BRUTALLY ABUSED+DESOLATE&amp;LOST + HER LOVELY MUM DIES..Is it Murder?  0         1\n",
              "3587   desolate  Temporary Towers                @fotofill It looks so desolate. End of the world stuff. Gorgeous.                                                                    0         1\n",
              "3584   desolate  Boulder                         @joshacagan Your only option now is to move to an desolate island with nothing but a stack of DVDs you canÛªt watch.                0         1\n",
              "10833  wrecked   Lincoln                         @engineshed Great atmosphere at the British Lion gig tonight. Hearing is wrecked. http://t.co/oMNBAtJEAO                             0         1\n",
              "Length: 5080, dtype: int64"
            ]
          },
          "metadata": {},
          "execution_count": 9
        }
      ]
    },
    {
      "cell_type": "markdown",
      "source": [
        "https://www.tensorflow.org/tutorials/structured_data/imbalanced_data"
      ],
      "metadata": {
        "id": "wXCHlymvdi1d"
      }
    },
    {
      "cell_type": "markdown",
      "source": [
        "# Visualizing the data"
      ],
      "metadata": {
        "id": "FH6u59iTeNe6"
      }
    },
    {
      "cell_type": "code",
      "source": [
        "import random\n",
        "\n",
        "for i in [random.randint(0, len(train)) for _ in range(5)]:\n",
        "  print(f\"Text: {train['text'][i]}\")\n",
        "  print(\"Label: \", \"Disaster\" if train['target'][i]==1 else \"Not a Disaster\")\n",
        "  print(\"\\n----\\n\")"
      ],
      "metadata": {
        "colab": {
          "base_uri": "https://localhost:8080/"
        },
        "id": "ZU5M1jDjeNHr",
        "outputId": "ee7d4bba-327f-4c8c-ff6a-40c1133230c3"
      },
      "execution_count": 10,
      "outputs": [
        {
          "output_type": "stream",
          "name": "stdout",
          "text": [
            "Text: Plains All American Pipeline company may have spilled 40 percent more crude oil than previously estimated.... http://t.co/WEZjqC4Cf2\n",
            "Label:  Disaster\n",
            "\n",
            "----\n",
            "\n",
            "Text: #MrRobinson is giving me #TheSteveHarveyShow vibe. Music teacher looks out for students has crush on girl he went to high school with. ??\n",
            "Label:  Not a Disaster\n",
            "\n",
            "----\n",
            "\n",
            "Text: 10News ? Water main break disrupts trolley service http://t.co/pAug7a68i0\n",
            "Label:  Disaster\n",
            "\n",
            "----\n",
            "\n",
            "Text: VIDEO: 'We're picking up bodies from water': Rescuers are searching for hundreds of migrants in the Mediterranean after a boat carryi...\n",
            "Label:  Disaster\n",
            "\n",
            "----\n",
            "\n",
            "Text: @DaMidnighter theres actually a theory out there that the magisters arent the only reason for the blight\n",
            "that dwarves (the ones from the\n",
            "Label:  Not a Disaster\n",
            "\n",
            "----\n",
            "\n"
          ]
        }
      ]
    },
    {
      "cell_type": "code",
      "source": [
        "from sklearn.model_selection import train_test_split\n",
        "\n",
        "X_train, X_val, y_train, y_val = train_test_split(train['text'].to_numpy(), train['target'].to_numpy(), test_size=0.1, random_state=42)"
      ],
      "metadata": {
        "id": "0-mptVhLdEgx"
      },
      "execution_count": 11,
      "outputs": []
    },
    {
      "cell_type": "code",
      "source": [
        "len(X_train), len(X_val), len(y_train), len(y_val)"
      ],
      "metadata": {
        "colab": {
          "base_uri": "https://localhost:8080/"
        },
        "id": "D34ZF7rSYYLn",
        "outputId": "ef13adb8-4171-46d4-b0b5-bcb3d62b0aad"
      },
      "execution_count": 12,
      "outputs": [
        {
          "output_type": "execute_result",
          "data": {
            "text/plain": [
              "(6851, 762, 6851, 762)"
            ]
          },
          "metadata": {},
          "execution_count": 12
        }
      ]
    },
    {
      "cell_type": "code",
      "source": [
        "X_train"
      ],
      "metadata": {
        "colab": {
          "base_uri": "https://localhost:8080/"
        },
        "id": "Ehn7ulzVYxQg",
        "outputId": "009374a1-bf0c-494a-d2f6-61c29f720334"
      },
      "execution_count": 13,
      "outputs": [
        {
          "output_type": "execute_result",
          "data": {
            "text/plain": [
              "array(['@mogacola @zamtriossu i screamed after hitting tweet',\n",
              "       'Imagine getting flattened by Kurt Zouma',\n",
              "       '@Gurmeetramrahim #MSGDoing111WelfareWorks Green S welfare force ke appx 65000 members har time disaster victim ki help ke liye tyar hai....',\n",
              "       ...,\n",
              "       'Near them on the sand half sunk a shattered visage lies... http://t.co/0kCCG1BT06',\n",
              "       \"kesabaran membuahkan hasil indah pada saat tepat! life isn't about waiting for the storm to pass it's about learning to dance in the rain.\",\n",
              "       \"@ScottDPierce @billharris_tv @HarrisGle @Beezersun I'm forfeiting this years fantasy football pool out of fear I may win n get my ass kicked\"],\n",
              "      dtype=object)"
            ]
          },
          "metadata": {},
          "execution_count": 13
        }
      ]
    },
    {
      "cell_type": "code",
      "source": [
        "y_train"
      ],
      "metadata": {
        "colab": {
          "base_uri": "https://localhost:8080/"
        },
        "id": "ycN6LXwdY2co",
        "outputId": "69908815-8700-4f57-d2a9-1207c9805a62"
      },
      "execution_count": 14,
      "outputs": [
        {
          "output_type": "execute_result",
          "data": {
            "text/plain": [
              "array([0, 0, 1, ..., 1, 1, 0])"
            ]
          },
          "metadata": {},
          "execution_count": 14
        }
      ]
    },
    {
      "cell_type": "code",
      "source": [
        "X_train[0]"
      ],
      "metadata": {
        "colab": {
          "base_uri": "https://localhost:8080/",
          "height": 37
        },
        "id": "Kh7BFEsJY4i8",
        "outputId": "c0ba4b9b-4776-4518-fe0e-4ff6e1586dfe"
      },
      "execution_count": 15,
      "outputs": [
        {
          "output_type": "execute_result",
          "data": {
            "text/plain": [
              "'@mogacola @zamtriossu i screamed after hitting tweet'"
            ],
            "application/vnd.google.colaboratory.intrinsic+json": {
              "type": "string"
            }
          },
          "metadata": {},
          "execution_count": 15
        }
      ]
    },
    {
      "cell_type": "code",
      "source": [
        "from tensorflow.keras.layers.experimental.preprocessing import TextVectorization\n",
        "\n",
        "output_sequence_length = round(sum((len(i.split()) for i in X_train))/len(X_train)) #15\n",
        "\n",
        "text_vectorizer = TextVectorization(max_tokens=10000,\n",
        "                                    standardize='lower_and_strip_punctuation',\n",
        "                                    split='whitespace',\n",
        "                                    ngrams=None,\n",
        "                                    output_mode=\"int\",\n",
        "                                    output_sequence_length = output_sequence_length,\n",
        "                                    pad_to_max_tokens=True)"
      ],
      "metadata": {
        "id": "cyu_LiUGbRjs"
      },
      "execution_count": 16,
      "outputs": []
    },
    {
      "cell_type": "code",
      "source": [
        "text_vectorizer.adapt(X_train)"
      ],
      "metadata": {
        "id": "yPp4vWwCbfIi"
      },
      "execution_count": 17,
      "outputs": []
    },
    {
      "cell_type": "code",
      "source": [
        "for i in [random.choice(X_train) for _ in range(5)]:\n",
        "  print(f\"Orginal Text: {i}\")\n",
        "  print(f\"Vectorized: {text_vectorizer(i)}\")\n",
        "  print(\"\\n----\\n\")"
      ],
      "metadata": {
        "colab": {
          "base_uri": "https://localhost:8080/"
        },
        "id": "I17-6G4IfGER",
        "outputId": "9d40f589-ea37-4f41-d8b2-b88abc565d55"
      },
      "execution_count": 18,
      "outputs": [
        {
          "output_type": "stream",
          "name": "stdout",
          "text": [
            "Orginal Text: @harveymaine AAAA ok lemme move to another roomr so no one hears my gay ass screams\n",
            "Vectorized: [   1    1  391    1  769    5  165 8983   28   40   61    1   13 1672\n",
            "  227]\n",
            "\n",
            "----\n",
            "\n",
            "Orginal Text: @MrTophyPup it's bloody sexy *drools*\n",
            "Vectorized: [   1   37  261 3430    1    0    0    0    0    0    0    0    0    0\n",
            "    0]\n",
            "\n",
            "----\n",
            "\n",
            "Orginal Text: @TayIorrMade @MegatronAFC possibly he's had injuries on both ankles though. 2011 one worse but regardless both.\n",
            "Vectorized: [7775    1 3524  277   94  267   11  608    1  804 1564   61 1100   30\n",
            " 4775]\n",
            "\n",
            "----\n",
            "\n",
            "Orginal Text: @Gargron good sir I did not wish to but now I am forced to. I must obliterate you\n",
            "Vectorized: [   1  136 1590    8  145   34 1160    5   30   48    8  160 2107    5\n",
            "    8]\n",
            "\n",
            "----\n",
            "\n",
            "Orginal Text: #Russian food crematoria provokes outrage amid crisis famine memories http://t.co/FjeaFgbZfJ\n",
            "Vectorized: [ 835  260 1147 9513  935  714  745  459  647    1    0    0    0    0\n",
            "    0]\n",
            "\n",
            "----\n",
            "\n"
          ]
        }
      ]
    },
    {
      "cell_type": "code",
      "source": [
        "from scipy.optimize._lsq.common import print_header_linear\n",
        "print_header_linear"
      ],
      "metadata": {
        "colab": {
          "base_uri": "https://localhost:8080/"
        },
        "id": "N-ZiNoZffM0w",
        "outputId": "b9e220fb-8155-4625-8733-fefbac30c8e5"
      },
      "execution_count": 19,
      "outputs": [
        {
          "output_type": "execute_result",
          "data": {
            "text/plain": [
              "<function scipy.optimize._lsq.common.print_header_linear()>"
            ]
          },
          "metadata": {},
          "execution_count": 19
        }
      ]
    },
    {
      "cell_type": "code",
      "source": [
        "print(text_vectorizer.get_vocabulary())"
      ],
      "metadata": {
        "colab": {
          "base_uri": "https://localhost:8080/"
        },
        "id": "tIV8eXpkgBN4",
        "outputId": "930773d8-dc17-4988-d1bd-14c481cdf3b7"
      },
      "execution_count": 20,
      "outputs": [
        {
          "output_type": "stream",
          "name": "stdout",
          "text": [
            "['', '[UNK]', 'the', 'a', 'in', 'to', 'of', 'and', 'i', 'is', 'for', 'on', 'you', 'my', 'with', 'it', 'that', 'at', 'by', 'this', 'from', 'be', 'are', 'was', 'have', 'like', 'as', 'up', 'so', 'just', 'but', 'me', 'im', 'your', 'not', 'amp', 'out', 'its', 'will', 'an', 'no', 'has', 'fire', 'after', 'all', 'when', 'we', 'if', 'now', 'via', 'new', 'more', 'get', 'or', 'about', 'what', 'he', 'people', 'news', 'been', 'over', 'one', 'how', 'dont', 'they', 'who', 'into', 'were', 'do', 'us', '2', 'can', 'video', 'emergency', 'there', 'disaster', 'than', 'police', 'would', 'his', 'still', 'her', 'some', 'body', 'storm', 'crash', 'burning', 'suicide', 'back', 'man', 'california', 'why', 'time', 'them', 'had', 'buildings', 'rt', 'first', 'cant', 'see', 'got', 'day', 'off', 'our', 'going', 'nuclear', 'know', 'world', 'bomb', 'fires', 'love', 'killed', 'go', 'attack', 'youtube', 'dead', 'two', 'families', '3', 'train', 'full', 'being', 'war', 'many', 'today', 'think', 'only', 'car', 'accident', 'life', 'hiroshima', 'their', 'say', 'may', 'down', 'watch', 'good', 'could', 'want', 'last', 'here', 'years', 'u', 'then', 'make', 'did', 'wildfire', 'way', 'help', 'best', 'too', 'even', 'because', 'home', 'death', 'collapse', 'bombing', 'mass', 'him', 'black', 'am', 'those', 'need', 'fatal', 'army', 'another', 'work', 'take', 'should', 'really', 'please', 'mh370', 'youre', 'look', 'lol', 'hot', 'pm', 'legionnaires', '4', 'right', '5', 'let', 'city', 'year', 'wreck', 'school', 'northern', 'much', 'forest', 'bomber', 'water', 'she', 'never', 'read', 'latest', 'homes', 'great', 'every', '1', 'live', 'god', 'fear', 'any', '\\x89Û', 'under', 'said', 'old', 'floods', '2015', 'getting', 'atomic', 'while', 'top', 'obama', 'feel', 'thats', 'since', 'near', 'flames', 'ever', 'come', 'where', 'these', 'military', 'japan', 'found', 'content', 'ass', 'without', 'weather', 'most', 'flooding', 'flood', 'damage', 'which', 'shit', 's', 'hope', 'everyone', 'before', 'stop', 'plan', 'malaysia', 'injured', 'hit', 'evacuation', 'during', 'debris', 'cross', 'coming', 'wild', 'well', 'times', 'sinking', 'oil', 'fucking', 'check', 'cause', 'weapons', 'truck', 'food', 'bloody', 'always', 'weapon', 'theres', 'state', 'little', 'injuries', 'free', 'wounded', 'summer', 'smoke', 'severe', 'reddit', 'next', 'movie', 'ive', 'hes', 'fall', 'evacuate', 'confirmed', 'bad', 'again', 'thunderstorm', 'set', 'night', 'natural', 'looks', 'heat', 'face', 'earthquake', 'boy', 'whole', 'until', 'thunder', 'through', 'says', 'panic', 'outbreak', 'made', 'lightning', 'fatalities', 'family', 'explosion', 'end', 'destroy', 'derailment', 'air', 'w', 'terrorist', 'survive', 'screaming', 'saudi', 'refugees', 'rain', 'murder', 'loud', 'liked', 'house', 'gonna', 'failure', 'collided', 'bag', 'attacked', 'ambulance', '70', 'wind', 'services', 'save', 'report', 'migrants', 'head', 'explode', 'charged', 'change', 'big', 'also', 'wrecked', 'warning', 'update', 'run', 'rescuers', 'released', 'photo', 'massacre', 'injury', 'hurricane', 'high', 'hail', 'fuck', 'does', 'destroyed', 'bus', 'blood', '40', '\\x89ÛÒ', 'wreckage', 'violent', 'twister', 'trauma', 'tragedy', 'terrorism', 'survivors', 'survived', 'sinkhole', 'sandstorm', 'road', 'rioting', 'red', 'real', 'put', 'post', 'national', 'missing', 'landslide', 'keep', 'girl', 'drought', 'curfew', 'breaking', 'bags', 'white', 'twitter', 'tonight', 'structural', 'spill', 'service', 'screamed', 'rescued', 'rescue', 'phone', 'ok', 'oh', 'mosque', 'lives', 'horrible', 'harm', 'game', 'dust', 'destruction', 'deluge', 'deaths', 'crashed', 'cliff', 'catastrophe', 'boat', 'away', 'august', 'area', 'apocalypse', 'woman', 'whirlwind', 'traumatised', 'stock', 'saw', 'ruin', 'riot', 'quarantine', 'kills', 'island', 'investigators', 'ill', 'hostages', 'hazard', 'danger', 'call', '15', 'women', 'windstorm', 'things', 'suspect', 'show', 'reunion', 'quarantined', 'lava', 'heart', 'engulfed', 'detonate', 'crush', 'collapsed', 'came', 'better', 'battle', 'armageddon', 'airplane', 'against', 'affected', 'use', 'trapped', 'thank', 'sunk', 'story', 'send', 'part', 'other', 'must', 'mudslide', 'market', 'iran', 'famine', 'exploded', 'electrocuted', 'ebay', 'displaced', 'derailed', 'derail', 'burned', 'bombed', 'blown', 'baby', 'around', 'zone', 'wave', 'wanna', 'sure', 'someone', 'screams', 'razed', 'power', 'obliterated', 'long', 'land', 'hundreds', 'heard', 'group', 'flattened', 'drown', 'doing', 'care', 'bridge', 'bagging', '9', 'went', 'used', 'typhoon', 'trouble', 'tornado', 'thought', 'thing', 'river', 'responders', 'past', 'pandemonium', 'officials', 'meltdown', 'lot', 'least', 'inundated', 'id', 'hostage', 'hijacking', 'hazardous', 'goes', 'drowning', 'didnt', 'devastation', 'demolish', 'collide', 'casualties', 'calgary', 'bang', 'anniversary', 'yet', 'wounds', 'volcano', 'tsunami', 'sue', 'st', 'song', 'something', 'shoulder', 'security', 'prebreak', 'possible', 'pkk', 'panicking', 'obliteration', 'obliterate', 'murderer', 'minute', 'light', 'lets', 'kill', 'isis', 'india', 'hijacker', 'hellfire', 'government', 'few', 'evacuated', 'due', 'detonated', 'desolation', 'crushed', 'chemical', 'blew', 'blazing', 'blast', 'annihilated', 'airport', '6', 'week', 'upheaval', 'trying', 'three', 'thanks', 'sound', 'soon', 'sirens', 'rainstorm', 'plane', 'music', 'making', 'kids', 'issues', 'half', 'guys', 'fedex', 'done', 'died', 'detonation', 'days', 'cyclone', 'county', 'collision', 'caused', 'catastrophic', 'bleeding', 'beautiful', '8', 'words', 'very', 'traffic', 'south', 'remember', 'policy', 'place', 'nothing', 'north', 'mp', 'longer', 'left', 'israeli', 'hell', 'fun', 'drowned', 'demolished', 'cool', 'both', 'bioterror', 'believe', 'avalanche', 'arson', 'turkey', 'snowstorm', 'site', 'shot', 'shooting', 'pic', 'nowplaying', 'media', 'islam', 'inside', 'hijack', 'helicopter', 'fight', 'fatality', 'fan', 'electrocute', 'doesnt', 'building', 'brown', 'bc', 'actually', '16yr', 'yes', 'watching', 'wait', 'ur', 'tell', 'swallowed', 'seismic', 'second', 'rubble', 're\\x89Û', 'plans', 'men', 'memories', 'line', 'la', 'horror', 'health', 'having', 'find', 'eyewitness', 'deluged', 'children', 'bush', 'anything', 'already', 'almost', 'aircraft', 'yourself', 'yeah', 'whats', 'tomorrow', 'such', 'start', 'side', 'searching', 'saved', 'reactor', 'probably', 'play', 'person', 'peace', 'outside', 'officer', 'nearby', 'n', 'maybe', 'lost', 'literally', 'hours', 'hear', 'far', 'die', 'demolition', 'data', 'crews', 'conclusively', 'business', 'american', '20', '\\x89ÛÓ', 'west', 'waves', 'team', 'street', 'stay', 'soudelor', 'reuters', 'manslaughter', 'leather', 'job', 'history', 'hey', 'feeling', 'eyes', 'everything', 'declares', 'deal', 'casualty', 'bodies', 'amid', 'ablaze', '7', '50', '30', '12', 'youth', 'wont', 'wake', 'theyre', 'support', 'stretcher', 'same', 'rise', 'picking', 'photos', 'own', 'others', 'order', 'omg', 'okay', 'name', 'myself', 'money', 'makes', 'leave', 'lab', 'gt', 'gets', 'flag', 'desolate', 'crisis', 'center', 'book', 'blight', 'blaze', 'ago', 'abc', '11yearold', 'womens', 'typhoondevastated', 'tv', 'trench', 'trains', 'texas', 'space', 'siren', 'shes', 'self', 'saipan', 'reason', 'rd', 'pretty', 'pick', 'offensive', 'move', 'meek', 'major', 'm', 'low', 'lord', 'huge', 'hat', 'flash', 'feared', 'fast', 'effect', 'course', 'country', 'control', 'class', 'child', 'chance', 'caught', 'called', 'bioterrorism', 'bestnaijamade', 'become', 'bar', 'banned', 'ball', 'aug', 'annihilation', 'wrong', 'win', 'usa', 'united', 'town', 'totally', 'toddler', 'though', 'temple', 'taken', 'stand', 'spot', 'signs', 'ship', 'pakistan', 'online', 'level', 'ladies', 'jobs', 'isnt', 'happy', 'hailstorm', 'friends', 'disea', 'damn', 'couple', 'case', 'blue', 'bigger', 'america', 'across', '10', 'yours', 'village', 'try', 'transport', 'talk', 'seen', 'russian', 'radio', 'projected', 'once', 'official', 'needs', 'nearly', 'mount', 'might', 'mayhem', 'instead', 'hollywood', 'haha', 'guy', 'gun', 'green', 'front', 'finally', 'favorite', 'experts', 'entire', 'east', 'daily', 'crazy', 'computers', 'coaches', 'christian', 'china', 'blizzard', 'anyone', 'aint', 'action', '25', 'virgin', 'vehicle', 'truth', 'trust', 'takes', 't', 'star', 'sorry', 'running', 'refugio', 'reddits', 'poor', 'pain', 'mom', 'miners', 'marks', 'looking', 'knock', 'issued', 'insurance', 'ignition', 'houses', 'heavy', 'hate', 'hard', 'happened', 'global', 'giant', 'gbbo', 'flight', 'eye', 'emmerdale', 'driver', 'devastated', 'd', 'costlier', 'cnn', 'cars', 'camp', 'beach', 'arsonist', 'angry', 'alone', 'added', '05', 'york', 'wonder', 'uk', 'turn', 'taking', 'subreddits', 'sounds', 'scared', 'russia', 'rly', 'reports', 'ready', 'quiz', 'public', 'property', 'pradesh', 'ppl', 'playing', 'pay', 'parole', 'pamela', 'pakistani', 'outrage', 'niggas', 'nagasaki', 'myanmar', 'muslims', 'mop', 'madhya', 'mad', 'lmao', 'learn', 'large', 'govt', 'give', 'gems', 'gave', 'funtenna', 'fukushima', 'former', 'film', 'earth', 'drive', 'downtown', 'dog', 'comes', 'closed', 'cake', 'british', 'bring', 'bbc', 'b', 'appears', 'aftershock', '13', '11', 'young', 'wow', 'worst', 'waving', 'washington', 'wanted', 'vs', 'view', 'upon', 'tweet', 'tree', 'tote', 'thousands', 'thinking', 'theater', 'soul', 'sky', 'sign', 'shows', 'shift', 'seeing', 'sea', 'scene', 'safety', 'rules', 'rock', 'reported', 'r', 'pray', 'playlist', 'patience', 'passengers', 'park', 'nws', 'nigerian', 'morning', 'moment', 'mode', 'listen', 'likely', 'libya', 'led', 'israel', 'human', 'hiring', 'handbag', 'hand', 'gop', 'geller', 'gas', 'galactic', 'friend', 'france', 'following', 'follow', 'fashion', 'enough', 'else', 'driving', 'drake', 'don\\x89Ûªt', 'disease', 'declaration', 'cut', 'colorado', 'chinas', 'chile', 'centre', 'businesses', 'biggest', 'behind', 'bed', 'bayelsa', 'awesome', 'arrested', 'apollo', 'ancient', '70th', '100', 'x', 'working', 'wednesday', 'wasnt', 'unconfirmed', 'twelve', 'turned', 'tried', 'thursday', 'terror', 'super', 'sex', 'secret', 'sad', 'risk', 'recount', 'problem', 'potus', 'planned', 'parents', 'occurred', 'number', 'neighbours', 'mph', 'militants', 'middle', 'link', 'landing', 'lamp', 'info', 'idea', 'holding', 'governor', 'glad', 'germs', 'firefighters', 'escape', 'ebola', 'early', 'dude', 'deep', 'date', 'cree', 'claims', 'cdt', 'break', 'ave', 'art', 'anthrax', '60', '16', '12000', 'worse', 'worlds', 'western', 'wants', 'wall', 'walk', 'using', 'true', 'till', 'started', 'spring', 'small', 'silver', 'serious', 'provoke', 'played', 'party', 'nice', 'mountain', 'months', 'mod', 'miss', 'mishaps', 'metal', 'med', 'lies', 'lake', 'lady', 'japanese', 'involving', 'investigating', 'internet', 'hour', 'helping', 'havent', 'gtgt', 'funny', 'force', 'financial', 'faux', 'falling', 'expected', 'download', 'direction', 'department', 'denver', 'delivers', 'crematoria', 'coast', 'climate', 'ca', 'buy', 'bombs', 'album', 'alarm', 'ahead', 'account', 'aba', '\\x89ÛÏwhen', 'youll', 'wish', 'wedding', 'victims', 'udhampur', 'turkish', 'travel', 'took', 'told', 'together', 'todays', 'threat', 'sun', 'stories', 'sick', 'shots', 'share', 'series', 'sense', 'season', 'saying', 'salt', 'room', 'record', 'purse', 'prepare', 'plunging', 'philippines', 'pass', 'p', 'offroad', 'nigga', 'members', 'means', 'louis', 'london', 'living', 'linked', 'king', 'join', 'international', 'information', 'horse', 'hasnt', 'happening', 'guide', 'guess', 'ground', 'future', 'friday', 'four', 'feat', 'fact', 'expect', 'etc', 'door', 'different', 'dies', 'de', 'company', 'comment', 'causes', 'career', 'cameroon', 'begin', 'australia', 'arent', 'answer', 'along', 'allows', 'alabama', 'airlines', 'act', '600', '2014', '17', 'wtf', 'worry', 'wife', 'weekend', 'walking', 'victim', 'v', 'utc20150805', 'trump', 'tho', 'text', 'test', 'teen', 'taiwan', 'tablet', 'syrian', 'strike', 'straight', 'states', 'short', 'ships', 'shape', 'setting', 'sensorsenso', 'search', 'rocky', 'research', 'reading', 'rather', 'rate', 'press', 'piece', 'phoenix', 'orders', 'ones', 'nyc', 'minutes', 'million', 'michael', 'mean', 'map', 'lucky', 'killing', 'jonathan', 'islamic', 'internally', 'interesting', 'indian', 'hero', 'happens', 'happen', 'hair', 'giving', 'girls', 'general', 'freak', 'fighting', 'felt', 'feels', 'fat', 'fans', 'episode', 'enugu', 'effects', 'each', 'e', 'drunk', 'double', 'dogs', 'destroys', 'desires', 'dc', 'dance', 'dan', 'cover', 'court', 'complete', 'cold', 'close', 'changes', 'carrying', 'captures', 'cable', 'buses', 'brooklyn', 'board', 'blocked', 'bit', 'between', 'ban', 'ashes', 'arianagrande', 'apc', 'animal', 'amazon', 'alive', 'agree', 'africa', 'absolutely', '2nd', '24', '2013', '1st', '19', '18', '0', 'yall', 'wrought', 'worth', 'winds', 'vote', 'version', 'upset', 'un', 'trent', 'trees', 'training', 'tracks', 'total', 'technology', 'suspected', 'strong', 'standard', 'stadium', 'specially', 'special', 'sometimes', 'soldiers', 'snow', 'smaug', 'sleeping', 'single', 'sh', 'selfimage', 'route', 'ross', 'roosevelt', 'response', 'repatriated', 'remove', 'radiation', 'queen', 'program', 'prevent', 'population', 'picture', 'petition', 'palestinian', 'office', 'nc', 'navy', 'moving', 'millions', 'metro', 'meet', 'mediterranean', 'marians', 'leaving', 'lead', 'late', 'kit', 'killer', 'image', 'hold', 'hobo', 'hello', 'handbags', 'gunman', 'grows', 'gotta', 'gone', 'gold', 'games', 'fully', 'french', 'foxnews', 'feet', 'express', 'examining', 'event', 'evening', 'either', 'dr', 'dangerous', 'dad', 'currently', 'cranes', 'cops', 'colour', 'chicago', 'central', 'causing', 'cat', 'cannot', 'canada', 'calls', 'brother', 'broke', 'box', 'beyond', 'beat', 'based', 'avoid', 'anymore', 'afghanistan', 'able', 'abandoned', '22', '1980', '14', '06', 'yyc', 'wwii', 'word', 'won', 'woke', 'videos', 'usgs', 'usatoday', 'updates', 'tribal', 'trfc', 'totaling', 'thunderstorms', 'tension', 'tears', 'target', 'talking', 'supposed', 'sunday', 'stuff', 'students', 'struggles', 'starts', 'stage', 'squad', 'spos', 'spaceship', 'son', 'sitting', 'sismo', 'shut', 'shouldnt', 'shall', 'seeks', 'seek', 'screen', 'saving', 'san', 'runs', 'relief', 'region', 'reasons', 're', 'question', 'president', 'point', 'pile', 'perfect', 'percent', 'pdp', 'paul', 'open', 'municipal', 'motorcyclist', 'month', 'modified', 'match', 'main', 'lots', 'lose', 'lie', 'less', 'leading', 'later', 'kinda', 'keeps', 'insurer', 'industry', 'imagine', 'ice', 'hunt', 'hospital', 'honestly', 'hilarious', 'ft', 'forever', 'forecast', 'football', 'fleets', 'five', 'fears', 'extreme', 'everywhere', 'emotional', 'drink', 'dream', 'damaged', 'da', 'cruz', 'crime', 'create', 'cook', 'confirms', 'completely', 'community', 'combo', 'coffee', 'cancer', 'c130', 'brought', 'broken', 'boys', 'books', 'block', 'began', 'bay', 'babies', 'attacks', 'ask', 'apply', 'ap', 'antioch', 'among', 'allah', 'according', '911', '4000', '31', '2011', 'yo', 'worldnews', 'wmata', 'wired', 'welcome', 'watched', 'wars', 'waiting', 'usually', 'units', 'understand', 'tropical', 'tram', 'tonto', 'tips', 'time20150806', 'tickets', 'thx', 'terrorists', 'system', 'streets', 'stream', 'stopped', 'sports', 'spent', 'sir', 'simple', 'signed', 'shower', 'shares', 'shame', 'sent', 'seems', 'secrets', 'seconds', 'seattle', 'saturday', 'satellite', 'rule', 'round', 'rip', 'ridge', 'richmond', 'review', 'return', 'repair', 'rea\\x89Û', 'quite', 'pressure', 'practice', 'potential', 'pool', 'plus', 'pilot', 'pics', 'parenthood', 'owner', 'outlook', 'original', 'opens', 'opening', 'onto', 'oklahoma', 'ocean', 'o784', 'o', 'nursing', 'nah', 'mortal', 'mix', 'mine', 'mention', 'mediterran', 'matter', 'massive', 'mary', 'lt', 'loving', 'loved', 'list', 'limited', 'lil', 'leads', 'leader', 'kombat', 'kid', 'kick', 'justinbieber', 'issue', 'irandeal', 'inner', 'incident', 'impact', 'humanity', 'hobbit', 'hits', 'himself', 'highway', 'hi', 'heres', 'hawaii', 'hands', 'guns', 'grill', 'greatest', 'gov', 'gm', 'gay', 'forget', 'firefighter', 'fine', 'final', 'false', 'facebook', 'faan', 'exploration', 'exit', 'exchanging', 'epic', 'el', 'edm', 'earlier', 'drinking', 'disco', 'directioners', 'deadly', 'david', 'dark', 'crying', 'cost', 'continue', 'concerned', 'companies', 'common', 'civilians', 'civilian', 'character', 'cases', 'careful', 'canyon', 'calling', 'burn', 'build', 'browser', 'bro', 'bringing', 'bought', 'blog', 'birthday', 'bin', 'bicyclist', 'ben', 'battlefield', 'arrived', 'ar', 'amazing', 'afternoon', 'acres', 'accidents', 'abstorm', '90', '500', '26', 'you\\x89Ûªve', 'youve', 'yesterday', 'wx', 'writing', 'worked', 'within', 'wildfires', 'weird', 'ways', 'warnings', 'wa', 'vuitton', 'voice', 'visit', 'vietnam', 'unless', 'universe', 'trip', 'township', 'tongue', 'toilet', 'thomas', 'tent', 'tank', 'syria', 'survival', 'stupid', 'stone', 'steve', 'starting', 'sport', 'somalia', 'social', 'smh', 'sleep', 'situation', 'shoes', 'seven', 'sensor', 'sees', 'seat', 'science', 'sadly', 'rubber', 'roof', 'roads', 'result', 'respond', 'replace', 'remains', 'related', 'reduce', 'recovery', 'realise', 'rare', 'rail', 'quote', 'quickly', 'quick', 'pussy', 'protect', 'problems', 'price', 'preparedness', 'powerful', 'posts', 'portland', 'pop', 'political', 'points', 'player', 'photography', 'pathogens', 'officers', 'none', 'needed', 'nature', 'mumbai', 'ms', 'mr', 'moments', 'missed', 'minecraft', 'mill', 'mile', 'md', 'mayan', 'manchester', 'malaysian', 'loss', 'loose', 'listening', 'lion', 'linkury', 'lights', 'lifted', 'laden', 'knew', 'kindle', 'jeb', 'it\\x89Ûªs', 'italian', 'iraq', 'invoices', 'inundation', 'inj', 'including', 'illegal', 'i5', 'hwy', 'hwo', 'httptcoqew4c5m1xd', 'hill', 'hearing', 'headed', 'ha', 'guardian', 'gods', 'glass', 'genocide', 'gaza', 'freakiest', 'fort', 'forces', 'fog', 'fish', 'feminists', 'fell', 'fantasy', 'falls', 'f', 'experience', 'exchange', 'except', 'equipment', 'epicentre', 'ep', 'ended', 'em', 'economy', 'economic', 'dropped', 'dozens', 'disney', 'discovered', 'di', 'created', 'continues', 'conference', 'computer', 'clutch', 'church', 'choice', 'china\\x89Ûªs', 'chief', 'cheese', 'charity', 'canaanites', 'burns', 'bruh', 'broadway', 'brain', 'bout', 'bombings', 'beyhive', 'bet', 'baseball', 'bank', 'automatic', 'audio', 'attention', 'asking', 'asked', 'articles', 'areas', 'arabia', 'angel', 'al', 'ah', 'add', 'access', '4x4', '3g', '1000', 'zombie', 'yrs', 'ya', 'xd', 'write', 'wouldnt', 'wins', 'wings', 'window', 'wheavenly', 'weeks', 'wed', 'waste', 'vinyl', 'vine', 'veterans', 'van', 'valley', 'utc', 'updated', 'unlocked', 'unit', 'type', 'twice', 'tweets', 'tube', 'troops', 'triggered', 'trailer', 'tour', 'tough', 'touch', 'toronto', 'tom', 'toll', 'tired', 'threatens', 'thoughts', 'theatre', 'terrible', 'ten', 'tcot', 'swallows', 'sw', 'surrounded', 'surprise', 'sunset', 'subject', 'style', 'struck', 'storms', 'store', 'stops', 'steps', 'steel', 'stealing', 'stars', 'standuser', 'sparked', 'soundcloud', 'somebody', 'society', 'snap', 'slightly', 'skin', 'size', 'sit', 'sinjar', 'sidelines', 'sicily', 'shelter', 'shadow', 'several', 'september', 'senior', 'senator', 'se', 'scary', 'satchel', 'santa', 'salem', 'sale', 'safe', 'runway', 'row', 'root', 'rocks', 'rn', 'rising', 'riots', 'residents', 'republicans', 'reminds', 'remembering', 'releases', 'release', 'relatives', 'ran', 'quran', 'questions', 'putin', 'prosecuted', 'prophetmuhammad', 'project', 'prime', 'powerlines', 'poll', 'pipe', 'pilots', 'pc', 'patient', 'passing', 'parleys', 'parker', 'page', 'operation', 'officially', 'nytimes', 'ny', 'notices', 'nine', 'nashville', 'murdered', 'mt', 'movies', 'moon', 'mood', 'monogram', 'mma', 'mission', 'minister', 'mining', 'mini', 'mind', 'mikeparractor', 'mets', 'message', 'mentions', 'meeting', 'medical', 'meatloving', 'maximum', 'max', 'markets', 'maintenance', 'madinah', 'mac', 'lt3', 'lovely', 'loop', 'local', 'library', 'levels', 'legacy', 'learning', 'laws', 'lane', 'lack', 'knows', 'knee', 'kisii', 'kidnapped', 'john', 'joe', 'jackson', 'jack', 'i\\x89Ûªm', 'itunes', 'interview', 'intensity', 'indeed', 'incredible', 'ii', 'ie', 'ideas', 'hurts', 'hunters', 'humans', 'httptcoq2eblokeve', 'httptcoencmhz6y34', 'homeless', 'heroes', 'held', 'heads', 'h', 'gunfire', 'gta', 'gotten', 'given', 'girlfriend', 'german', 'fruit', 'fr', 'foxtrot', 'forced', 'followers', 'focus', 'florida', 'floor', 'flat', 'fix', 'fired', 'female', 'feed', 'failed', 'fail', 'exp', 'executives', 'evil', 'everyday', 'estimate', 'entertainment', 'enjoy', 'england', 'enemy', 'electronic', 'edt', 'edition', 'eat', 'dying', 'dubstep', 'drone', 'drill', 'dollar', 'documents', 'dnb', 'distance', 'destiny', 'defense', 'debate', 'cuz', 'cute', 'curved', 'criminals', 'crap', 'cramer', 'couldnt', 'costs', 'cop', 'consider', 'congress', 'conditions', 'concert', 'complex', 'co', 'club', 'click', 'chinese', 'charging', 'ceo', 'carry', 'card', 'capsizes', 'can\\x89Ûªt', 'calories', 'calm', 'calif', 'c', 'by\\x89Û', 'button', 'butter', 'burst', 'budget', 'broad', 'brazil', 'boston', 'blvd', 'blk', 'blessings', 'blessed', 'blamed', 'bells', 'bear', 'awful', 'avoiding', 'authorities', 'australian', 'associated', 'arrive', 'arms', 'apparently', 'app', 'animalrescue', 'amsterdam', 'aka', 'aim', 'af', 'advisory', 'adult', 'actions', 'accidentally', 'above', '5km', '53inch', '4wd', '35', '300w', '1945', 'zionist', 'z10', 'youngheroesid', 'youd', 'yobe', 'yay', 'xbox', 'ww1', 'written', 'wouldve', 'worried', 'workers', 'wondering', 'wonderful', 'wo', 'williams', 'whos', 'whether', 'wet', 'weed', 'wearing', 'wealth', 'warship', 'warns', 'viralspell', 'violence', 'vehicles', 'usual', 'users', 'upper', 'unveiled', 'ultimate', 'ugh', 'twia', 'tryna', 'truly', 'treatment', 'treat', 'trapmusic', 'trap', 'traditional', 'track', 'towel', 'toward', 'tornadoes', 'title', 'thus', 'throwing', 'thriller', 'threatening', 'theyll', 'tennessee', 'tempered', 'ted', 'tech', 'teams', 'tea', 'tbt', 'tax', 'tag', 'sydney', 'swim', 'sweet', 'surprised', 'stuart', 'structures', 'structure', 'streak', 'strategy', 'strange', 'stranded', 'status', 'statement', 'staff', 'springs', 'spirit', 'spider', 'spanish', 'somehow', 'solution', 'solar', 'socialnews', 'smoking', 'sister', 'singing', 'sing', 'shop', 'shipping', 'shepherd', 'sharp', 'sexual', 'served', 'seriously', 'serial', 'sentinel', 'sarah', 'sac', 'rÌ©union', 'romance', 'roll', 'revealed', 'results', 'restore', 'rest', 'responsible', 'responds', 'respect', 'residential', 'reporting', 'reno', 'remain', 'register', 'reduced', 'rear', 'realized', 'read\\x89Û', 'ray', 'rape', 'rally', 'rains', 'quest', 'quality', 'putting', 'purple', 'pump', 'protector', 'prophet', 'profile', 'prices', 'pres', 'pov', 'port', 'politics', 'plug', 'plot', 'playoffs', 'planet', 'plains', 'plague', 'places', 'piling', 'picked', 'physical', 'philly', 'persons', 'personal', 'peanut', 'patrick', 'parts', 'paper', 'pantherattack', 'pak', 'owners', 'option', 'okwx', 'of\\x89Û', 'offer', 'numbers', 'nuke', 'normal', 'newest', 'nd', 'naved', 'nation', 'nasahurricane', 'named', 'museum', 'murderous', 'moves', 'moved', 'motor', 'mo', 'mlb', 'miles', 'migrant', 'mido', 'microlight', 'mhtw4fnet', 'mess', 'memory', 'memorial', 'maria', 'mansehra', 'manager', 'management', 'mail', 'lungs', 'luck', 'lowndes', 'lower', 'loves', 'lorries', 'looting', 'looked', 'let\\x89Ûªs', 'legal', 'law', 'laughing', 'larger', 'justice', 'july', 'judge', 'jewish', 'jet', 'jamaica', 'jam', 'jacksonville', 'itself', 'italy', 'ir', 'iphone', 'insane', 'injuryi495', 'increased', 'iii', 'igers', 'ices\\x89Û', 'icemoon', 'i77', 'hungry', 'httptcovvplfqv58p', 'httptcoksawlyux02', 'housing', 'hotel', 'hopefully', 'hip', 'hearts', 'hd', 'guillermo', 'gtgtgt', 'grow', 'grey', 'grade', 'grace', 'google', 'golf', 'goal', 'germany', 'george', 'generation', 'gang', 'gabon', 'fresh', 'freedom', 'fox', 'finnish', 'fighters', 'field', 'festival', 'fav', 'fake', 'faced', 'extremely', 'extra', 'external', 'explosionproof', 'experiments', 'exactly', 'everyones', 'estimated', 'especially', 'eruption', 'error', 'energy', 'ends', 'ems', 'elephant', 'electrical', 'effort', 'education', 'easy', 'dvd', 'duty', 'dutch', 'drug', 'drop', 'drones', 'drawn', 'dramatic', 'djicemoon', 'diving', 'disrupts', 'disneys', 'diet', 'details', 'depth', 'demand', 'degrees', 'decided', 'debt', 'deals', 'darude', 'dare', 'damages', 'cry', 'crossed', 'cream', 'covers', 'covered', 'countries', 'copilot', 'considering', 'conflict', 'confirm', 'combined', 'collisionno', 'collection', 'clip', 'clear', 'clean', 'classic', 'civil', 'cities', 'cinema', 'cia', 'christmas', 'christians', 'charge', 'characters', 'certain', 'campaign', 'built', 'buffalo', 'bride', 'brakes', 'bowl', 'boss', 'bob', 'blind', 'blackberry', 'bjp', 'bitch', 'be\\x89Û', 'below', 'beginning', 'becomes', 'became', 'beam', 'bb17', 'bat', 'bargain', 'b4', 'australias', 'asap', 'article', 'approaches', 'anyway', 'anti', 'annual', 'animals', 'anchorage', 'amongst', 'americans', 'alps', 'allow', 'aid', 'age', 'afterlife', 'afraid', 'afghan', 'advance', 'address', 'acts', 'activity', 'activated', 'abuse', 'abcnews', '97georgia', '731', '3d', '33', '320', '300', '101', 'åÊ', '\\x89Û÷politics', '\\x89ÛÏthe', '\\x89ÛÏa', 'zouma', 'z', 'yr', 'yazidis', 'y', 'xp', 'wy', 'writer', 'wound', 'worstsummerjob', 'wood', 'wither', 'wit', 'wireless', 'wire', 'winston', 'windows', 'wheres', 'whao', 'weve', 'werent', 'website', 'wash', 'warfighting', 'wanting', 'walmart', 'waimate', 'vulnerable', 'votejkt48id', 'vintage', 'vets', 'values', 'val', 'vacant', 'va', 'utterly', 'utter', 'uses', 'usagov', 'uribe', 'unsuckdcmetro', 'unlocking', 'university', 'union', 'understanding', 'ugly', 'uganda', 'twin', 'tutorial', 'turns', 'turbine', 'tubestrike', 'trucks', 'trolley', 'tripledigit', 'tribune', 'trial', 'transit', 'tracking', 'tools', 'tons', 'todd', 'time20150805', 'throw', 'thousand', 'theyve', 'theory', 'themselves', 'th', 'temporary300', 'telling', 'taste', 'targeting', 'tampa', 'table', 'swimming', 'swansea', 'supreme', 'summerfate', 'suffer', 'sucks', 'success', 'subs', 'sub', 'study', 'stress', 'strategicpatience', 'stir', 'stereo', 'station', 'starter', 'stands', 'stabbing', 'stab', 'sprinter', 'spend', 'speaking', 'speaker', 'sparks', 'spain', 'sp', 'southern', 'southeast', 'southampton', 'sources', 'source', 'soup', 'sophie', 'someones', 'smithsonian', 'smile', 'slow', 'slide', 'slanglucci', 'skinny', 'sixth', 'six', 'sisters', 'simulate', 'silence', 'shell', 'sets', 'senate', 'selfie', 'section', 'sean', 'scott', 'score', 'scientists', 'schools', 'scheme', 'schedule', 'sat', 'sandiego', 'sanctions', 'safer', 'sa', 'rs', 'rose', 'rolling', 'rohingya', 'rockyfire', 'rockin', 'rocket', 'robots', 'robert', 'rob', 'rises', 'ring', 'rights', 'ridiculous', 'rider', 'ride', 'richard', 'reward', 'reveals', 'responsibility', 'republican', 'reportedly', 'replacing', 'remembered', 'regular', 'refugee', 'redlight', 'recommend', 'recognize', 'recently', 'recent', 'recall', 'reap', 'realize', 'reality', 'reaching', 'reach', 'rapidly', 'raining', 'rage', 'radar', 'racist', 'race', 'pulls', 'pulled', 'ps', 'providence', 'protest', 'prompts', 'promises', 'promise', 'progress', 'produced', 'probe', 'pro', 'prison', 'prior', 'print', 'prince', 'primary', 'previously', 'prepared', 'pregnant', 'predicted', 'predict', 'precipitation', 'prabhu', 'poverty', 'posted', 'positive', 'pls', 'players', 'plate', 'planted', 'plant', 'plaguing', 'pitch', 'pipeline', 'photoshop', 'phones', 'perhaps', 'pepper', 'pbban', 'path', 'passenger', 'parking', 'palms', 'palestinians', 'palestine', 'painting', 'packs', 'pacific', 'pace', 'overnight', 'outdoor', 'otrametlife', 'oppressions', 'opposite', 'opinion', 'opened', 'oops', 'omfg', 'olympic', 'okanagan', 'often', 'offers', 'occasion', 'nw', 'nurse', 'nu', 'np', 'notice', 'nobody', 'nigeria', 'nicki', 'newyork', 'newlyweds', 'network', 'nema', 'negative', 'nb', 'nasa', 'mystery', 'muslim', 'muscle', 'multiple', 'mtvhottest', 'mourning', 'mountains', 'motorcycle', 'mother', 'morgan', 'monsoon', 'minds', 'min', 'michigan', 'michael5sos', 'miami', 'mexico', 'messenger', 'mens', 'memes', 'measurement', 'meant', 'meals', 'materials', 'maryland', 'marked', 'mark', 'mansion', 'mama', 'mall', 'majority', 'magic', 'machine', 'lunch', 'lulgzimbestpicts', 'lowly', 'losses', 'losing', 'los', 'longest', 'lonely', 'logo', 'location', 'loan', 'load', 'lmfao', 'listed', 'lip', 'lightening', 'lez', 'leveled', 'letting', 'letters', 'lethal', 'legit', 'leaves', 'league', 'leaders', 'largest', 'kyle', 'known', 'kind', 'kerricktrial', 'kept', 'kca', 'karymsky', 'jst', 'joy', 'jordan', 'jeans', 'japÌn', 'i\\x89Û', 'iranian', 'invalid', 'internal', 'intern', 'interested', 'interest', 'insurers', 'instagram', 'innocent', 'include', 'impossible', 'images', 'ig', 'idp', 'idk', 'idfire', 'hurt', 'huh', 'hughes', 'huffman', 'httptcozujwuiomb3', 'httptcowvj39a3bgm', 'httptcoviwxy1xdyk', 'httptcothoyhrhkfj', 'httptcolvlh3w3awo', 'httpstcomoll5vd8yd', 'hosting', 'host', 'horses', 'horrific', 'hop', 'honors', 'holy', 'holland', 'holiday', 'hole', 'hitting', 'hills', 'highest', 'hieroglyphics', 'here\\x89Ûªs', 'heights', 'heaven', 'headphones', 'heading', 'haunting', 'hated', 'harry', 'harbor', 'haram', 'gusty', 'gusts', 'groups', 'grief\\x89Ûª', 'grenade', 'grazed', 'grateful', 'grab', 'gift', 'garden', 'gained', 'g', 'fwy', 'further', 'fund', 'fuel', 'fucked', 'frontline', 'forward', 'forgotten', 'forgot', 'forbes', 'follows', 'fly', 'floyds', 'flooded', 'flew', 'flags', 'fits', 'fingers', 'finds', 'fights', 'fifth', 'fettilootch', 'feeding', 'fbi', 'father', 'fate', 'faster', 'farrakhan', 'fantastic', 'famous', 'falcon', 'faith', 'factory', 'explains', 'expert', 'exist', 'ex', 'eventually', 'events', 'europe', 'estate', 'equal', 'epilepsy', 'entered', 'enter', 'enjoying', 'english', 'emotions', 'elevated', 'elem', 'electric', 'election', 'efforts', 'edinburgh', 'eden', 'ebike', 'eating', 'easily', 'earrings', 'earners', 'dtn', 'dry', 'drugs', 'drove', 'driven', 'dress', 'dragon', 'doubt', 'dk', 'diss', 'dinner', 'diamond', 'detectado', 'desire', 'designs', 'design', 'description', 'derails', 'deputies', 'dependency', 'democracy', 'delays', 'degree', 'defend', 'decisions', 'decision', 'decide', 'dear', 'daughters', 'daughter', 'dam', 'dallas', 'cyclist', 'current', 'cupcake', 'cup', 'crowd', 'crater', 'crashes', 'cr', 'cousin', 'couples', 'counselor', 'cotton', 'cos', 'cord', 'copycat', 'constantly', 'concerns', 'concern', 'compliant', 'communities', 'commercial', 'comments', 'collapses', 'cofounder', 'cock', 'clouds', 'cloud', 'clinton', 'client', 'cleveland', 'clev', 'clearly', 'cleanup', 'clash', 'claim', 'chill', 'childhood', 'chicagoarea', 'chelsea', 'charts', 'charlie', 'charles', 'channel', 'challenge', 'certainly', 'cell', 'cdc', 'caution', 'cats', 'catch', 'cast', 'carryi', 'captured', 'capture', 'captain', 'capacity', 'cancel', 'campus', 'californias', 'calamity', 'bulletin', 'bug', 'buckle', 'brutally', 'brothers', 'brings', 'braking', 'boxer', 'bound', 'boot', 'bluetooth', 'bluejays', 'blows', 'blocking', 'bless', 'bitches', 'bid', 'bff', 'beyonce', 'benefits', 'bell', 'begins', 'bees', 'beer', 'bedroom', 'beats', 'bears', 'battling', 'battery', 'bathroom', 'base', 'bands', 'bake', 'averted', 'average', 'av', 'auth', 'aussie', 'auctions', 'attacking', 'atlanta', 'assistance', 'asian', 'asia', 'arabian', 'apple', 'anybody', 'answers', 'ankle', 'angeles', 'analysis', 'america\\x89Ûªs', 'americas', 'allowed', 'alleged', 'alert', 'alcohol', 'alberta', 'alaska', 'agreed', 'admits', 'active', 'activates', 'accuses', 'ability', 'abbswinston', '852015', '80s', '800', '6aug', '5pm', '5000', '48', '3rd', '39', '370', '360wisenews', '34', '2pm', '2pcs', '29072015', '23', '21', '2030', '2009', '18w', '13000', '125', '1200', '10th', '02', 'å¨', '\\x89Û÷extremely', '\\x89ÛÏwe', '\\x89ÛÏrichmond', '\\x89ÛÏhatchet', 'zayn', 'yugvani', 'yorker', 'yep', 'yemen', 'yea', 'yahoonews', 'yahoo', 'xxx', 'wwi', 'wrapup', 'worldnetdaily', 'wom', 'wnd', 'witter', 'winter', 'willing', 'widespread', 'wicked', 'wi', 'wht', 'whales', 'weight', 'wee', 'weathernetwork', 'wear', 'weak', 'waterways', 'waterresistant', 'washed', 'warships', 'warned', 'warne', 'warn', 'warcraft', 'wannabe', 'walls', 'walker', 'voter', 'volga', 'vladimir', 'visited', 'virus', 'virgil', 'vip', 'villages', 'villagers', 'vid', 'vet', 'vest', 'vermont', 'verdict', 'venezuela', 'vegetarian', 'vegas', 'variety', 'vampiro', 'vacation', 'usnwsgov', 'urgent', 'unsafe', 'unknown', 'uniform', 'underway', 'undercover', 'unawares', 'unavoidable', 'ud', 'uber', 'tyre', 'ty', 'twins', 'turning', 'tunnel', 'tune', 'ts', 'trubgme', 'trs', 'triple', 'tries', 'trials', 'transporting', 'transformation', 'transfer', 'trafford', 'tr', 'towards', 'torch', 'tooth', 'tool', 'tonights', 'tomorrows', 'tmp', 'titan', 'tinyjecht', 'timeline', 'tilnow', 'til', 'tied', 'tie', 'ticket', 'thru', 'threats', 'third', 'thinks', 'thin', 'thick', 'the\\x89Û', 'theyd', 'therapy', 'that\\x89Ûªs', 'tflbusalerts', 'tf', 'tested', 'terrifying', 'terms', 'temper', 'tells', 'telegraph', 'teaching', 'teachers', 'tdp', 'tb', 'taxiways', 'targets', 'talks', 'talent', 'taco', 'tab\\x89Û', 'systems', 'sympathy', 'swing', 'swells', 'sweden', 'suv', 'survivor', 'surge', 'surface', 'surf', 'surely', 'surah', 'supervisor', 'superhero', 'suffering', 'suffered', 'stylish', 'stuck', 'strikes', 'stressed', 'stomach', 'stewart', 'stepped', 'stephen', 'step', 'steam', 'stays', 'startup', 'starring', 'standing', 'stamp', 'spinningbot', 'spinning', 'speed', 'specimens', 'specific', 'specif', 'spears', 'souls', 'songs', 'soldier', 'socialism', 'smoky', 'sm', 'slowly', 'slower', 'slip', 'slate', 'skirt', 'skills', 'sized', 'sittwe', 'sitting\\x89Û', 'sites', 'sink', 'silvergray', 'silent', 'significant', 'sight', 'showcase', 'shoulders', 'shook', 'shocked', 'shock', 'shitty', 'shirt', 'shipwreck', 'shelby', 'shedding', 'shared', 'shanghai', 'sexy', 'settlement', 'sends', 'sending', 'seemed', 'seasons', 'screenshots', 'scotland', 'scoopit', 'scifi', 'schiphol', 'scars', 'sb', 'savebees', 'sassy', 'sand', 'sampling', 'salvation', 'salmon', 'safely', 'saddlebrooke', 'rwy', 'rworldnews', 'runner', 'ruined', 'royal', 'rome', 'roller', 'role', 'robotrainstorm', 'robinson', 'roberts', 'roanoke', 'ripped', 'rid', 'rickperry', 'rexyy', 'revolution', 'reviews', 'revenues', 'returns', 'returned', 'retail', 'resulted', 'restaurant', 'responded', 'republic', 'repeat', 'reopening', 'reminder', 'relax', 'regret', 'registered', 'regarding', 'refused', 'reflect', 'referring', 'recycling', 'recover', 'recipes', 'recalls', 'realtime', 'realmandyrain', 'realdonaldtrump', 'raynbowaffair', 'range', 'ramag', 'rainfall', 'raid', 'radioactive', 'quotes', 'queens', 'purchase', 'pun', 'pull', 'ptsdchat', 'ptsd', 'psychological', 'psychiatric', 'provide', 'protests', 'propertycasualty', 'prompted', 'profit', 'proceeds', 'procedures', 'private', 'preview', 'present', 'premium', 'premature', 'prefer', 'prayers', 'posting', 'possibly', 'portion', 'porn', 'popular', 'pond', 'poland', 'pockets', 'plays', 'planning', 'pizza', 'pisgah', 'pillow', 'pieces', 'photographer', 'pets', 'period', 'peoples', 'penalties', 'peaceful', 'pattern', 'patched', 'patch', 'passed', 'panel', 'pam', 'palin', 'pack', 'outflow', 'os', 'ornament', 'origin', 'orange', 'oral', 'opus', 'options', 'ops', 'opposition', 'oper', 'openly', 'ooh', 'ontario', 'omars', 'olive', 'older', 'olap', 'ohio', 'offensiveåÊcontent', 'offensive\\x89Ûª', 'odeon', 'odds', 'odd', 'occurs', 'occupants', 'oc', 'oak', 'nyt', 'numbered', 'nuggets', 'nsfw', 'ns', 'nri', 'noticed', 'note', 'nose', 'noncompliant', 'non', 'noise', 'nm', 'nike', 'niece', 'nickcannon', 'nfl', 'newsintweets', 'neither', 'needle', 'necessary', 'nbcnews', 'navbl', 'nations', 'nasty', 'nap', 'musician', 'multiplayer', 'mullah', 'msf', 'movement', 'mountaineering', 'moth', 'moral', 'modiministry', 'modi', 'models', 'model', 'mnpdnashville', 'mkx', 'mitt\\x89Û\\x9d', 'mitigation', 'mistake', 'mirage', 'mins', 'minority', 'minor', 'minaj', 'milkshake', 'milk', 'militant', 'mike', 'mfs', 'mf', 'metrofmtalk', 'metrics', 'method', 'mercy', 'mercury', 'mentioned', 'mentally', 'mental', 'memphis', 'member', 'melt', 'mega', 'meat', 'mcilroy', 'mcdonalds', 'mattson', 'matters', 'mate', 'matches', 'marvel', 'marker', 'marine', 'marijuana', 'manmade', 'maj', 'magnum', 'ma', 'm194', 'luis', 'lrt', 'lover', 'loses', 'lonewolffur', 'log', 'locker', 'locke', 'lock', 'local\\x89Û', 'localarsonist', 'listenlive', 'listenbuy', 'limit', 'lighting', 'lgbt', 'lessons', 'lesbian', 'leo', 'len', 'leisure', 'lego', 'legion', 'legendary', 'leg', 'leadership', 'lay', 'launch', 'laugh', 'lately', 'las', 'languages', 'langley', 'landfall', 'laid', 'l', 'kuwait', 'kurtschlichter', 'kurdish', 'korea', 'komen', 'knoxville', 'kingdom', 'kiernan', 'kicked', 'key', 'kenya', 'karachi', 'kalle', 'just\\x89Û', 'jupiters', 'julie', 'journalist', 'jon', 'joke', 'joining', 'johnson', 'johannesburg', 'joel', 'jimmyfallon', 'jesus', 'jazz', 'jays', 'jay', 'jax', 'japans', 'jan', 'james', 'jail', 'j', 'i\\x89Ûªve', 'itunesmusic', 'irish', 'ireland', 'involved', 'integrity', 'instant', 'installation', 'inst', 'inning', 'ink', 'initial', 'inevitable', 'indonesia', 'individuals', 'individual', 'independent', 'imported', 'illinois', 'ik', 'idps', 'idiot', 'icymi', 'ibooklove', 'ianhellfire', 'ian', 'hybrid', 'hurry', 'hunk', 'hunger', 'hundred', 'humidity', 'humaza', 'httptcoo91f3cyy0r', 'httptconnmqlz91o9', 'httptcocybksxhf7d', 'httptcocedcugeuws', 'httptcobbdpnj8xsx', 'httptco9nwajli9cr', 'httpstcorqwuoy1fm4', 'httpstcodehmym5lpk', 'however', 'houston', 'horrors', 'honey', 'historic', 'hillary', 'hike', 'highly', 'higher', 'helps', 'headset', 'hating', 'hatchet', 'hatcap', 'hashtag', 'harrybecareful', 'harper', 'happiness', 'hang', 'hampshire', 'hamilton', 'hamas', 'haiyan', 'gunshot', 'gunsense', 'guilty', 'guided', 'guard', 'growth', 'grown', 'grove', 'groom', 'grew', 'greg', 'greeces', 'grand', 'grabbers', 'gps', 'gopdebate', 'gon', 'goals', 'glorious', 'gives', 'gerenciatodos', 'georgia', 'genuine', 'generally', 'gem', 'gateau', 'gamergate', 'gameplay', 'fyi', 'funds', 'fuels', 'fuckin', 'frozen', 'frontpage', 'freezing', 'frank', 'fraction', 'foul', 'formed', 'forgiven', 'ford', 'footage', 'foot', 'flying', 'flower', 'floated', 'flaming', 'fkn', 'fixed', 'fitness', 'fit', 'fishing', 'finishing', 'finish', 'finger', 'filled', 'ferguson', 'feminist', 'feelings', 'fed', 'features', 'fd', 'fb', 'favourite', 'fashionable', 'faroeislands', 'farm', 'fam', 'fallen', 'fair', 'facts', 'factors', 'extends', 'exploit', 'experiencing', 'experienced', 'expensive', 'expecting', 'existence', 'excellent', 'example', 'evidence', 'euro', 'eu', 'esp', 'er', 'eq', 'environmental', 'environment', 'entering', 'enrt', 'enjoyed', 'engine', 'ending', 'encounter', 'en', 'embroidered', 'email', 'elite', 'eight', 'ego', 'eggs', 'egged', 'ee', 'editor', 'ed', 'eb', 'eaten', 'eastern', 'earthquakes', 'ear', 'dundee', 'dudes', 'dublin', 'dual', 'drives', 'drinks', 'dreams', 'drag', 'dq', 'dorrets', 'dorret', 'donate', 'donald', 'domestic', 'doc', 'dj', 'disgusting', 'discovery', 'disasters', 'disappoints', 'disappearance', 'dis', 'dirt', 'diamondkesawn', 'devalue', 'detained', 'destroying', 'despite', 'designed', 'describing', 'describes', 'dept', 'dental', 'denmark', 'dem', 'deliver', 'delay', 'definitely', 'declined', 'december', 'decades', 'dating', 'dat', 'darkness', 'daesh', 'cutting', 'curb', 'cunts', 'cum', 'cue', 'cuban', 'cta', 'csx', 'cryptic', 'crosses', 'croatian', 'cries', 'cricket', 'crew', 'crashing', 'crackdown', 'counter', 'count', 'correction', 'corners', 'cooler', 'control\\x89Û\\x9d', 'continued', 'context', 'contemplating', 'contained', 'construction', 'consequence', 'conquest', 'connector', 'condition', 'concept', 'commute', 'communication', 'commit', 'comedy', 'combat', 'columbia', 'color', 'collision1141', 'college', 'cobra', 'coastal', 'coach', 'cnbc', 'clothes', 'closures', 'closing', 'closes', 'climb', 'clearedincident', 'claytonbryant', 'cladding', 'citizens', 'circuit', 'circle', 'cigarette', 'chunks', 'chosen', 'choking', 'choices', 'chocolate', 'chicken', 'chewing', 'chevy', 'chest', 'chernobyl', 'checked', 'chases', 'charlotte', 'charges', 'charger', 'chaos', 'changed', 'chain', 'centipede', 'cecilthelion', 'cd', 'cbcca', 'cave', 'catches', 'casual', 'casper', 'carried', 'cargo', 'capsized', 'capital', 'candy', 'camera', 'cam', 'calum5sos', 'cakes', 'caitlin', 'cabin', 'bypass', 'buying', 'butt', 'burnt', 'buried', 'bunch', 'bully', 'buddys', 'bu', 'btw', 'bts', 'bs', 'brush', 'briefing', 'brian', 'breathe', 'breaks', 'breakingnews', 'brave', 'brand', 'brady', 'bp', 'bowling', 'bounty', 'bottom', 'bother', 'born', 'bored', 'bore', 'border', 'boom', 'bookboost', 'bones', 'boko', 'boeing', 'bluedio', 'blowout', 'blowmandyup', 'blow', 'blasts', 'blanket', 'blame', 'blake', 'blah', 'birth', 'birds', 'bio', 'billings', 'bill', 'biker', 'bigamist', 'beware', 'betrayed', 'besides', 'bend', 'belongs', 'belonged', 'beginners', 'beforeitsnews', 'bee', 'becoming', 'beard', 'bbcnews', 'bb4sp', 'battleship', 'batters', 'bath', 'basement', 'bars', 'barn', 'barely', 'bare', 'barackobama', 'bangladesh', 'band', 'background', 'a\\x89Û', 'aware', 'aw', 'avenue', 'aussies', 'at\\x89Û', 'attitude', 'asshole', 'assembly', 'arwx', 'arts', 'artistsunited', 'arsenal', 'arrest', 'arm', 'appreciate', 'applications', 'apch', 'apartment', 'apart', 'aoms', 'anxious', 'anxiety', 'announcement', 'anna', 'angels', 'amirite', 'although', 'alternatives', 'alright', 'alex', 'alarms', 'ahh', 'affects', 'adding', 'acute', 'actual', 'acting', 'acid', 'accused', 'accionempresa', 'abortion', 'abomination', 'abe', 'abandon', '95', '87', '86', '80', '78', '6th', '69', '56', '55', '45', '43rd', '41', '375', '361', '300000', '2us', '27', '2005', '200', '1620', '150foot', '150401', '150', '103', '0day', '09', '010401', '0104', 'åÈ', 'åÇ', 'å', '\\x89Û÷plot', '\\x89Û÷it\\x89Ûªs', '\\x89ÛÏyou', '\\x89ÛÏstretcher', '\\x89ÛÏhannaph\\x89Û\\x9d', '\\x89Û¢åÊdemolition', 'zippednews', 'zionism', 'zimbabwe', 'zaynmalik', 'zabadani', 'yycstorm', 'ypres', 'you\\x89Ûªre', 'you\\x89Ûªll', 'yourselves', 'yougov', 'yesterdays', 'yellow', 'yelling', 'yazidi', 'yankees', 'xv', 'wwwcbplawyers', 'wwe', 'ww2', 'wud', 'wrist', 'wowo', 'wouldn\\x89Ûªt', 'worries', 'worn', 'worldwide', 'works', 'workplace', 'workout', 'worker', 'woods', 'woodlawn', 'wolves', 'wolf', 'wod', 'wocowae', 'wmv', 'wmur9', 'witness', 'wipp', 'wine', 'windy', 'wilshere', 'william', 'wide', 'whose', 'whoops', 'whomever', 'wholesale', 'whoever', 'whoa', 'whitehouse', 'whitbourne', 'whistle', 'whipped', 'whenever', 'whatsapp', 'whale', 'wftv', 'wfp', 'weyreygidi', 'weston', 'wen', 'welfare', 'weighs', 'weekold', 'wednesdays', 'wedn', 'wedaug5th', 'wealthy', 'weallheartonedirection', 'weakening', 'wd', 'wce', 'wbioterrorismampuse', 'wb', 'wayne', 'wattpad', 'watertown', 'waters', 'washingtonpost', 'warrior', 'warming', 'warm', 'walter', 'walked', 'walerga', 'waking', 'waits', 'waist', 'voting', 'voted', 'voodoo', 'voluntary', 'volleyball', 'volcanoåÊinåÊrussia', 'volcanoes', 'vods', 'vital', 'visto', 'visits', 'vision', 'violations', 'vince', 'vietnamese', 'videoveranomtv', 'vida', 'victory', 'vicinity', 'vice', 'vibez', 'vi', 'veteran', 'versions', 'versethe', 'venice', 'vegetable', 've', 'vault', 'vashon', 'various', 'vanuatu', 'vantage', 'vancouver', 'utc5km', 'ut', 'ushed', 'user', 'us101', 'urs', 'upwards', 'uploading', 'upgrading', 'upgraded', 'unrest', 'unrelenting', 'unr', 'unprecedented', 'unnecessary', 'unity', 'unique', 'unions', 'uniforms', 'unhappiness', 'unfortunately', 'unfolded', 'uncle', 'ultimalucha', 'ukraine', 'typos', 'types', 'tyler', 'twovehicle', 'twos', 'twentynine', 'tweetlikeitsseptember11th2001', 'turkmen', 'tuning', 'tunein', 'tuesday', 'ttes', 'tt', 'tsunamiesh', 'tryouts', 'tryout', 'trusty', 'trunk', 'truelove', 'troy', 'troubling', 'troll', 'trinity', 'trillion', 'trick', 'trend', 'tremor', 'trek', 'treeporn', 'treatments', 'treating', 'treated', 'travis', 'traverse', 'travelling', 'traveling', 'transformed', 'trancy', 'tragic', 'trading', 'touched', 'totes', 'torture', 'tornados', 'torching', 'tor', 'topstories', 'tops', 'tomcatarts', 'tomatoes', 'tokyo', 'tlc', 'tix', 'titanic', 'tin', 'timkaine', 'timelapse', 'tigers', 'tides', 'tidal', 'thyroid', 'thy', 'thuggin', 'thu', 'thrown', 'throwingknifes', 'throwback', 'throughout', 'thrones', 'throat', 'threw', 'threaten', 'thisizbwright', 'thisiswhywecanthavenicethings', 'thirsty', 'thirst', 'thighs', 'thief', 'thetawniest', 'therapies', 'theological', 'themed', 'themagickidraps', 'thegame', 'thee', 'thankfully', 'thankful', 'tha', 'tgirl', 'tests', 'testing', 'testimony', 'teslas', 'term', 'tens', 'temptation', 'teeth', 'teens', 'teenagers', 'technologies', 'technique', 'technica', 'teases', 'tear', 'teamstream', 'teamhendrick', 'teacher', 'te', 'tch', 'tc', 'taylor', 'taught', 'tattoo', 'tastes', 'tasmanias', 'targeted', 'tape', 'tanzania', 'tanks', 'tan', 'talkin', 'tale', 'tak', 'tahoe', 's\\x89Û', 'syndrome', 'symphony', 'sx', 'sws', 'swept', 'sweet2young', 'sweater', 'sweat', 'swear', 'swarm', 'sustainable', 'suspense', 'suryaray', 'survey', 'suruc', 'surrounding', 'surrender', 'surgery', 'surfers', 'suppose', 'supports', 'supply', 'sunny', 'sunnis', 'sundays', 'summit', 'summertime', 'suit', 'suicidebombing', 'suh', 'suddenly', 'sudden', 'subway', 'stuns', 'stunned', 'studio', 'student', 'stu', 'sts', 'struggling', 'strongly', 'stronger', 'stroke', 'striking', 'strikesstrikes', 'strikers', 'striker', 'strict', 'stressful', 'strengthening', 'stout', 'stormchase', 'stores', 'stolen', 'stole', 'stockton', 'stocks', 'sticks', 'stick', 'steal', 'steak', 'stats', 'state\\x89Û', 'startups', 'starbucks', 'stans', 'standwithpp', 'standards', 'stagetwo', 'stacey', 'sr', 'squeeze', 'square', 'sputnik', 'spreading', 'spots', 'sportwatch', 'spontaneously', 'split', 'spilled', 'spending', 'spencers', 'spectacular', 'species', 'specialists', 'specialist', 'speak', 'soviet', 'southdowns', 'soudelors', 'sort', 'sorrows', 'sore', 'soooo', 'sooo', 'soo', 'sons', 'somewhere', 'solve', 'solo', 'solitude', 'solid', 'solicitor', 'sold', 'software', 'softenza', 'soft', 'socialmedia', 'soccer', 'soaking', 'soak', 'snuff', 'snowden', 'snowball', 'sniping', 'sneak', 'snd', 'snapchat', 'snacks', 'smooth', 'smiling', 'smells', 'smell', 'smash', 'slips', 'slipped', 'slides', 'slicker', 'slayer', 'slammed', 'skys', 'skyline', 'skipping', 'skill', 'sketch', 'skanndtyagi', 'sixpenceee', 'sixmeter', 'sis', 'singles', 'sin', 'simultaneous', 'simply', 'simon', 'signup', 'signing', 'sigalert', 'siding', 'sides', 'si', 'shutdown', 'showing', 'showed', 'shouting', 'shout', 'shouldve', 'shore', 'shooter', 'shoot', 'shoe', 'shizune', 'shira', 'sheriff', 'shelli', 'sheet', 'sheeran', 'sheer', 'shed', 'shaw', 'sharing', 'sharethis', 'shantae', 'shania', 'sham', 'shaking', 'shakes', 'shaker', 'sf', 'sewer', 'settle', 'setlist', 'servers', 'server', 'serve', 'servants', 'sequel', 'sept', 'sep', 'selling', 'sell', 'selfies', 'selection', 'seem', 'seduction', 'seal', 'screw', 'screamqueens', 'scream', 'scottwalker', 'scorpions', 'schwarber', 'schedule\\x89Û', 'scares', 'scare', 'scale', 'saturn', 'satan', 'sarcasm', 'sandy', 'sanctioned', 'samesex', 'samanthaturne19', 'salvis', 'salvador', 'sake', 'sailing', 'sail', 'sahib', 'sacramento', 'sa15t', 's2g', 'ryan', 'rutherford', 'rush', 'ruins', 'ruining', 'ruebs', 'rudd', 'rtrrt', 'rtamerica', 'rss', 'rpics', 'royals', 'royalcarribean', 'rover', 'routecomplex', 'rotten', 'rotator', 'rossum', 'roses', 'rory', 'ronnie', 'ronaldo', 'rolls', 'rohnertparkdps', 'roh3', 'rogue', 'roger', 'rockbottomradfm', 'riyadh', 'riversiskiyou', 'risks', 'rio', 'rihanna', 'rightwaystan', 'rightways', 'rifles', 'riding', 'riders', 'rick', 'rich', 'rey', 'revelation', 'rev', 'retweet', 'retro', 'resulting', 'restricted', 'restive', 'restaurants', 'responder', 'respected', 'resources', 'reshapes', 'required', 'request', 'repay', 'repairs', 'rep', 'reopens', 'reopen', 'renison', 'removing', 'removed', 'removal', 'remorse', 'remix', 'religion', 'relentless', 'relationship', 'rejects', 'rejected', 'reject', 'reinstate', 'reids', 'reid', 'regional', 'regardless', 'regard', 'refuse', 'redeemeth', 'recreates', 'recording', 'recommended', 'receive', 'recap', 'realised', 'reads', 'reacted', 'react', 'reaches', 'rdhorndale', 'rcmp', 'rb', 'raÌ¼l', 'razing', 'raynor', 'rayner', 'raw', 'raung', 'rating', 'rates', 'rated', 'rat', 'rapping', 'rappers', 'rapper', 'rapidcity', 'rap', 'random', 'rammed', 'raised', 'rainier', 'rained', 'railways', 'railway', 'rails', 'raiders', 'rages', 'racing', 'quoted', 'questioning', 'que', 'quartz', 'quarters', 'q', 'p\\x89Û', 'putins', 'pushing', 'push', 'purchased', 'puppy', 'puppies', 'punjab', 'punishment', 'punished', 'puncture', 'pulwama', 'pulling', 'publicizing', 'ptbo', 'pt', 'psalms', 'ps4', 'proud', 'protesting', 'protection', 'protecting', 'protectdenaliwolves', 'prosyn', 'proposed', 'proper', 'proof', 'prone', 'promote', 'projects', 'programme', 'professional', 'product', 'prod', 'privacy', 'priority', 'priorities', 'primarily', 'priceless', 'previous', 'prevention', 'pretend', 'pressed', 'preservation', 'presence', 'prepper', 'preparing', 'preorder', 'premonitions', 'premiere', 'premier', 'prediction', 'predator', 'precious', 'pre', 'potentially', 'posters', 'postbattle', 'possibility', 'poss', 'portugal', 'popularmmos', 'pops', 'poplar', 'pope', 'poorly', 'pomo', 'politifiact', 'policerun', 'pointing', 'poem', 'pocket', 'po', 'pmharper', 'pmarca', 'pluto', 'plummeted', 'pllolz', 'plenty', 'pledge', 'pleasure', 'platform', 'plants', 'planes', 'placing', 'placed', 'pjnet', 'pits', 'pitchers', 'pissed', 'pinpoint', 'piner', 'pillows', 'pill', 'pictures', 'pickup', 'pickerel', 'physicians', 'photoset', 'philadelphia', 'phil', 'phew', 'phase', 'pharaoh', 'phantom', 'peterjukes', 'pertains', 'personally', 'perquisite', 'permits', 'permanently', 'permanent', 'performing', 'performance', 'per', 'pennington', 'penn', 'pendleton', 'peeps', 'pedestrians', 'pedestrian', 'peak', 'peacefully', 'pdx911', 'pcps', 'pays', 'paved', 'pattonoswalt', 'patriot', 'pathogen', 'pasta', 'password', 'partnerships', 'particularly', 'paris', 'paramedic', 'parade', 'pants', 'pan', 'pakpattan', 'pakistannews', 'pair', 'paint', 'paid', 'pa', 'ovofest', 'ovo', 'overwork', 'overlooking', 'overload', 'ouvindo', 'outfit', 'outbid', 'outage', 'ourselves', 'otherwise', 'oth', 'oso', 'osborn', 'originalfunko', 'organizations', 'organic', 'org', 'oregon', 'ordered', 'opp', 'operations', 'opera', 'oped', 'oooooohhhh', 'oooh', 'oo', 'onlinecommunities', 'oneself', 'omega', 'oks', 'okinawa', 'ohh', 'offs', 'offramp', 'offr', 'offices', 'offers2go', 'obviously', 'obsessed', 'objects', 'obispo', 'nylon', 'nwo', 'nv', 'nurses', 'nuff', 'nude', 'ntsb', 'nowhere', 'november', 'novel', 'notifications', 'noted', 'nosurrender', 'nostrils', 'nostalgia', 'northwest', 'northland', 'northeast', 'norman', 'nor', 'nope', 'nonlife', 'noaa', 'njturnpike', 'njenga', 'nj', 'nixon', 'nikeplus', 'nights', 'nightmare', 'nickcocofree', 'nick', 'niall', 'nhs', 'nh', 'new\\x89Û', 'newzsacramento', 'newswatch', 'newsarama', 'newbie', 'newberg', 'neverending', 'netanyahu', 'nestleindia', 'nepal', 'neighborhood', 'neck', 'nda', 'nbc', 'nba', 'nazi', 'native', 'nasasolarsystem', 'narendramodi', 'nankana', 'nan', 'names', 'najib', 'nail', 'm\\x89Û', 'myfitnesspal', 'mv', 'muzzamil', 'mutual', 'mutant', 'musik', 'musicians', 'murders', 'murderers', 'mum', 'multidimensi', 'multi', 'mukilteo', 'mud', 'msnbc', 'moyo', 'mouth', 'mourns', 'moulding', 'motion', 'moscow', 'mooresville', 'montgomery', 'montetjwitter11', 'monster', 'monkeys', 'monkey', 'monitoring', 'monitor', 'moms', 'mohammed', 'moderate', 'mock', 'mobile', 'mmmmmm', 'ml', 'miyagi', 'mistreated', 'mississauga', 'missionhills', 'missiles', 'misses', 'mishacollins', 'misery', 'ministers', 'minions', 'minimehh', 'minhazmerchant', 'milwaukee', 'migrants\\x89Û', 'midwest', 'midsouth', 'midget', 'mid', 'microsofts', 'microsoft', 'microphone', 'micom', 'michelebachman', 'mic', 'mi17', 'mgm', 'metlife', 'meteoearth', 'met', 'messi', 'messed', 'messages', 'mercados', 'meme', 'meinlcymbals', 'megynkelly', 'meets', 'medium', 'medieval', 'medicine', 'medals', 'mechanical', 'measles', 'meaning', 'mcmahon', 'mchenry', 'mc', 'matthew', 'material', 'matching', 'master', 'massmurderer', 'martinmj22', 'marshall', 'married', 'marquei', 'marlon', 'marketing', 'marines', 'mariah', 'march', 'maps', 'manufactured', 'mania', 'mandatory', 'mamata', 'malik', 'maketh', 'maker', 'maintain', 'magginoodle', 'mafia', 'madison', 'lyrics', 'lying', 'luka', 'luchaunderground', 'lubbock', 'lovedup', 'lous', 'lotz', 'loseit', 'losdelsonido', 'loretta', 'looses', 'looping', 'longterm', 'longs', 'lone', 'londonfire', 'lolol', 'lollapalooza', 'logistics', 'logic', 'locked', 'located', 'loans', 'loads', 'loading', 'loaded', 'lmfaoooo', 'llf', 'lizards', 'livingsafely', 'liveonk2', 'lived', 'lith', 'lit', 'links', 'lines', 'likes', 'lightningcaused', 'lifting', 'lifetime', 'lifethreatening', 'lifestyle', 'liberal', 'liable', 'liability', 'lglorg', 'letter', 'letsfootball', 'lesson', 'lemon', 'legs', 'legislation', 'legio', 'leeds', 'learned', 'leaks', 'leaked', 'leak', 'layout', 'lawsuit', 'lawrence', 'lavenderpoetrycafe', 'lauren', 'laundry', 'latimes', 'latestnews', 'lasting', 'laois', 'lansdowne', 'language', 'lanes', 'landscape', 'lands', 'lance', 'lamha', 'lakes', 'labs', 'label', 'kurd', 'ks94', 'ks', 'kraft', 'kowing', 'koin6news', 'knowing', 'knob', 'knife', 'knees', 'km', 'kittens', 'kith', 'kisses', 'kissed', 'kiss', 'kings', 'kindness', 'kindermorgan', 'killings', 'killers', 'kiev', 'kidding', 'kerry', 'keratin', 'kendall', 'ke', 'katunews', 'katrina', 'katherines', 'kashmir', 'karma', 'kanye', 'kaduna', 'justmarried', 'justifying', 'justified', 'jurors', 'junk', 'june', 'jumped', 'juliedicaro', 'juice', 'jr', 'jp', 'journal', 'jose', 'jonvoyage', 'jones94kyle', 'jones', 'jonathanferrell', 'joint', 'johns', 'johnny', 'jkl', 'jim', 'jhaustin', 'jewelry', 'jerry', 'jenner', 'jeff', 'jealous', 'jdabe80', 'japton', 'jams', 'jamesmelville', 'jamaicaplain', 'jamaicaobserver', 'jailed', 'jacque', 'jacket', 'ja', 'i\\x89Ûªd', 'ivanberroa', 'itsjustinstuart', 'itll', 'items', 'item', 'isil', 'irony', 'ironic', 'iredell', 'iranians', 'ipod', 'ipad', 'in\\x89Û', 'investing', 'investigation', 'investigate', 'invest', 'invasion', 'interviews', 'interstate', 'interlaken', 'intelligence', 'intact', 'insubcontinent', 'inspiring', 'inspections', 'insomnia', 'insight', 'insas', 'innovation', 'injures', 'infosec', 'infinity', 'inferno', 'infectious', 'inevitably', 'inec', 'indoors', 'indie', 'indiannews', 'indi', 'incredibly', 'increase', 'incase', 'inc', 'impulse', 'improve', 'impressive', 'impressed', 'important', 'imperfect', 'impending', 'impacted', 'immediately', 'imdb', 'imagined', 'ima', 'illustration', 'ihhen', 'ignored', 'ignore', 'idol', 'idis', 'identitytheft', 'idc', 'iconic', 'icelandreview', 'i95', 'i580', 'i405', 'i10', 'h\\x89Û', 'hysteria', 'hypocrisy', 'hyderabad', 'hurricanes', 'hurricanedolce', 'humble', 'humanconsumption', 'hug', 'httpt\\x89Û', 'httptcozevakjapcz', 'httptcozdtoyd8ebj', 'httptcoyduixefipe', 'httptcoydetwgribk', 'httptcoxssgedsbh4', 'httptcoxpfmr368uf', 'httptcovz1irh0nmm', 'httptcovxvfaeey0q', 'httptcovam5podgyw', 'httptcov3azwoamzk', 'httptcouoozxaus26', 'httptcoskqpwsnoin', 'httptcosdgoutwntb', 'httptcosaf9mosksn', 'httptcoroi2nsmejj', 'httptcopyehwodwun', 'httptcopvmr38lnva', 'httptcopo19h8ycnd', 'httptcophixznv1yn', 'httptconmfsgkf1za', 'httptcomg5eajelul', 'httptcomfckpvzfv8', 'httptcom5kxlpkfa1', 'httptcom203ul6o7p', 'httptcolxtjc87kls', 'httptcolwwojxttiv', 'httptcojhpdssvhve', 'httptcoj5mkcbkcov', 'httptcoio7kuug1uq', 'httptcoiikssjgbdn', 'httptcoidmhswewqw', 'httptcoi27oa0hisp', 'httptcoeysvvza7qm', 'httptcoedyfo6e2pu', 'httptcodydfvz7amj', 'httptcoct9ejxolpu', 'httptcoc1h7jecfrv', 'httptcobtdjgwekqx', 'httptcoafmkcfn1tl', 'httptco7hanpcr5rk', 'httptco3tj8zjin21', 'httptco3sicroaanz', 'httptco0wratka2jl', 'httpstcowudlkq7ncx', 'httpstcolfkmtzaekk', 'httpstcoe8dl1lncvu', 'hr', 'housed', 'hottest', 'hostageamp2', 'hospitals', 'hoping', 'hood', 'honest', 'homs', 'homie', 'homeowners', 'holmgren', 'holed', 'holds', 'hoes', 'hoe', 'hockey', 'hmu', 'hmm', 'hiroshima70', 'hiphop', 'hinton', 'himalaya', 'hiding', 'hide', 'hidden', 'hew', 'heros', 'heroin', 'hermancranston', 'henry', 'helpline', 'hella', 'helicopters', 'heavenly', 'heartwarming', 'heartless', 'hearthstone', 'healthy', 'healthcare', 'healing', 'heal', 'headlines', 'hazmat', 'have\\x89Û', 'hatred', 'hatchetwielding', 'harwich', 'harmkid', 'hardy', 'hardline', 'hardcore', 'happily', 'handling', 'handle', 'hamburg', 'halt', 'hall', 'hahahaha', 'hahahah', 'hahaha', 'hahah', 'hah', 'hadnt', 'hackers', 'hack', 'habits', 'gym', 'gust', 'gunmen', 'gum', 'guest', 'guaranteed', 'gtii', 'growingupblack', 'growing', 'grounds', 'grenades', 'greenway', 'greenharvard', 'greek', 'greatbritishbakeoff', 'graveyard', 'gravel', 'grass', 'grandpa', 'grandeur', 'grande', 'gpm', 'governments', 'goulburn', 'gorgeous', 'goodbye', 'golem', 'goldstein', 'goku', 'gofundme', 'goat', 'gn', 'gmt', 'gmmbc', 'gloucester', 'globe', 'globalwarming', 'glink', 'glimpses', 'glenn', 'glasses', 'giveaway', 'gilbert23', 'gig', 'gif', 'ghostwriter', 'gg', 'geometric', 'genius', 'geneva', 'generalnews', 'gel', 'gear', 'gd', 'gays', 'gawx', 'gates', 'garfield', 'gardens', 'garbage', 'gander', 'gaining', 'gain', 'gadgets', 'ga', 'fury', 'function', 'fukushimatepco', 'fueling', 'fruits', 'frontlines', 'friggin', 'friendship', 'fresno', 'freshman', 'freaking', 'franklin', 'fran', 'fragile', 'foxnew\\x89Û', 'fouseytube', 'fourth', 'foster', 'for\\x89Û', 'fortune', 'fortunately', 'forth', 'forsure', 'forgive', 'forex', 'foreign', 'forbid', 'fool', 'foodscare', 'follower', 'folk', 'fold', 'fm', 'fluid', 'flow', 'florida\\x89Û', 'float', 'flip', 'fleeing', 'fled', 'flashbacks', 'fixing', 'fist', 'fire\\x89Û', 'firey', 'firetruck', 'firemen', 'firefighting', 'fir', 'finished', 'financing', 'fill', 'files', 'file', 'fifty', 'fifa16', 'fierce', 'fieg', 'fi', 'fevwarrior', 'fest', 'ferries', 'ferguson\\x89Ûªs', 'fergusons', 'fennovoima', 'fella', 'feinstein', 'federal', 'featured', 'feast', 'favs', 'favorites', 'favor', 'faulty', 'fathers', 'fatburning', 'fatally', 'fatalityus', 'fart', 'familia', 'fallacy', 'fairy', 'fairfax', 'fading', 'facing', 'facility', 'fabric', 'extinguished', 'exterminate', 'extensive', 'extension', 'extender', 'explores', 'explodes', 'explain', 'expand', 'exited', 'exhibition', 'exhausted', 'exercised', 'executing', 'excuse', 'exclusive', 'exciting', 'excited', 'exc', 'examiner', 'evolve', 'everytime', 'everybody', 'evansville', 'evanston', 'evacuating', 'ev', 'eurotunnel', 'eudrylantiqua', 'etisalat', 'et', 'esteemed', 'esh', 'escaping', 'escaped', 'ergo', 'equate', 'epicenter', 'en\\x89Û', 'envw98', 'entrepreneur', 'enroute', 'enormous', 'enhanced', 'engvaus', 'engage', 'enemies', 'endures', 'endorses', 'endangered', 'encouragement', 'encore', 'enabled', 'empty', 'empire', 'emperor', 'emotionally', 'emerges', 'emerg', 'elsa', 'elliott', 'elkhorn', 'elizabeth', 'element', 'electricity', 'eh', 'egypt', 'efak', 'ef5', 'edge', 'economies', 'eastward', 'ears', 'earnings', 'earned', 'earbuds', 'dystopian', 'dye', 'dwarves', 'dvc', 'durant', 'dunbar', 'dumb', 'dukes', 'ducks', 'duck', 'dt', 'ds', 'dryer', 'drum', 'dropping', 'droid', 'drivers', 'drifting', 'drew', 'dressed', 'dreaming', 'draw', 'drama', 'dozen', 'downstairs', 'downpours', 'downfall', 'douchebag', 'doublecups', 'dothraki', 'dorman', 'dopey', 'dope', 'doors', 'donå«t', 'dolphin', 'dollars', 'document', 'doctors', 'doctor', 'dock', 'dmpl', 'dm', 'dlh', 'divided', 'district', 'distinct', 'disruptive', 'displace', 'discussion', 'disappeared', 'disappear', 'directors', 'director', 'diplomacy', 'dijk\\x89Ûª', 'dignity', 'digits', 'digital', 'difficult', 'diesis', 'dickheads', 'dick', 'diarrhea', 'diaporama', 'diamorfiend', 'diablo', 'dey', 'devil', 'device', 'develop', 'detroit', 'destructive', 'destroyer', 'despair', 'desk', 'deserves', 'deserve', 'descriptions', 'derby', 'deputy', 'deny', 'denier', 'denial', 'denali', 'dems', 'demon', 'democrats', 'demi', 'delete', 'delayed', 'del', 'define', 'defects', 'def', 'deeds', 'decor', 'declared', 'deck\\x89Û\\x9d', 'deck', 'decent', 'debatequestionswewanttohear', 'dealbreaker', 'deadliest', 'daytoday', 'davidcameron', 'dates', 'darkest', 'dante', 'dannyonpc', 'danisnotonfire', 'daniels', 'dances', 'dambisa', 'damaging', 'cyclists', 'cycling', 'customs', 'customers', 'custom', 'custer', 'cus', 'curiosity', 'cuff', 'ctd', 'cs', 'crusty', 'crude', 'crowns', 'croat', 'critical', 'crippling', 'criminal', 'crimes', 'cried', 'crickets', 'credit', 'creating', 'creates', 'crane', 'cracks', 'cracking', 'crack', 'coyotes', 'coworker', 'cowboys', 'cow', 'coverage', 'cousins', 'courts', 'coursing', 'countynews', 'countrys', 'countless', 'couldve', 'costly', 'correspondent', 'correct', 'corp', 'corleonedaboss', 'corey', 'coral', 'copycats', 'coping', 'cope', 'cooking', 'conversations', 'conversation', 'contruction', 'controllers', 'controlled', 'contributing', 'contrast', 'contract', 'continually', 'contain', 'contact', 'constant', 'console', 'conservative', 'consent', 'connectorconnecto', 'condolence', 'condemnation', 'condemn', 'concrete', 'concluded', 'con', 'compound', 'complications', 'completed', 'complaints', 'compete', 'comparison', 'comp', 'como', 'committee', 'committed', 'commerce', 'command', 'colluded', 'collective', 'cole', 'colder', 'col', 'coincide', 'cod', 'cockpit', 'cocaine', 'coat', 'coaster', 'cnewslive', 'cmon', 'cm', 'clueless', 'closest', 'cliffs', 'clever', 'cleric', 'cleared', 'cld', 'claimed', 'cjoyner', 'civilization', 'cityofcalgary', 'cites', 'circus', 'chronicle', 'christie', 'christ', 'chris', 'choose', 'chills', 'chiefs', 'chick', 'cheyenne', 'chevrolet', 'chesttorso', 'cheryl', 'cherry', 'cherokee', 'chase', 'channels', 'changing', 'chances', 'chan', 'championship', 'challenges', 'chairs', 'chairman', 'chair', 'cfc', 'certified', 'certificate', 'centers', 'census', 'cement', 'celebrations', 'cbsbigbrother', 'cbs', 'cbc', 'cawx', 'catching', 'castle', 'casperrmg', 'cash', 'cart', 'carr', 'carpet', 'carlos', 'caribbean', 'careers', 'cape', 'canvas', 'cannon', 'candle', 'cancers', 'cancels', 'cancelled', 'canadas', 'camps', 'camping', 'cameo', 'calumet', 'cairo', 'cafire', 'cafe', 'cadfyi', 'cables', 'cab', 'c4news', 'b\\x89Û', 'bwp', 'butterfinger', 'busy', 'bundle', 'bumper', 'bump', 'bullseye', 'bullets', 'builds', 'buffer', 'bubble', 'brunette', 'bruise', 'brooke', 'bronx', 'britons', 'britney', 'brisk', 'brighton', 'brigade', 'brief', 'brick', 'brewing', 'breathing', 'bread', 'brazilian', 'bradleybrad47', 'boxing', 'bounds', 'boundary', 'boundaries', 'bottle', 'boise', 'bodys', 'bodybagging', 'bobcats', 'bmw', 'blutz10', 'blunt', 'blues', 'blueprint', 'bloomberg', 'blocks', 'blizzheroes', 'blizzarddraco', 'blames', 'blackpool', 'blacklivesmatter', 'bits', 'bites', 'bite', 'bitcoin', 'bistro', 'birmingham', 'biological', 'bills', 'billneelynbc', 'billboard', 'bicycles', 'bicycle', 'bicep', 'betz', 'bets', 'bethlehem', 'bestseller', 'bengal', 'belt', 'belly', 'believing', 'beliefs', 'belief', 'behalf', 'begging', 'beclearoncancer', 'beckarnley', 'beauty', 'bean', 'battles', 'batting', 'batteries', 'battered', 'basis', 'basically', 'bashes', 'baruch', 'barrier', 'banquet', 'bangin', 'banerjee', 'bancodeseries', 'baltimore', 'balls', 'balance', 'bakeofffriends', 'bail', 'bago', 'backyards', 'backyard', 'backup', 'backs', 'ay', 'awwww', 'awareness', 'awaits', 'avoided', 'aviation', 'avengers', 'available', 'autumn', 'autoinsurance', 'autistic', 'author', 'authentic', 'australia\\x89Ûªs', 'austin', 'aust', 'aunt', 'audience', 'auction', 'auckland', 'attraction', 'attic', 'attendance', 'attempting', 'attempt', 'atmospheric', 'atmosphere', 'atm', 'atlantic', 'atk', 'athlete', 'astrology', 'association', 'assisting', 'assistant', 'assholes', 'asleep', 'asks', 'askcharley', 'asics', 'ashley', 'ashayo', 'ash', 'asf', 'artist', 'artificial', 'arsonistmusic', 'ars', 'arriving', 'arnhem', 'armory', 'armed', 'arizona', 'ariaahrary', 'argument', 'area\\x89Û', 'architecture', 'architect', 'aquarium', 'apt', 'april', 'approves', 'approval', 'appropriation', 'approaching', 'appreciated', 'appointment', 'applies', 'applaud', 'apollobrown', 'apocalyptic', 'apartments', 'aogashima', 'anyways', 'any1', 'antonio', 'annoying', 'announces', 'announced', 'ani', 'anger', 'andrew', 'andor', 'ames', 'ambulances', 'alot', 'alois', 'ally', 'alloy', 'allies', 'allegiance', 'allegations', 'aliens', 'alien', 'alexbelloli', 'alerts', 'albany', 'alarmed', 'ak', 'agrees', 'aggressive', 'ages', 'agents', 'agency', 'ag', 'africans', 'afp', 'affiliation', 'affiliate', 'affecting', 'afc', 'advised', 'advice', 'advertised', 'adventures', 'advanced', 'admit', 'administration', 'admin', 'addition', 'adam', 'ad', 'actor', 'activities', 'acted', 'acquire', 'acoustic', 'achimota', 'accustomed', 'accounts', 'accept', 'acc', 'ac', 'abusing', 'abuseddesolateamplost', 'abused', 'abubaraa1', 'absolute', 'abomb', 'abia', 'abc7', 'abbott', 'aa', 'a5', 'a1', '9pm', '9newsgoldcoast', '9am', '96', '90th', '90blksamp8whts', '9000', '900', '8th', '8pin', '84', '83', '77', '75', '72w', '64', '61st', '60mph', '60000', '5th', '5sosfam', '5sos', '5s', '5c', '57', '548', '530', '53', '4th', '4playthursdays', '4km', '4500feet', '43', '429cj', '3m', '3inspired', '3942', '360', '36', '32', '2k15', '299', '29', '28', '23km', '235409', '233liveonline', '21a', '211023', '2082676773', '2016', '20150805', '2012', '2010', '2008', '2000', '1999', '1998', '1986', '1979', '1976', '1974', '1970', '1965', '1943', '1916', '18wheeler', '1880', '180', '175225', '1716', '166', '15th', '15km', '143', '140', '12news', '118', '1100', '10km', '109', '1061thetwister', '1038pm', '1030', '100000', '075', '0700', '070', '06jst', '0306', '015025', '005225', 'åÊi', 'åÊfedex', 'å¬only', 'å©daniel', 'å¤', 'å£9', 'å£6bn', 'å£27900end', 'å£150', 'å£100bn', 'Ìü', 'ÌÑ1', 'ÌÑ', 'Ì¢', '\\x89âÂ', '\\x89Û÷we', '\\x89Û÷vulnerable\\x89Ûª', '\\x89Û÷the', '\\x89Û÷second\\x89Ûª', '\\x89Û÷ransomware\\x89Ûª', '\\x89Û÷nuclear', '\\x89Û÷nother\\x89Û\\x9d', '\\x89Û÷muslim', '\\x89Û÷minimum', '\\x89Û÷let\\x89Ûªs', '\\x89Û÷leaves', '\\x89Û÷it', '\\x89Û÷institute', '\\x89Û÷ill', '\\x89Û÷hoax', '\\x89Û÷hijacker', '\\x89Û÷heat', '\\x89Û÷hazard\\x89Ûª', '\\x89Û÷good', '\\x89Û÷food', '\\x89Û÷first\\x89Ûª', '\\x89Û÷faceless\\x89Ûª', '\\x89Û÷faceless', '\\x89Û÷exceptional\\x89Ûª', '\\x89Û÷em', '\\x89Û÷devastated\\x89Ûª', '\\x89Û÷british', '\\x89Û÷bomb', '\\x89Û÷body', '\\x89Û÷badges', '\\x89Û÷avalanche\\x89Ûª', '\\x89Û÷amino', '\\x89Û÷alloosh', '\\x89ÛÓkody', '\\x89ÛÓher', '\\x89ÛÒåÊcnbc', '\\x89ÛÒthe', '\\x89ÛÏymcglaun', '\\x89ÛÏthehighfessions', '\\x89ÛÏthat\\x89Ûªs', '\\x89ÛÏsippin\\x89Ûª', '\\x89ÛÏplans', '\\x89ÛÏparties', '\\x89ÛÏnumbers', '\\x89ÛÏnobody', '\\x89ÛÏmake', '\\x89ÛÏmacdaddyleo', '\\x89ÛÏlordbrathwaite', '\\x89ÛÏlolgop', '\\x89ÛÏleoblakecarter', '\\x89ÛÏleejasper', '\\x89ÛÏkeits', '\\x89ÛÏi', '\\x89ÛÏfor', '\\x89ÛÏfdny', '\\x89ÛÏdylanmcclure55', '\\x89ÛÏdetonate\\x89Û\\x9d', '\\x89ÛÏcat', '\\x89ÛÏbbcwomanshour', '\\x89ÛÏbbcengland', '\\x89ÛÏbasedgeorgie', '\\x89ÛÏall', '\\x89ÛÏairplane\\x89Û\\x9d', '\\x89ÛÏ', '\\x89Û¢\\x89Û¢if', '\\x89Û¢im', '\\x89Û¢', 'zzzz', 'zxathetis', 'zurich', 'zumiez', 'zss', 'zrnf', 'zourryart', 'zotar50', 'zoom', 'zonewolf123', 'zonesthank', 'zones', 'zombies', 'zombiefunrun2014', 'zomatoaus', 'zojadelin', 'zodiac', 'zmne', 'ziuw', 'zippoline', 'zippers', 'zipper', 'zipped', 'ziphimup', 'zip', 'zionists', 'zimmerman', 'zimmer', 'zicac', 'zhenghxn', 'zhejiang', 'zeros', 'zero', 'zergele', 'zeno001', 'zenandemcfen', 'zehrs', 'zeal', 'zaynmaiikist', 'zarry', 'zarharzar', 'zar', 'zamtriossu', 'zaman', 'zakuun', 'zakbagans', 'zaibatsunews', 'zachzaidman', 'zach', 'zacb', 'zaatari', 'z3kesk1', 'yzf', 'yyj', 'yyeso', 'yycweather', 'yycfringe', 'yuvi', 'yuuko', 'yuppies', 'yup', 'yunita99', 'yumiko', 'yum', 'yukis', 'yug', 'yuan', 'ypg', 'yo\\x89Û', 'you\\x89Û\\x9d', 'you\\x89Û', 'youuu', 'youssefyamani', 'yourboyshawn', 'younoone', 'young\\x89Û', 'youngsafe', 'youngins', 'youngerampgrossly', 'younger', 'yosemite', 'yorkshire', 'yor', 'yonews', 'yolk', 'yolandaph', 'yogurt', 'yoga', 'yoenis', 'ymcglaun', 'ykelquiban', 'yiraneuni', 'yikes', 'yield', 'yiayplan', 'yhngsjlg', 'yh', 'yeyeulala', 'yessum', 'yeshayad', 'yennora', 'yemenis', 'yellows', 'yelllowheather', 'yelled', 'yell', 'yehuda', 'yeehaw', 'yeat', 'yeaahh', 'yday', 'ybtheprophet', 'yazidishingalgenocide', 'yard', 'yamashiro', 'yamaguchi', 'yahootv', 'yahoonewsdigest', 'yahoofinancehope', 'yahoocare', 'yahoo7', 'yahistorical', 'yagitudeh', 'yaboiluke', 'xylodemon', 'xxhjesc', 'xvii', 'xtra1360', 'xrays', 'xpost', 'xoxo', 'xojademarie124', 'xo', 'xmen', 'xmas', 'xl', 'xkdrx', 'xii', 'xhnews', 'xgninfinity', 'xfiles', 'xeni', 'xela', 'xekstrin', 'xdojjjj', 'xdescry', 'xboxone', 'xb1', 'xaviermarquis', 'xavier', 'x37bs', 'x2', 'x1441', 'x1434', 'x1411', 'x1402', 'x1392', 'x1386', 'w\\x89Û', 'wzbt', 'wyrmwood', 'wyou', 'wyattb23', 'wxky', 'wxii', 'wxiatv', 'wwwbigbaldhead', 'www', 'wwp', 'wwexdreamer', 'wwa', 'ww3', 'ww', 'wut', 'wugliness', 'wtwitter', 'wtony', 'wth', 'wtc', 'wsvr1686b', 'wsoc', 'wsoaring', 'wsls', 'wsjthinktank', 'wsj', 'wsazbrittany', 'wroug', 'wrote', 'wrongway', 'wrongperson', 'wrongdejavu', 'wrked', 'writingtips', 'writers', 'writebothfists', 'wristband', 'wrightsboro', 'wrestler', 'wrestleon', 'wreak', 'wrapped', 'wrap', 'wraith', 'wr', 'wqow', 'wpt994', 'wps', 'wpo', 'wowthe', 'wowsavannah', 'wout', 'wounded\\x89Û\\x9d', 'woundedpigeon', 'wouldelectrocute', 'worthless', 'worstoverdose', 'worstever', 'worship', 'worsen', 'worseits', 'worrying', 'worm', 'worldwatchesferguson', 'worldvision', 'worldpay', 'worldoil', 'worldnetdailyhomosexuality', 'worldlets', 'workspace', 'workd', 'wordpressdotcom', 'wordk', 'wording', 'wooooooo', 'woodward', 'woodland', 'wooden', 'woodchucks', 'woo', 'wonders', 'wonderousallure', 'wonderkid', 'wonderfully', 'wompppp', 'women\\x89Ûª', 'womengirls', 'womem', 'womb', 'woman\\x89Ûªs', 'wolter', 'wolforth', 'woken', 'woes', 'woah', 'wnw', 'wnukes', 'wniagospel', 'wn', 'wmiddle', 'wm', 'wld', 'wlandslide', 'wkrn', 'wknd', 'wk', 'wizard', 'wiwnpfxa', 'witnessing', 'witnesses', 'witnessed', 'withåÊannihilation', 'withstand', 'withering', 'withdrawur', 'withdraws', 'witch', 'wishlist', 'wishing', 'wished', 'wisely', 'wise', 'wisdomwed', 'wisdom', 'wisdc', 'wipes', 'winnipeg', 'winning', 'winner', 'winik', 'wingers', 'winged', 'wing', 'winechat', 'windwakerstyle', 'windstormåÊinsurer', 'windstormfollow', 'windsor', 'windows10', 'windowgatribble', 'windmy', 'windits', 'win10', 'wimp', 'wimbledon', 'wilsons', 'willow', 'willis', 'willinghearted', 'willieami', 'willian', 'willhillbet', 'wildwestsixgun', 'wildlooking', 'wildlionx3', 'wildlife', 'wildhorses', 'wilden', 'wikipedia', 'wii', 'wifi', 'wifekids', 'wiedemer', 'width', 'widout', 'wider', 'widda16', 'wickett', 'whyor', 'whvholst', 'who\\x89Û', 'whopperjr760', 'whod', 'whocares', 'whitt', 'whitewashes', 'whistled', 'whistleblower', 'whiskey', 'whippenz', 'whipe', 'whimsy', 'while\\x89Û', 'whereas', 'wher', 'whensoever', 'whelen', 'wheelsio', 'wheel', 'whedonesque', 'wheatley', 'whatevs', 'whatever', 'whatcanthedo', 'whashtag', 'whackamole', 'wha', 'wfries', 'wfaaweather', 'we\\x89Ûªve', 'we\\x89Ûªre', 'wexler', 'wews', 'wew', 'west\\x89Ûªs', 'westward', 'wests', 'westminister', 'westmarch', 'westerosnah', 'westeros', 'westerncanadadrought', 'westchester', 'wesleylowery', 'wesley', 'wereonadesolateplanet', 'weren\\x89Ûªt', 'wenger', 'wendell', 'welshninja87', 'weloveyoulouis', 'weloverobdyrdek', 'welovela', 'wells', 'wellknown', 'wellgrounded', 'welles7', 'welladjusted', 'welcomes', 'weirdo', 'weiqin', 'weights', 'weightless', 'weigh', 'weep', 'weeklong', 'weekends', 'weei', 'weebly', 'wednesday\\x89Û', 'wednes', 'wedneday', 'wedgie', 'weddinghour', 'websites', 'webinar', 'web', 'weatherstay', 'weatherit', 'wears', 'weaponxmusic', 'wealilknowa', 'weaknesses', 'weakness', 'wdyouth', 'wdym', 'wdtv', 'wderailed', 'wcw', 'wctv35', 'wccorosen', 'wc', 'wbu', 'wbre', 'wbcshirl2', 'wbc2015', 'waziristan', 'way\\x89Û\\x9dyeah', 'wayward', 'waynesteratl', 'wayi', 'wayfieldstone', 'wave\\x89Ûª', 'waved', 'wattys2015', 'wattle', 'water\\x89Û', 'watersafety', 'waterproof', 'waterfur', 'waterboarding', 'watchthevideo', 'watchout', 'watchin', 'watches', 'wasting', 'wastenoxious', 'wastelands', 'wasted', 'wasn\\x89Ûªt', 'wasnamp8217t', 'wasilla', 'washing', 'washard', 'waseembadami', 'war\\x89Û', 'warzone', 'wartime', 'warthen', 'warsgoddess', 'warriorcord', 'warranted', 'warra', 'warped', 'warningwild', 'warnings900037', 'warnerrobins', 'warned\\x89Û\\x9d', 'warmth', 'warmbodies', 'warlordqueen', 'warfare', 'wardens', 'ward', 'wantmyabsback', 'wanother', 'wank', 'wander', 'waltdisney', 'wall\\x89Û\\x9d', 'wallybaiter', 'wales', 'wakho', 'wakeupflorida', 'waiver', 'waited', 'waimea', 'wahpeton', 'wahhabism', 'wage\\x89Ûª', 'waferthin', 'wackos', 'wackoes', 'vÌdeo', 'v\\x89Û', 'vzwsupport', 'vvorm', 'vuzuhustle', 'vulnerability', 'vulnera', 'vuln', 'vtc', 'vroman', 'vra50\\x89Û\\x9d', 'votes', 'voters', 'vosloorus', 'vortex', 'voortrekker', 'voodooben', 'volunteers', 'volunteer', 'voltaire', 'volfan326', 'volcanotornado', 'volcanodiscover', 'volcanic', 'void', 'voices', 'vodka', 'vocals', 'vocalist', 'vocal', 'vmas', 'vj44', 'vi\\x89Û', 'vixstuart', 'vixmeldrew', 'vivid', 'vivianunhcr', 'viviangiang', 'vivian', 'vivaargentina', 'vitesse', 'vitaly', 'vitalvegas', 'vita', 'visting', 'visiting', 'visionzero', 'visible', 'visibility', 'visage', 'virtual', 'vir', 'viper', 'violin', 'violets', 'violentfeminazi', 'violators', 'violation', 'violated', 'vinustrip', 'vinnie', 'vines', 'vincent', 'vimvith', 'vimeo', 'villicanaalicia', 'villa', 'vilelunar', 'vikings', 'vigils', 'vigilent', 'views', 'viennabutcher', 'videogame', 'videoclip', 'victorious', 'victorias', 'victorian', 'victoriagittins', 'vickybrush', 'vichardy', 'vibrates', 'vibrate', 'viab', 'vhull', 'vhs', 'vgbootcamp', 'vets78734', 'vestment', 'vessels', 'versus', 'veronicadlcruz', 'vern', 'vermilion', 'verhoek', 'vergil', 'verge', 'verde', 'venture', 'ventilated', 'vent', 'venoms', 'veneto', 'veldfest', 'veld', 'veins', 'veil', 'veggies', 'vegetables', 'vegassolitude', 'vegan', 'veg', 'vector', 'vaxshill', 'vast', 'vassalboro', 'varagesale', 'vanpoli', 'vannuyscouncil', 'vanishing', 'vanished', 'vanilla', 'vanessas', 'vanessa', 'vandalized', 'vancouveråÊisland', 'vampires', 'value', 'valuations', 'valleywx', 'vallerand', 'valentines', 'vale', 'valdes1978', 'vail', 'vai', 'vaginaorcake', 'vagersedolla', 'vaccines', 'vaccine', 'vacancies', 'vaca', 'vabengal', 'v452', 'u\\x89Û', 'ux', 'uvopwz', 'uve', 'uv', 'utv', 'utp', 'utopian', 'utilized', 'utility', 'utica', 'utfire', 'utd', 'utc3km', 'utc20150806', 'utahgrizz', 'utahcanary', 'uswarcrimes', 'usw', 'uspacific', 'usmnt', 'ushanka', 'usg', 'usfs', 'useless', 'usdot', 'usbush', 'usatodaynfl', 'usat', 'usarmy', 'usamisan', 'usama', 'usagi', 'usage', 'urufusanragu', 'uruan', 'urself', 'urogyn', 'urine', 'uriminzok', 'urgentthere', 'urg', 'urbanisation', 'urbanfashion\\x89Û', 'urban', 'uranium', 'upwindstorm', 'upward', 'uptownjorge', 'uptown', 'uptotheminute', 'upstairs', 'upsetting', 'uprooting', 'uprootin', 'uplifting', 'upi', 'uphill', 'upgrades', 'updateme', 'upcoming', 'upah', 'upa', 'unwomen', 'unwarranted', 'unwanted', 'unu', 'unto', 'untill', 'untameddirewolf', 'unsurprisingly', 'unsure', 'unsuccessful', 'unstoppable', 'unstable', 'unsigned', 'unsensibly', 'unsecured', 'unrecognized', 'unrealtouch', 'unreal', 'unprepared', 'unpredictable', 'unplug', 'unpacked', 'unnewsteam', 'unloads', 'unlicensed', 'unknowingly', 'univsfoundation', 'universityoflaw', 'uniteblue', 'unite', 'uninvestigated', 'unimpressed', 'unimaginable', 'unhinged', 'unhealed', 'unharmed', 'unhappy', 'ungodly', 'unfortunemelody', 'unfollow', 'unfold', 'unfml', 'unfair', 'unexplainable', 'unending', 'undone', 'undetected', 'undeserving', 'underwritersenior', 'underwriter', 'understood', 'understand\\x89Û\\x9d', 'understandable', 'underpasses', 'undermined', 'undergroundrailraod', 'undergroundbestsellers', 'underground', 'underestimate', 'uncover', 'uncontrolled', 'uncontrollable', 'unconsciously', 'unconscious', 'unconditional', 'uncommon', 'uncomfortable', 'uncles', 'uncertaintyeconomic', 'uncertain', 'unbelievably', 'unaware', 'unauthorized', 'unarmed', 'unaddressed', 'unable', 'umntu', 'umm', 'umbrella', 'um', 'uluru', 'ultimatum', 'ullman', 'uk\\x89Ûªs', 'ukraines', 'uknews', 'ukfrance', 'ukfloods', 'uhmmmm', 'uhhhhh', 'uglypeople', 'uglyamesocialaction', 'ugliest', 'ugc', 'ufo4ublogeurope', 'ufn', 'udom', 'udhampuragain', 'uchicago', 'uabstephenlong', 'u2', 'tÌüp', 't\\x89Û', 'tyrone', 'tyrant', 'typography', 'typing', 'typical', 'typhoon\\x89Û', 'typewriter', 'tyleroakley', 'tyar', 'txt', 'txlege', 'tx', 'twx', 'twoptwips', 'twoout', 'twitsandiego', 'twitch', 'twist', 'twill', 'twilights', 'twi', 'twentysix', 'tweetstorm', 'tweetinglew', 'tweeting', 'tweeted', 'tweet4taiji', 'tween', 'twcnews', 'twain', 'tvshowtime', 'tvjnews', 'tutorials', 'tusky', 'turner', 'turnedonfetaboo', 'turdnado', 'turbojet', 'tunisian', 'tunisia', 'tunis', 'tuneswgg', 'tuned', 'tunas', 'tumblr', 'tumbling', 'tumbles', 'tulowitzki', 'tullamarine', 'tuicruises', 'tuffers', 'tuesdays', 'tucson', 'tub', 'tu', 'ttw', 'tthe', 'tsutomi', 'tsunamis', 'tsipras', 'tshirts', 'tshirt', 'trynna', 'truthsof', 'trustymclusty', 'trusting', 'trusted', 'trulystings', 'truestory', 'truediagnosis', 'truckload', 'truckcrash', 'tru', 'trpreston01', 'trp', 'troyslaby22', 'troylercraft', 'troye', 'troupe', 'troubleonmymind', 'trophyhunt', 'trophy', 'trophies', 'tropes', 'trooper', 'trombonetristan', 'trollkrattos', 'trollingtilmeekdiss', 'troisrivieres', 'trjdavis', 'trixiedrowned', 'trivium', 'triumphs', 'triumphant', 'triumph', 'trinna', 'trim', 'trillac', 'trigger', 'trident', 'tricycle', 'tricky', 'trickxie', 'trickshot', 'trickier', 'triciaoneillphoto', 'triciaoneill', 'tribez', 'tribe', 'trib', 'triangle', 'triad', 'treyarch', 'trey', 'trestle', 'trend\\x89Û\\x9d', 'trends', 'trending', 'trench\\x89Û', 'tren', 'tremors', 'tremont', 'tremblayeh', 'trekkers', 'treescape', 'treblinka', 'treatmen', 'treasures', 'treasurehouse', 'trc', 'tray', 'travellers', 'travelelixir', 'trash', 'traplord29', 'transwomen', 'transportation', 'transporta', 'translated', 'transgress', 'transgendered', 'transgender', 'transcription', 'trampling', 'traitor', 'traintragedy', 'trained', 'trailheads', 'trailed', 'trail', 'trafficnetwork', 'traditionalist', 'trader', 'trade', 'tradcatknight', 'tracy', 'tractor', 'tracklist', 'tracey', 'trace', 'tra', 'tps', 'tprimo24', 'to\\x89Û', 'tozlet', 'toyota', 'toxicsavior', 'toxiccancerdiseasehazardous', 'toxic', 'towns', 'towing', 'tower\\x89Ûª', 'tower', 'towboat', 'tow', 'tours', 'tournaments', 'tournament', 'tourists', 'tounge', 'toughens', 'touching', 'touchdown', 'tottenham', 'totteham', 'totoooooooooo', 'totoooooo', 'totalitarianism', 'totalitarian', 'tosu', 'toss', 'tos', 'tory', 'tort', 'torso', 'torrential', 'torrent', 'torrecilla', 'torrance', 'torontorc', 'tornadogiveaway', 'tormented', 'tories', 'tora', 'topic', 'topdown', 'top25', 'tootrue', 'toosoon', 'toooooo', 'tookitlikeaman', 'tookem', 'toocodtodd', 'tonysandos', 'tonymcguinness', 'tonyhsieh', 'tonycottee1986', 'tonyburke', 'tonyabbottmhr', 'tony', 'tonne', 'tonight\\x89Ûªs', 'tonguetwister', 'ton', 'tomorrow\\x89Ûªs', 'tommorow', 'tomlinson', 'tomislav', 'tomfromireland', 'tomdean86', 'tomclancy', 'tolled', 'tolewantg', 'tolerated', 'tolerance', 'tokteacher', 'toilets', 'toiindianews', 'togthe', 'toes', 'toenail', 'toe', 'toddyrockstar', 'toddstarnes', 'toddcalfee', 'today\\x89Ûªs', 'todaythat', 'todayngr', 'todayng', 'todayim', 'todayhave', 'today4got', 'tod', 'tobiasellwood', 'tnwx', 'tnn', 'tneazzy', 'tna', 'tn', 'tms7', 'tmake', 'tlvfacesauspol', 'tlvfaces', 'tloz', 'tlk', 'tkyonly1fmk', 'tjrobertson2', 'tj', 'titty', 'tittie', 'titortau', 'titolo', 'titania', 'titadom', 'tita', 'tirelessly', 'tire', 'tipster', 'tip', 'tinybaby', 'tiny', 'tinted', 'ting', 'tindering', 'tinderbox', 'tinder', 'timmicallef', 'timing', 'time\\x89Û\\x9d', 'timesofindia', 'timesap', 'timed', 'timebomb', 'timber', 'timaroberts', 'tightly', 'tight', 'tiggr', 'tigersjostun', 'tiffanyfrizzell', 'tier', 'tide', 'tidalhifi', 'ticklemeshawn', 'tianta', 'th\\x89Û', 'thursdays', 'thursd', 'thurs', 'thurlow', 'thunderstormtornado', 'thundersnow', 'thugging', 'thucydiplease', 'tht', 'thruuu', 'thrusts', 'throwin', 'thriving', 'threesome', 'threealarm', 'threat\\x89Ûª', 'threatintel', 'threatconnect', 'thread', 'thrarchives', 'thr', 'thoutaylorbrown', 'thoughwill', 'thou', 'thoroughly', 'thorium', 'thorins', 'thorgan', 'thomassmonson', 'thomashcrown', 'thnk', 'thi\\x89Û', 'this\\x89Û', 'thisispublichealth', 'thisisperidot', 'thisishavehope', 'thisisfaz', 'thisdayinhistory', 'thirtyfive', 'thirdquarter', 'thinner', 'thinkpink', 'thingsihate', 'thh', 'they\\x89Ûªd', 'thexfiles201days', 'thewesterngaz', 'thetxi', 'thetshirtkid', 'thetimepast', 'thestrain', 'thesmallclark', 'thesewphist', 'thesensualeye', 'theresmorewherethatcamefrom', 'thereof', 'thereisonlysex', 'therein', 'therefore', 'therealrittz', 'thereal', 'theramin', 'thepartyofmeanness', 'then\\x89Û', 'thenissonian', 'thenewshype', 'theneeds', 'themhe', 'themermacorn', 'theme', 'themalemadonna', 'themaine', 'thelegendblue', 'thejonesesvoice', 'thejenmorillo', 'theirs', 'thehobbit', 'thehammers', 'thegreenparty', 'theghostparty', 'theevilolives', 'theemobrago', 'theellenshow', 'theeconomist', 'thedoolinggroup', 'thedayct', 'thedarktower', 'thedailyshow', 'thedailybeast', 'thecomedyquote', 'theburnageblue', 'thebriankrause', 'theboyofmasks', 'thebookclub', 'theblackshag', 'thebargain', 'thebachelorette', 'theatres', 'theatlantic', 'theatershooting', 'theashes', 'theadvocatemag', 'thda', 'that\\x89Û', 'thatwitchem', 'thatswhatfriendsarefor', 'thatsabinegirl', 'thatrussianman', 'thatpersianguy', 'thatnot', 'thatfatguy', 'thatdes', 'thatd', 'thankyou', 'thanku', 'thankkk', 'thanking', 'thalapathi', 'thailand', 'thai', 'tfw', 'tfb', 'te\\x89Û', 'texture', 'texts', 'texting', 'texaschainsawmassacre', 'texans', 'testy', 'testify', 'testified', 'testicles', 'tesco', 'terwilliger', 'tersestuff', 'territory', 'terrified', 'terrific', 'terrain', 'termn8r13', 'terminated', 'terell', 'tepat', 'tents', 'tenshi', 'tennis', 'tennews', 'tends', 'ten4', 'tem\\x89Û', 'temps', 'temporary', 'temporarily', 'templates', 'temperature', 'temp', 'temecula', 'temecafreeman', 'telnet', 'tellyfckngo', 'tellyampi', 'telly', 'telltales', 'teleported', 'telemarketing', 'telekinesis', 'telegraphworld', 'telangana', 'tee\\x89Û', 'teenfiction', 'teena797', 'teemo', 'tee', 'teduka', 'tedcruz2016', 'tecno', 'techniqu', 'technical', 'technews', 'techesback', 'team\\x89Û', 'teamvodg', 'teamsurvivors', 'teamscorpion', 'teamo', 'teammates', 'teamhennessy', 'teamfollowback', 'teamatowinner', 'teahivetweets', 'teafrystlik', 'tdog', 'tdm', 'tcotåÊccot', 'tcgreno', 'tbs', 'tbr', 'tblack', 'tbh', 'taylorswift13', 'taylors', 'taykreidler', 'tayiorrmade', 'taxstone', 'taxreturn', 'taxpayers', 'taxis', 'taxi', 'taxes', 'tawfmcaw', 'taungbazar', 'taufikcj', 'tattoos', 'tattooed', 'tat', 'tastemycupcakee', 'tasks', 'task', 'tarzana', 'tarynel', 'tarp', 'targe', 'tareksocal', 'taraswart', 'tapas', 'taoistinsight', 'tantrums', 'tanstaafl23', 'tanslash', 'tangletalk', 'tangled', 'tanehisicoates', 'tampons', 'tampabay', 'tambourine', 'tambo', 'tallest', 'talkradio', 'talkinghell', 'talked', 'talkecologyamphuman', 'talisman', 'talibans', 'taliban', 'tales', 'takis', 'takin', 'takeoff', 'takehome', 'takecare', 'takeaways', 'taipei', 'tailor', 'tail', 'tahoeblazeravalanches10', 'tagging', 'tagged', 'tafs', 'tae', 'tadhgtgmtel', 'tactics', 'tactful', 'tacos', 'tackettdc', 'tacit', 'taaylordarr', 't1000s', 's\\x89Ûªarabia', 'szuter', 'szmnextdoor', 'systematic', 'sys', 'syringetoanger', 'synapsenkotze', 'symptoms', 'symbol', 'symantec', 'syjexo', 'sydtraffic', 'swtrains', 'sworn', 'swords', 'swooping', 'swollen', 'swivels', 'switzerland', 'switching', 'switch', 'swiss', 'swingman', 'swiming', 'swiftycommissh', 'swiftly', 'swellyjetevo', 'swell', 'sweets', 'sweetpeas', 'sweetiebirks', 'sweeps', 'sweeping', 'sweep', 'swedish', 'sweaty', 'sweatfyi', 'sweated', 'swea', 'swb1192', 'swayoung01', 'swayback', 'swanger', 'swami', 'swag', 'svetlana', 'sux', 'suvs', 'sustainourearth', 'sustainability', 'suspicious', 'suspended', 'suspects', 'susiya', 'susinesses', 'sushi', 'susanj357', 'survivorsr', 'surviving', 'surveys', 'suruÌ¤', 'surgical', 'surges', 'surfspa', 'surfphoto', 'surety', 'sureshpprabhu', 'suresh', 'suregod', 'supremo', 'supremacist', 'supposedly', 'supporting', 'supporthealthhomebathroomsupportelderlyinjureds\\x89Û', 'supporters', 'superv', 'superstitions', 'superstition', 'superpower', 'supernovalester', 'supernatural', 'supermarket', 'superman', 'superiority', 'superintendent', 'superintende', 'superfood', 'superbug', 'superb', 'sunshine', 'suns', 'sunrays', 'sunnymeade', 'sunk\\x89Û1', 'sunflower', 'sundercr', 'sunday\\x89Ûªs', 'sundaydont', 'sunburst', 'sunburned', 'sunbathe', 'sumo', 'sumn', 'summons', 'summon', 'summervibes', 'summers', 'summerhallery', 'summer2k15', 'summary', 'sultry', 'sul', 'suites', 'suited', 'suitable', 'suing', 'suicides', 'suicidebycop', 'suho', 'suggs', 'sugar', 'suffield', 'sufficiently', 'suffers', 'suelinflower', 'sued', 'sudan\\x89Ûªs', 'sucking', 'suckers', 'sucked', 'suck', 'succeed', 'subtornado', 'subtlety', 'subtle', 'substantial', 'substance', 'subsequent', 'subsd', 'subscription', 'submitt', 'submissions', 'submerged', 'subjected', 'subcontractor', 'subconscious', 'subcommittee', 'subatomic', 'su', 'stylist', 'stylishly', 'styled', 'stvmlly', 'stury', 'sturgis', 'stupidniggr', 'stunningly', 'stung', 'stunckle', 'stump', 'stuffin', 'studying', 'studebaker', 'studded', 'stuckinbooks', 'stuartbroad8', 'strutting', 'strutted', 'struggle', 'structuring', 'strongminded', 'strives', 'striptease', 'strips', 'stripped', 'stripe', 'strip', 'striked', 'strictly', 'strickskin', 'stretches', 'stretcherbearers', 'stretcherbearer', 'stretched', 'stressing', 'stresses', 'strength', 'streetlight', 'streetjamzdotnet', 'stree', 'streamyxhomesouthern', 'streams', 'streaming', 'stray', 'strawberrysoryu', 'strawberries', 'stratford', 'strategyhua', 'strategies', 'strap', 'strangers', 'strand', 'straits', 'strains', 'strain', 'straighten', 'sto\\x89Û', 'stowing', 'stormtrooper', 'stormlike', 'storming', 'stormfree', 'stormbeard', 'storey', 'storen', 'stop\\x89Û\\x9d', 'stopping', 'stoponesounds', 'stopharper', 'stopevictions', 'stood', 'stony', 'stonewall', 'stones', 'stonebrewingco', 'stokes', 'stockwell', 'stockholm', 'sto', 'stlouis', 'stlnd', 'stl', 'stirring', 'stil', 'stiiilo', 'stickynyc', 'sticky', 'sticking', 'sticker', 'sthing', 'stfxuniversity', 'stevie', 'steveycheese99', 'stevenrulles', 'stevenontwatter', 'steven', 'sterotypical', 'stern', 'sterlingscott', 'sterlingknight', 'sterling', 'stepkans', 'stephenson', 'stephenscifi', 'stephenking', 'stephengeorg', 'stephaniemarija', 'steph93065', 'stemming', 'stem', 'stefano', 'stefanejones', 'steep', 'steellord', 'stearns', 'stealth', 'steady', 'stds', 'staying', 'stayed', 'stavola', 'stavernise', 'statistically', 'stations', 'stationcdrkelly', 'states\\x89Û', 'statesville', 'statements', 'stat', 'starving', 'starve', 'startrek', 'startide', 'startelegram', 'starmade', 'starks', 'stark', 'starflamegirl', 'stare', 'stardate', 'starbuckscully', 'starbs', 'stankyboy88', 'standup', 'standstill', 'standforwolves', 'standardised', 'standardanonymous', 'stallion150', 'stalled', 'stalins', 'stalag', 'staining', 'staid', 'stages', 'staged', 'staff\\x89Û', 'staffing', 'stacy', 'stacks', 'stack', 'stacedemon', 'stacdemon', 'stable', 'ssw', 'ssu', 'ssssnell', 'ssshhheeesshh', 'ssp', 'ssb4', 'srsly', 'srs', 'srk', 'sriramk', 'srajapakse', 'sr37', 'sr22', 'sr14', 'sqwizzix', 'squirrel', 'squibby', 'squeezed', 'squeaver', 'squeaky', 'squabble', 'sq', 'spyro', 'spying', 'spx', 'sputtering', 'sputnikint', 'spurs', 'spurgeon', 'spur', 'spså¨', 'spsgsp', 'sprite', 'sprinklers', 'springer', 'spree', 'spreads', 'spread', 'spray', 'sprains', 'spouting', 'spouse', 'spotting', 'spotlight', 'sportsroadhouse', 'sportinggoods', 'sporten', 'spookyfob', 'sponsor', 'sponge', 'spokes', 'spoke', 'spokane', 'spoiled', 'spoil', 'splifs', 'splattershot', 'splatoon', 'splatling', 'splatdown', 'splash', 'spits', 'spit', 'spirits', 'spins', 'spinnellii', 'spin', 'spilt', 'spillevacuationsred', 'spike', 'spies', 'spiderweb', 'spicybreads', 'spice', 'spends', 'spencerfearon', 'spen', 'spells', 'spell', 'speedtech', 'speeding', 'speech', 'speculation', 'speculatio', 'spectrum', 'specs', 'specifically', 'specialized', 'specialize', 'speccy', 'speakingfromexperience', 'sparxxx', 'spartans', 'sparkz', 'sparking', 'spark', 'spaniels', 'spaniel', 'span', 'spammers', 'spam', 'spacex', 'spacewolverine', 'spaceshiptwo', 'spaceangelseven', 'so\\x89Û', 'soz', 'sow', 'south\\x89Û', 'southwestern', 'southwest', 'southridgelife', 'southline', 'southkorea', 'southdown', 'southbound', 'southaccident', 'sousse', 'sourmashnumber7', 'sour', 'soundtrack', 'sounding', 'sounders', 'soultech', 'sought', 'souda', 'sothwest', 'sos', 'sorryi', 'sorrybutitstrue', 'sorrowful', 'sorrower', 'sorrow', 'sorely', 'sophistication', 'sophiewisey', 'sophieingle01', 'soonpandemonium', 'soonergrunt', 'sonyprousa', 'sony', 'sonoranrattler', 'sonofbobbob', 'sonofbaldwin', 'sonisoner', 'sonia', 'soni', 'songhey89', 'songfor', 'soner', 'sond', 'sona', 'somme', 'sometimesi', 'somethin\\x89Ûª', 'somethingyr', 'someday', 'solving', 'solelinks', 'sole', 'soldi', 'solano', 'sojapan', 'soil', 'soggy', 'softball', 'sofa', 'sods', 'sodamntrue', 'sockets', 'socket', 'sock', 'socialwots', 'socialtimes', 'socialmediadriven', 'socially', 'socal', 'soc', 'sobbing', 'soapscoop', 'soap', 'soaker', 'soaked', 'snuck', 'snowywolf5', 'snowy', 'snowstormhailstorm', 'snowstormdespite', 'snowflake', 'snotgreen', 'snort', 'snoop', 'snooker', 'snippets', 'snipe', 'sniiiiiiff', 'sniff', 'sni', 'sneezing', 'sneaks', 'snazzychipz', 'snapping', 'snapharmony', 'snapchatselfie', 'snakes', 'snake', 'snack', 'sn', 'smusx16475', 'smugglersåÊnabbed', 'smugglers', 'smug', 'smth', 'sms087809233445', 'sms', 'smp', 'smores', 'smoothed', 'smoochy', 'smokey', 'smokes', 'smokers', 'smoakqueen', 'smirking', 'smiles', 'smfh', 'smem', 'smelltaste', 'smelling', 'smelled', 'smeared', 'smartteks', 'smartnews', 'smart', 'smantibatam', 'smallforestelf', 'smaller', 'smallbusiness', 'smallbiz', 'smack', 'slums', 'slumber', 'slsp', 'slsandpet', 'slows', 'slowpoke', 'slosheriff', 'slosher', 'slopeofhope', 'slone', 'slogan', 'slit', 'slipping', 'slipper', 'slimebeast', 'slightest', 'slight', 'sliding', 'slideshare', 'sliced', 'slew', 'slept', 'sleepjunkies', 'slay', 'slaves', 'slavery', 'slave', 'slaughter', 'slatukip', 'slating', 'slated', 'slashandburn', 'slapping', 'slander', 'slams', 'slamming', 'slam', 'slain', 'slabs', 'sl', 'skyåÊnews', 'skywars', 'skywarn', 'skyscrapers', 'skyrim', 'skype', 'skynews', 'skynet', 'skyler', 'skylanders', 'skull', 'skippy6gaming', 'skip', 'skinless', 'skims', 'skimmed', 'skiing', 'skies', 'ski', 'skh', 'sketchbook', 'skeleton', 'skc', 'skateboards', 'skarletan', 'skardu', 'skaggs', 'sk398', 'sjubb', 'sj', 'sizygwwf', 'sizewell', 'sixcar', 'sivan', 'situ', 'sittway', 'siteinvestigating', 'sister\\x89Ûª', 'sirtophamhat', 'sirtitan45', 'sirmixalot', 'sirmione', 'sirius', 'sirenvoice', 'sirens\\x89Û', 'sirensong21', 'sirensamp', 'sippin', 'sip', 'siouxland', 'siouxlan', 'sioux', 'sins', 'sinkingshipindy', 'sinkingfund', 'sinkhole\\x89Û', 'sinistras', 'singled', 'singlecar', 'sindh', 'sincerely', 'since3g', 'since1970the', 'simulation', 'simulating', 'simplify', 'simmons', 'similar', 'silvery', 'silverwood', 'silverman', 'silverhusky', 'silo', 'silly', 'silinski', 'silentmind', 'silent0siris', 'silenced', 'silas', 'sikh', 'sigue', 'signin', 'significance', 'signatureschange', 'sigh', 'sifting', 'siena', 'sidjsjdjekdjskdjd', 'side\\x89Û', 'sidewalk', 'sidelinesavage', 'sided', 'sick\\x89Ûª', 'sibling', 'shuts', 'shunichiro', 'shuffled', 'shuffle', 'shud', 'shtf', 'shtap', 'sht', 'shrews', 'showwent', 'showersstorms', 'showers', 'showdown', 'shovel', 'shove', 'shoutout', 'shouted', 'shouout', 'shotgun', 'shorts', 'shortfalls', 'shopping', 'shoppe', 'shootoutåÊ', 'shootings', 'shoook', 'sholt87', 'shocking\\x89ÛÏ', 'shocking', 'shoalstraffic', 'shiver', 'shitton', 'shite', 'shirley', 'shipsxanchors', 'shimmyfab', 'shii', 'shifts', 'shifter', 'shifted', 'shield', 'shidddd', 'shias', 'shia', 'she\\x89Ûªs', 'shevlinhixon', 'shestooyoung', 'sherfield72', 'shen', 'shemesh', 'sheltersupport', 'shells', 'shekhargupta', 'sheeting', 'shedid', 'shear', 'shayoly', 'shawie17shawie', 'shattered', 'shatter', 'sharply', 'sharper', 'shark\\x89Û\\x9d', 'shark', 'sharif', 'sharia', 'shar', 'shaping', 'shaper', 'shapeand', 'shaolin', 'shantaeskyy', 'shantaehalfgeniehero', 'shantaeforsmash', 'shanghai\\x89Ûªs', 'shanaynay', 'shakjn', 'shakingcatching', 'shakespeares', 'shakeology', 'shaken', 'shake', 'shaheed', 'shadows', 'shadowman', 'shadowflame', 'shadowed', 'shade', 'shad', 'sha', 'sgc72', 'sg', 'sfor', 'sfgiants', 'sfa', 'sexydragonmagic', 'sexuality', 'sexist', 'sewing', 'seward', 'sewage', 'severing', 'severely', 'seventies', 'sevenfold', 'sevenfigz', 'setting4success', 'setsuko', 'sethalphaeus', 'setanta', 'sessions', 'session', 'serving', 'servicin', 'servicesft7p7a', 'sergiopiaggio', 'serephina', 'serene', 'serbian', 'seras', 'sequence', 'sequalae', 'septic', 'separation', 'separated', 'senzu', 'sentient', 'sentenced', 'sensory', 'sensorknock', 'sensitive', 'sensei', 'senschumer', 'sensanders', 'sens', 'senfeinstein', 'senators', 'senatemajldr', 'sen', 'seminars', 'semi', 'semasirtalks', 'selmoooooo', 'selmo', 'selfseeking', 'selfpity', 'selfinflict', 'selfesteem', 'selfdestruction', 'selfdelusion', 'selfavowed', 'selects', 'select', 'sel', 'sejorg', 'seizing', 'seize', 'seismicsoftware', 'seismicresistant', 'segment', 'segas', 'sef', 'seeyouatamicos', 'seeweed', 'seemly', 'seemeth', 'seeker', 'seeds', 'seed', 'sedar', 'sedan', 'securing', 'secures', 'securedgt', 'secured', 'sectors', 'sections', 'secondhand', 'seclusion', 'sec', 'seaworld', 'seattletimes', 'seattles', 'seattledot', 'seats', 'seatbelt', 'seasonfrom', 'seashore', 'seas', 'seanhannity', 'seagulls', 'seagull07', 'sd', 'scynic1', 'scwx', 'scum', 'scuf', 'sct014', 'sct012', 'scseestapreparando', 'scrolling', 'scriptettesar', 'screwed', 'screenshot', 'screening', 'screeching', 'screamsdont', 'scratching', 'scratches', 'scraptrident', 'scraped', 'scrambledeggs', 'scouts', 'scout', 'scourgue', 'scourge', 'scotto519', 'scottdpierce', 'scotrail', 'scotiabank', 'scored', 'scorched', 'scofield', 'scmpnews', 'scissor', 'sciencefiction', 'scichat', 'schulz', 'schoolboy\\x89Ûªs', 'scholars', 'schoenfeld', 'schism\\x89Ûª', 'schelbertgeorg', 'scheer', 'scenes', 'scenario', 'scegnews', 'scasualty', 'scaryeven', 'scarlet', 'scariest', 'scarier', 'scandals', 'scandal', 'scam', 'scalpium', 'scaligero', 'scabs', 'sbee', 'sa\\x89Û', 'say\\x89Û\\x9d', 'saynae', 'sayin', 'sayedridha', 'savs', 'savour', 'savior', 'saveti', 'saves', 'saver', 'savedenaliwolves', 'savannahross4', 'savages', 'savagenation', 'saumur', 'sauldale305', 'saudiåÊmosque', 'saudies', 'saudiarabia', 'saturation', 'saturated', 'satoshis', 'satisfying', 'satire', 'satin', 'satellites', 'satans', 'satanaofhell', 'sask', 'sasha', 'sarumi', 'sarniamakchris', 'sarcastic', 'sarahmcpants', 'sarahksilverman', 'sara', 'sapphirescallop', 'san\\x89Ûªa', 'santos', 'santiago', 'santanicopandemonium', 'santaclara', 'sansa', 'sanonofre', 'sanity', 'sanitizing', 'sanitised', 'sang', 'sanfrancisco', 'sanford', 'sanelesstheory', 'sandwich', 'sandunes', 'sandra', 'sanders', 'sandbox', 'sanction', 'sanchez', 'samsung', 'samsmithworld', 'samples', 'sample', 'sammysosita', 'sammy', 'samihonkonen', 'sami', 'samelsamel', 'samaritans\\x89Ûª', 'sam', 'salyersblairhall', 'salvages', 'salvadors', 'salvadoran', 'salute', 'salty', 'saltriverwildhorses', 'salted', 'salopek', 'salmanmydarling', 'salman', 'sally', 'salisbury', 'sales', 'salado', 'saladinahmed', 'sakuuchiha', 'saku', 'sakhalintribune', 'saison', 'saintsfc', 'saint', 'sailors', 'safyuan', 'safsufa', 'safferoonicle', 'safes', 'saferåÊ', 'safeco', 'safaris', 'safari', 'sadtraumatised', 'saddledome', 'saddle', 'sacrifice', 'sackville', 'sackings', 'sabotagei', 'sabcnewsroom', 'saat', 'saalon', 'saadthe', 's61231a', 's5', 's3xleak', 's01e09', 'rzimmermanjr', 'ryt', 'ryrotheunaware', 'ryleedowns02', 'ryans', 'ryanoss123', 'rwrabbit', 'rvfriedmann', 'rvaping101', 'rvacchianonydn', 'rv', 'ruthann', 'russiaukraine', 'russellville', 'russell', 'russaky89', 'rushlimbaugh', 'rural', 'rupaul', 'run\\x89Û', 'runnin', 'runners', 'runkeeper', 'runjewels', 'runin', 'runaway', 'runabout', 'rumor', 'rumbling', 'rumah', 'rum', 'ruling', 'ruler', 'ruled', 'ruhl', 'rude', 'ruddyyyyyy', 'rubybot', 'rubi', 'rubbing', 'rubbin', 'rubbery', 'ru', 'rtsampdemocracy', 'rtrrtcoach', 'rtirishirr', 'rtcom', 'rsx', 'rstormcoming', 'rspca', 'rslm72254', 'rsf', 'rsa', 'rs5', 'rs40000cr', 'rrusa', 'rq', 'rpn', 'rp', 'roy', 'rowysolouisville', 'rowyso', 'rowaa', 'roving', 'routing', 'routine', 'routes', 'router', 'rousey', 'roundhouse', 'round2', 'rotting', 'rottentomatoes', 'rotations', 'rotation', 'rotating', 'rotary', 'rosters', 'roster', 'rossmartin7', 'rossbarton', 'roskomnadzor', 'rosewell', 'rosenthalauthor', 'rosenbergs', 'rosemarytravale', 'rorington95', 'ropes', 'roomsgrrrr', 'rooms', 'roomr', 'rooftops', 'roofing', 'roofers', 'ronwyden', 'ronincarbon', 'ronge', 'rondarousey', 'ronda', 'ronald', 'romp', 'romford', 'romes', 'romeocrow', 'romeo', 'romanticsuspense', 'romantic', 'romania', 'romanatwoodvlogs', 'roman', 'rom', 'rolo', 'rolling\\x89Û', 'roles', 'roleplay', 'rolandonabeats', 'rokiieee', 'roh3smantibatam', 'roguewatson', 'rogers', 'roga', 'rods', 'rodkiai', 'roddypiperautos', 'rodarmer21', 'rockstar', 'rockn', 'rockingham', 'rocking', 'rochdale', 'robthieren', 'robsimss', 'robpulsenews', 'robotlvl', 'robotcoingame', 'robot', 'roblox', 'robertwelch', 'robertoneill31', 'robertmeyer9', 'robertharding', 'robertcalifornia', 'robertbenglunds', 'robdelaney', 'robbiewilliams', 'robbed', 'roar', 'roanoketimes', 'roadworks', 'roadwayproperty', 'roadid', 'rnk', 'rlyeh', 'rlauren83199', 'rjkrraj', 'rjg0789', 'rjailbreak', 'rizzo', 'rivers', 'riverroaming', 'riveeeeeer', 'rivals', 'ritzyjewels', 'ritualistic', 'ritual', 'rite', 'risky', 'riser', 'ris', 'ririnsider', 'rips', 'ripriprip', 'ripples', 'ripping', 'rioters', 'rioslade', 'riooooos', 'rio2016', 'rinkydnk2', 'rindou', 'rin', 'rijn', 'rigour', 'rightly', 'righteous', 'rigga', 'rig', 'rifle', 'ridiculously', 'riddler', 'ricotta\\x89Û', 'rico', 'rickybonessxm', 'rickets', 'ricin', 'richhomeydon', 'riches', 'richelieusaintlaurent', 'richarkkirkarch', 'riceechrispies', 'rice', 'ribbon', 'ri', 'rhymes', 'rhinestone', 'rhiannon', 'rhett', 'rhee1975', 'rgj', 'rfp', 'rfcgeom66', 'rezaphotography', 'reworked', 'rewatchingthepilot', 'revolutionblight', 'revolt', 'revitup', 'revise', 'reviewing', 'reverse', 'reversal', 'revere', 'revenge', 'revel', 'reveillertm', 'revealing', 'reusing', 'reunite', 'retweeted', 'returning', 'retroactive', 'retreat', 'retract', 'retooled', 'retirement', 'retirees', 'retiredfilth', 'retard', 'retainers', 'resumed', 'restrospect', 'restoringpaths', 'restoring', 'restlessness', 'resting', 'restart', 'resque', 'responding', 'respondents', 'respects', 'respecting', 'resource', 'resort', 'resolved', 'resolutevanity', 'resoluteshield', 'resistant', 'resin', 'resilience', 'resigninshame', 'residualincome', 'residual', 'reshrimplevy', 'reshareworthy', 'reshape', 'reset', 'reserves', 'reserved', 'resemblance', 'researchers', 'rescuing', 'rescuersthe', 'rescued\\x89Û', 'rescuedagain', 'rescind', 'requiring', 'requiem', 'requests', 'requa', 'reqd', 'reputation', 'reps', 'reprocussions', 'reprises', 'repression', 'represents', 'representing', 'representative', 'repped', 'reporters', 'replacement', 'replaced', 'repjohnkatko', 'repdonbeyer', 'repatriating', 'reoccur', 'rent', 'renovation', 'renewsit', 'renewed', 'renew911health', 'rene', 'rendered', 'render', 'renaomino', 'renamed', 'ren', 'remymarcel', 'remote', 'remorseless', 'remodeled', 'remixes', 'reminders', 'reminded', 'remind', 'remembrance', 'remembers', 'rememberrabaa', 'remedial', 'rembr', 'remaster', 'remarkably', 'remark', 'remand', 'remainontop', 'remaining', 'remade', 'relive', 'religious', 'reliefweb', 'relevance', 'relegation', 'releasing', 'relaxinpr', 'relations', 'rejoice', 'rejectdcartoons', 'reiterate', 'reined', 'reince', 'reimagining', 'reigncoco', 'reidlake', 'regress', 'regr', 'regime', 'reggaeboyz', 'regent', 'regc', 'reg', 'refuses', 'refunds', 'refund', 'refugees\\x89Û', 'refugeesmatter', 'reflects', 'reflections', 'reflected', 'referred', 'referencereference', 'reference', 'refer', 'reeves', 'reef', 'reed', 'reebok', 'redwing', 'reduces', 'redskins', 'reds', 'redlands', 'redistribute', 'rediscovered', 'rediscover', 'redhead', 'redhanded', 'redesigning', 'redesigned', 'redemption', 'redeemer', 'redeem', 'reddish', 'reddevil4life', 'reddakushgodd', 'redcliffe', 'redbull', 'redblood', 'recruitment', 'recruiting', 'recovered', 'recordhigh', 'recorded', 'recordand', 'reconnect', 'recommendations', 'recoil', 'recognition', 'recognised', 'recluse', 'reckless', 'recipe', 'recip', 'receives', 'recalled', 'recal', 'rec', 'rebound', 'reboot', 'reblogged', 'rebelmage2', 'rebelled', 'rebecca', 'rebahes', 'reassigned', 'realm', 'realliampayne', 'realjaxclone', 'realizations', 'realization', 'realities', 'realistic', 'realhotcullen', 'realhiphop', 'reagans', 'reagan', 'reafs', 'readiness', 'reader', 'reacts', 'reactors', 'reactorbased', 'reactions', 'reached', 'reaad', 'rdg', 'rdconsider', 'rconspiracy', 'rcityporn', 'rchs', 'rbi', 'rbcinsurance', 'razedåÊ\\x89ÛÒ', 'razak', 'rayquazaerk', 'raychielovesu', 'rawfoodbliss', 'ravioliåÊwith', 'rave', 'rationing', 'ratio', 'ratingscategories', 'ratings', 'ratingbut', 'rascal', 'raredealsuk', 'rar', 'raptorsbeg', 'raped', 'rants', 'rantipozi', 'ransacked', 'ranks', 'ranking', 'ranked', 'rank', 'raniakhalek', 'rangerkaitimay', 'rang', 'randy', 'randomtourist', 'randomthought', 'randerson62', 'randallpinkston', 'rams', 'rampage', 'ramp', 'ramat', 'ram', 'ralph', 'rally\\x89Û', 'raisinfingers', 'raishimi33', 'rainy', 'rainwindstorm', 'rainforestresq', 'raineishida', 'railroad', 'railguns', 'raidersreporter', 'rahulkanwal', 'raheelsharif', 'raheel', 'raging', 'rag', 'raft', 'raffirc', 'radychildrens', 'radler', 'radios', 'radioriffrocks', 'radical', 'rachelcaine', 'racer', 'raccoons', 'racco', 'rabidmonkeys1', 'rabbit', 'rabaa', 'raabchar28', 'ra', 'r5live', 'r3do', 'r21', 'r1354', 'qzloremft', 'qz', 'quottelevision', 'quotoperations', 'quotesttg', 'quoteoftheday', 'quora', 'quizzed', 'quit', 'quirk', 'quiet', 'quicker', 'quests', 'questionfatalityflawless', 'questergirl', 'quem', 'queer', 'queenwendy', 'queenswharf', 'queenmy', 'quarter', 'quarrel', 'quantit\\x89Ûhttpstco64cymg1ltg', 'quals', 'qualit', 'quake', 'quadrillion', 'qty', 'qpr1980', 'qotring', 'qnh', 'qew', 'qendil', 'qave', 'qampa', 'q99', 'q13', 'q1', 'python', 'pyrotechnic', 'pyrbliss', 'pyramidhead76', 'pydisney', 'pwhvgwax', 'pvris', 'puts', 'puth', 'pussyxdestroyer', 'pusssssssssy', 'push2left', 'purposely', 'purpose', 'purported', 'purpleturtlerdg', 'purified', 'purely', 'purdies', 'puppyshogun', 'puppet', 'pup', 'puny', 'punk', 'punishing', 'punishable', 'pundits', 'pundit', 'punch', 'pumpkin', 'pumper', 'pumped', 'pummel', 'pulse', 'pull\\x89Ûone\\x89Ûyou', 'pullup', 'pulkovo', 'puledotechupdate', 'pugwash', 'pugprobs', 'pug', 'puff', 'puerto', 'puddle', 'puckflattened', 'publishing', 'publish', 'publicityalthough', 'publichealth', 'pub', 'pu', 'pt4', 'pt1', 'psychrewatch', 'psychologist', 'psychic', 'psp', 'psfda', 'pseudojuuzo', 'psd', 'psalm3422', 'psa', 'ps3', 'ps2', 'ps1', 'prysmian', 'proxy', 'proxies', 'provokes', 'providers', 'provided', 'proven', 'prove', 'proudgreenhome', 'protostates', 'protestors', 'protesters', 'protein', 'protected', 'prosser', 'prosper', 'pros', 'proportions', 'prophets', 'prophecy', 'propertycasu', 'properly', 'propelled', 'propane', 'propaganda', 'pronouncing', 'proms', 'prompting', 'prompt', 'promotion', 'promoted', 'promo', 'promised', 'prom', 'prolong', 'prolly', 'proliferation', 'projectiles\\x89ÛÒ', 'progressives', 'progress4ohio', 'programs', 'profittothepeople', 'profithungry', 'professionally', 'profbriancox', 'productive', 'production', 'produces', 'producer', 'produce', 'produc', 'prodemocracy', 'proc', 'probs', 'probability', 'prob', 'privilege', 'prisonplanet', 'prisoners', 'prints', 'printing', 'printed', 'printable', 'principle', 'princessduck', 'princeoffencing', 'primalkitchen', 'primal', 'priests', 'priest', 'pride', 'prez', 'previews', 'preventative', 'prevalent', 'prettyboyshyflizzy', 'pretenses', 'presume', 'preston\\x89Ûªs', 'prestige', 'presstv', 'presssec', 'pressing', 'presser', 'presley', 'presinkhole', 'president\\x89Û\\x9d', 'presidential', 'preset', 'preserve', 'presents', 'presentation', 'preseasonworkouts', 'preseason', 'preschool', 'presbad', 'preppertalk', 'preppers', 'preparedelectrocutedboiling', 'prensa', 'premises', 'prem', 'preferable', 'prefecture', 'preemptive', 'predynastic', 'predictions', 'preconditioning', 'precisionistic', 'precedent', 'preaching', 'preacher', 'praying', 'prayforsaipan', 'prayed', 'praise', 'pragnik', 'practitioner', 'practicing', 'practicenyg', 'practically', 'prablematicla', 'pra', 'ppsellsbabyparts', 'ppor', 'pple', 'ppfa', 'ppc', 'ppact', 'pp400dr', 'pp15000266858', 'pp15000266818', 'pp', 'poze', 'pozarmy', 'pox', 'powerwow', 'powers', 'powerhiroshima', 'powder', 'poway', 'pow', 'pouring', 'poured', 'pour', 'pounds', 'pounding', 'pounded', 'pouch', 'potter', 'pots', 'potatoes', 'pot', 'postponed', 'postexistence', 'postering', 'poster', 'postcards', 'postcapitalism', 'postal', 'possess', 'possesion', 'positively', 'poses', 'pos', 'portrait', 'portfolio', 'portaloos', 'porno', 'pornhub', 'porcupine', 'porcini', 'population6', 'popeyes', 'popcorn', 'pop2015', 'pony', 'ponting', 'pone', 'polluted', 'pollster', 'politic\\x89Û', 'politicized', 'politicians', 'politely', 'polit', 'policylab', 'police\\x89Û', 'policeng', 'pole', 'polaroids', 'polar', 'pol', 'pokemoncards', 'pokemon', 'poisoned', 'point\\x89Û', 'pointless', 'poignant', 'pogo', 'podcast', 'pod', 'poconorecord', 'pochette', 'poc', 'pneumonia', 'plymouth', 'plumbing', 'plugin', 'plsss', 'plotted', 'ploppy', 'pll', 'plez', 'pletch\\x89Ûªs', 'pledged', 'pleb', 'pleasant', 'pleaded', 'plaza', 'playthrough', 'playstation', 'playoverwatch', 'playingnow', 'playa', 'platt', 'platinum', 'plastics', 'plastic', 'plantcovered', 'plantations', 'planners', 'plannedparenthood', 'plank', 'planing', 'planetary', 'pl', 'pkwy', 'pjcoyle', 'pizzas', 'pizzarev', 'pixelsmovie', 'pixeljanosz', 'pixelcanuck', 'pixar', 'pivot', 'pity', 'pittsburgh', 'pitmix', 'pitcher', 'pitched', 'pit', 'piss', 'pisco', 'pirates', 'pirate', 'piracy', 'pir', 'piprhys', 'piping', 'piperwearsthepants', 'pipeliners', 'pioneer', 'pineview', 'pin23928835', 'pills', 'pilgrims', 'pileup', 'piles', 'pileq', 'pikin', 'pikachu', 'pigeon', 'piga', 'piercings', 'piercing', 'pierce', 'pierc', 'piece\\x89Û', 'pieceofme', 'pictwittercompnpizody', 'pictured', 'picthis', 'pickpocket', 'pickle', 'pickens', 'pianohands', 'piano', 'physician', 'phuket', 'photoop', 'photographs', 'photographed', 'photogenic', 'phnotf', 'phillips', 'phillip', 'philippines\\x89Û', 'philippine', 'philippi', 'philipduncan', 'philip', 'phelimkine', 'pharrell', 'pharma', 'phantasmal', 'phandom', 'phalaborwa', 'ph0tos', 'pga', 'pft', 'pfft', 'pfannebeckers', 'petty', 'petting', 'petitiontake', 'petitionno', 'petersens', 'petersburg', 'peterknox', 'peterhowenecn', 'petereallen', 'peterduttonmp', 'petelmcguire', 'petebests', 'pete', 'petchary', 'peta', 'pet', 'pestle', 'perspectives', 'perspective', 'personnel', 'personalize', 'personalinjury', 'persistent', 'persist', 'perrychat', 'perrybellegarde', 'perrie', 'perpetrators', 'permission', 'periwinkle', 'perished', 'periscope', 'perform', 'perforated', 'perfectly', 'perceive', 'pepperoni', 'peoplegt', 'peoplecommunication', 'pension', 'penny', 'pennlive', 'pennies', 'penneys', 'peninsula', 'penetrate', 'penalty', 'pelosis', 'peice', 'peeters', 'peers', 'peeped', 'peel', 'peeked', 'pee', 'pedro20', 'pediatric', 'pedals', 'peasants', 'pearlharbor', 'pearl', 'peale', 'peace\\x89Ûª', 'peacetime', 'pdxabq', 'pd', 'pci', 'pcaldicott7', 'pbx', 'pbs', 'pbohanna', 'pbcanpcx', 'pb', 'paypile', 'payment', 'paying', 'paydayprison', 'payday', 'payback', 'paxton', 'pawsox', 'paws', 'paulstaubs', 'pauls', 'paulista', 'paulhollywood', 'pattyds50', 'patterns', 'patrol', 'patrickwsls', 'patrickjbutler', 'patriciatraina', 'patna', 'patio', 'patientreported', 'paths', 'pathfinders', 'pat', 'pastures', 'pastor', 'pastie', 'passive', 'passion', 'pascoe', 'pascal', 'partys', 'partners', 'partner', 'parties', 'participating', 'participate', 'partially', 'parter', 'partake', 'parsholics', 'pars', 'parliment', 'parliamentary', 'parley\\x89Ûªs', 'parksboardfacts', 'parks', 'parked', 'parkchat', 'parisian', 'parental', 'parent', 'pardon', 'parched', 'paratroopers', 'paramore', 'paramedics', 'paraguay', 'paradise', 'paracord', 'para', 'papicongress', 'papi', 'paperwork', 'paperback', 'papcrdoll', 'papa', 'pantofel', 'panties', 'panther', 'pantalonesfuego', 'panik', 'panics', 'panicked', 'pandora', 'pandemoniumiso', 'pandemic', 'pancakes', 'panama', 'pampered', 'pampalmater', 'palmoil', 'palmer', 'palm', 'palinfoen', 'palestinian\\x89Û', 'palermo', 'paleface', 'pale', 'pakthey', 'pakistans', 'pajamas', 'paints', 'painthey', 'painful', 'paine', 'paging', 'pageshi', 'pages', 'paeds', 'pads', 'padres', 'paddytomlinson1']\n"
          ]
        }
      ]
    },
    {
      "cell_type": "code",
      "source": [
        "tf.random.set_seed(42)\n",
        "\n",
        "embedding = tf.keras.layers.Embedding(input_dim=10000, # set input shape\n",
        "                                      output_dim=128, # set size of embedding vector\n",
        "                                      embeddings_initializer=\"uniform\", # default, intialize randomly\n",
        "                                      input_length=15, # how long is each input\n",
        "                                      name=\"embedding_1\")\n",
        "\n",
        "embedding"
      ],
      "metadata": {
        "colab": {
          "base_uri": "https://localhost:8080/"
        },
        "id": "TL7PU2mugFWG",
        "outputId": "be6c1698-b94e-49de-8f1e-01045b8fe108"
      },
      "execution_count": 21,
      "outputs": [
        {
          "output_type": "execute_result",
          "data": {
            "text/plain": [
              "<keras.layers.core.embedding.Embedding at 0x7fb7f0092e50>"
            ]
          },
          "metadata": {},
          "execution_count": 21
        }
      ]
    },
    {
      "cell_type": "code",
      "source": [
        "for i in [random.choice(X_train) for _ in range(1)]:\n",
        "  print(f\"Orginal Text: {i}\")\n",
        "  emb = embedding(text_vectorizer(i))\n",
        "  print(f\"Embedded: {emb}\")\n",
        "  print(\"\\n----\\n\")"
      ],
      "metadata": {
        "colab": {
          "base_uri": "https://localhost:8080/"
        },
        "id": "nJXEHpTrmyuA",
        "outputId": "83b1d266-c33d-410c-a551-3be41c6b8892"
      },
      "execution_count": 22,
      "outputs": [
        {
          "output_type": "stream",
          "name": "stdout",
          "text": [
            "Orginal Text: Devastation: coming to a @Target and find the @Starbucks closed ?? #momneedscoffee #asap #iwontmakeit\n",
            "Embedded: [[-0.01128238 -0.01936185  0.03642451 ... -0.01263402  0.00118983\n",
            "   0.03924635]\n",
            " [-0.03560989  0.03051921 -0.00087172 ... -0.00997615  0.01590313\n",
            "  -0.03331258]\n",
            " [-0.03521683 -0.00981399 -0.00284491 ... -0.04792733 -0.01664252\n",
            "  -0.03293632]\n",
            " ...\n",
            " [ 0.03977952 -0.03782602 -0.03646283 ...  0.00236253  0.03332629\n",
            "   0.02803668]\n",
            " [ 0.01645621 -0.00589932 -0.01471175 ... -0.02511839  0.00912381\n",
            "  -0.00024097]\n",
            " [ 0.01645621 -0.00589932 -0.01471175 ... -0.02511839  0.00912381\n",
            "  -0.00024097]]\n",
            "\n",
            "----\n",
            "\n"
          ]
        }
      ]
    },
    {
      "cell_type": "markdown",
      "source": [
        "## Model 0 : Naive Bayes (baseline)"
      ],
      "metadata": {
        "id": "AADwNwksjEGE"
      }
    },
    {
      "cell_type": "code",
      "source": [
        "from sklearn.feature_extraction.text import TfidfVectorizer\n",
        "from sklearn.naive_bayes import MultinomialNB\n",
        "from sklearn.pipeline import Pipeline\n",
        "\n",
        "model_0 = Pipeline([\n",
        "    (\"tfidf\", TfidfVectorizer()), \n",
        "    (\"text\", MultinomialNB())\n",
        "                    ])\n",
        "\n",
        "model_0.fit(X_train, y_train)"
      ],
      "metadata": {
        "colab": {
          "base_uri": "https://localhost:8080/"
        },
        "id": "hMLdCX66oI0s",
        "outputId": "77021fe8-a1a7-410f-eed9-2ac292050253"
      },
      "execution_count": 23,
      "outputs": [
        {
          "output_type": "execute_result",
          "data": {
            "text/plain": [
              "Pipeline(steps=[('tfidf', TfidfVectorizer()), ('text', MultinomialNB())])"
            ]
          },
          "metadata": {},
          "execution_count": 23
        }
      ]
    },
    {
      "cell_type": "code",
      "source": [
        "baseline_score = model_0.score(X_val, y_val)\n",
        "print(f\"Baseline Model Accuracy Score: {baseline_score*100:.2f}%\")"
      ],
      "metadata": {
        "colab": {
          "base_uri": "https://localhost:8080/"
        },
        "id": "snWaDnTjkIDX",
        "outputId": "bdb7b3aa-e471-4c27-9c11-a36c62df0bef"
      },
      "execution_count": 24,
      "outputs": [
        {
          "output_type": "stream",
          "name": "stdout",
          "text": [
            "Baseline Model Accuracy Score: 79.27%\n"
          ]
        }
      ]
    },
    {
      "cell_type": "code",
      "source": [
        "baseline_preds = model_0.predict(X_val)\n",
        "baseline_preds[:10]"
      ],
      "metadata": {
        "colab": {
          "base_uri": "https://localhost:8080/"
        },
        "id": "wknEX1VJkp1z",
        "outputId": "b5608212-2c2b-4618-fac0-47040e026870"
      },
      "execution_count": 25,
      "outputs": [
        {
          "output_type": "execute_result",
          "data": {
            "text/plain": [
              "array([1, 1, 1, 0, 0, 1, 1, 1, 1, 0])"
            ]
          },
          "metadata": {},
          "execution_count": 25
        }
      ]
    },
    {
      "cell_type": "code",
      "source": [
        "from sklearn.metrics import accuracy_score, precision_score, recall_score, f1_score, classification_report\n",
        "\n",
        "def evaluate_model(true, pred):\n",
        "  print(\"Classification Report:\\n\")\n",
        "  print(classification_report(true, pred, ))\n",
        "\n",
        "  return {\"accuracy\": accuracy_score(true, pred),\n",
        "          \"precision\": precision_score(true, pred, average=\"weighted\"),\n",
        "          \"recall\": recall_score(true, pred, average=\"weighted\"),\n",
        "          \"f1\": f1_score(true, pred, average=\"weighted\")}"
      ],
      "metadata": {
        "id": "zQ-64BlKkrVk"
      },
      "execution_count": 26,
      "outputs": []
    },
    {
      "cell_type": "code",
      "source": [
        "baseline_results = evaluate_model(y_val, baseline_preds)"
      ],
      "metadata": {
        "colab": {
          "base_uri": "https://localhost:8080/"
        },
        "id": "Z8AqqP30lpKR",
        "outputId": "2b4f8d04-d9c9-473e-f0e3-f42695abd101"
      },
      "execution_count": 27,
      "outputs": [
        {
          "output_type": "stream",
          "name": "stdout",
          "text": [
            "Classification Report:\n",
            "\n",
            "              precision    recall  f1-score   support\n",
            "\n",
            "           0       0.75      0.93      0.83       414\n",
            "           1       0.89      0.63      0.73       348\n",
            "\n",
            "    accuracy                           0.79       762\n",
            "   macro avg       0.82      0.78      0.78       762\n",
            "weighted avg       0.81      0.79      0.79       762\n",
            "\n"
          ]
        }
      ]
    },
    {
      "cell_type": "markdown",
      "source": [
        "## Model 1 : Dense Model (Feed-forward NN)"
      ],
      "metadata": {
        "id": "TqUk4owgntK0"
      }
    },
    {
      "cell_type": "code",
      "source": [
        "SAVE_DIR = \"model_logs\""
      ],
      "metadata": {
        "id": "6RxDxxt3lyEq"
      },
      "execution_count": 28,
      "outputs": []
    },
    {
      "cell_type": "code",
      "source": [
        "tf.random.set_seed(42)\n",
        "\n",
        "embedding = tf.keras.layers.Embedding(input_dim=10000, # set input shape\n",
        "                                      output_dim=128, # set size of embedding vector\n",
        "                                      embeddings_initializer=\"uniform\", # default, intialize randomly\n",
        "                                      input_length=15, # how long is each input\n",
        "                                      name=\"embedding_1\")\n",
        "\n",
        "embedding"
      ],
      "metadata": {
        "colab": {
          "base_uri": "https://localhost:8080/"
        },
        "id": "B2IMdvp7SlRI",
        "outputId": "da456d0c-1e8c-4f6f-eccd-d30288a5855d"
      },
      "execution_count": 29,
      "outputs": [
        {
          "output_type": "execute_result",
          "data": {
            "text/plain": [
              "<keras.layers.core.embedding.Embedding at 0x7fb7f0054100>"
            ]
          },
          "metadata": {},
          "execution_count": 29
        }
      ]
    },
    {
      "cell_type": "code",
      "source": [
        "from tensorflow.keras import layers\n",
        "\n",
        "inputs = layers.Input(shape=(1,), dtype=tf.string)\n",
        "\n",
        "x = text_vectorizer(inputs)\n",
        "x = embedding(x)\n",
        "\n",
        "x = layers.GlobalAveragePooling1D()(x)\n",
        "outputs = layers.Dense(1, activation=\"sigmoid\")(x)\n",
        "\n",
        "model_1 = tf.keras.Model(inputs, outputs)\n",
        "model_1.summary()"
      ],
      "metadata": {
        "colab": {
          "base_uri": "https://localhost:8080/"
        },
        "id": "vtyHZSCFoCQj",
        "outputId": "b9d273d6-0940-400d-80d9-f83aa6832035"
      },
      "execution_count": 30,
      "outputs": [
        {
          "output_type": "stream",
          "name": "stdout",
          "text": [
            "Model: \"model\"\n",
            "_________________________________________________________________\n",
            " Layer (type)                Output Shape              Param #   \n",
            "=================================================================\n",
            " input_1 (InputLayer)        [(None, 1)]               0         \n",
            "                                                                 \n",
            " text_vectorization (TextVec  (None, 15)               0         \n",
            " torization)                                                     \n",
            "                                                                 \n",
            " embedding_1 (Embedding)     (None, 15, 128)           1280000   \n",
            "                                                                 \n",
            " global_average_pooling1d (G  (None, 128)              0         \n",
            " lobalAveragePooling1D)                                          \n",
            "                                                                 \n",
            " dense (Dense)               (None, 1)                 129       \n",
            "                                                                 \n",
            "=================================================================\n",
            "Total params: 1,280,129\n",
            "Trainable params: 1,280,129\n",
            "Non-trainable params: 0\n",
            "_________________________________________________________________\n"
          ]
        }
      ]
    },
    {
      "cell_type": "code",
      "source": [
        "model_1.compile(loss=\"binary_crossentropy\",\n",
        "                optimizer=tf.keras.optimizers.Adam(),\n",
        "                metrics=['accuracy'])"
      ],
      "metadata": {
        "id": "SJBcEvXdoN5T"
      },
      "execution_count": 31,
      "outputs": []
    },
    {
      "cell_type": "code",
      "source": [
        "# embed_weights = model_1.get_layer(\"embedding_1\").get_weights()[0]\n",
        "\n",
        "# import io\n",
        "\n",
        "# # Create output writers\n",
        "# out_v = io.open(\"prev-emb-vectors.tsv\", \"w\", encoding=\"utf-8\")\n",
        "# out_m = io.open(\"embedding_metadata.tsv\", \"w\", encoding=\"utf-8\")\n",
        "\n",
        "# words_in_vocab = text_vectorizer.get_vocabulary()\n",
        "\n",
        "# # Write embedding vectors and words to file\n",
        "# for num, word in enumerate(words_in_vocab):\n",
        "#   if num == 0: \n",
        "#      continue # skip padding token\n",
        "#   vec = embed_weights[num]\n",
        "#   out_m.write(word + \"\\n\") # write words to file\n",
        "#   out_v.write(\"\\t\".join([str(x) for x in vec]) + \"\\n\") # write corresponding word vector to file\n",
        "# out_v.close()\n",
        "# out_m.close()\n",
        "\n",
        "# # Download files locally to upload to Embedding Projector\n",
        "# try:\n",
        "#   from google.colab import files\n",
        "# except ImportError:\n",
        "#   pass\n",
        "# else:\n",
        "#   files.download(\"prev-emb-vectors.tsv\")\n",
        "#   files.download(\"embedding_metadata.tsv\")"
      ],
      "metadata": {
        "id": "__-WJSU4AOES"
      },
      "execution_count": 32,
      "outputs": []
    },
    {
      "cell_type": "code",
      "source": [
        "model_1_history = model_1.fit(x = X_train, y = y_train,\n",
        "                              epochs = 5,\n",
        "                              validation_data = (X_val, y_val),\n",
        "                              callbacks=[create_tensorboard_callback(SAVE_DIR, \"model_1\")])"
      ],
      "metadata": {
        "colab": {
          "base_uri": "https://localhost:8080/"
        },
        "id": "qjV1yAYOpMUY",
        "outputId": "7e826f17-1e0a-42d2-d367-1551164b676b"
      },
      "execution_count": 33,
      "outputs": [
        {
          "output_type": "stream",
          "name": "stdout",
          "text": [
            "Saving TensorBoard log files to: model_logs/model_1/20230127-085950\n",
            "Epoch 1/5\n",
            "215/215 [==============================] - 4s 10ms/step - loss: 0.6094 - accuracy: 0.6916 - val_loss: 0.5357 - val_accuracy: 0.7572\n",
            "Epoch 2/5\n",
            "215/215 [==============================] - 2s 7ms/step - loss: 0.4410 - accuracy: 0.8189 - val_loss: 0.4691 - val_accuracy: 0.7848\n",
            "Epoch 3/5\n",
            "215/215 [==============================] - 2s 7ms/step - loss: 0.3463 - accuracy: 0.8605 - val_loss: 0.4590 - val_accuracy: 0.7900\n",
            "Epoch 4/5\n",
            "215/215 [==============================] - 1s 7ms/step - loss: 0.2848 - accuracy: 0.8923 - val_loss: 0.4641 - val_accuracy: 0.7927\n",
            "Epoch 5/5\n",
            "215/215 [==============================] - 2s 7ms/step - loss: 0.2380 - accuracy: 0.9118 - val_loss: 0.4767 - val_accuracy: 0.7874\n"
          ]
        }
      ]
    },
    {
      "cell_type": "code",
      "source": [
        "model_1_preds = model_1.predict(X_val)\n",
        "print(model_1.evaluate(X_val, y_val))\n",
        "\n",
        "model_1_preds = tf.squeeze(tf.round(model_1_preds))"
      ],
      "metadata": {
        "colab": {
          "base_uri": "https://localhost:8080/"
        },
        "id": "o8C5Dahfpm0M",
        "outputId": "59ad2aec-f5e7-425d-ba3d-38ac74a1f150"
      },
      "execution_count": 34,
      "outputs": [
        {
          "output_type": "stream",
          "name": "stdout",
          "text": [
            "24/24 [==============================] - 0s 2ms/step\n",
            "24/24 [==============================] - 0s 5ms/step - loss: 0.4767 - accuracy: 0.7874\n",
            "[0.4766846001148224, 0.787401556968689]\n"
          ]
        }
      ]
    },
    {
      "cell_type": "code",
      "source": [
        "model_1_results = evaluate_model(y_val, model_1_preds)"
      ],
      "metadata": {
        "colab": {
          "base_uri": "https://localhost:8080/"
        },
        "id": "eOiSnNdGrfgV",
        "outputId": "69d6c822-8309-4347-c55c-dde770089f5f"
      },
      "execution_count": 35,
      "outputs": [
        {
          "output_type": "stream",
          "name": "stdout",
          "text": [
            "Classification Report:\n",
            "\n",
            "              precision    recall  f1-score   support\n",
            "\n",
            "           0       0.77      0.87      0.82       414\n",
            "           1       0.82      0.68      0.75       348\n",
            "\n",
            "    accuracy                           0.79       762\n",
            "   macro avg       0.79      0.78      0.78       762\n",
            "weighted avg       0.79      0.79      0.78       762\n",
            "\n"
          ]
        }
      ]
    },
    {
      "cell_type": "code",
      "source": [
        "np.array(list(model_1_results.values())) > np.array(list(baseline_results.values()))"
      ],
      "metadata": {
        "colab": {
          "base_uri": "https://localhost:8080/"
        },
        "id": "2Z3I7a4qrvdW",
        "outputId": "3d46f3d5-7487-4779-e972-88d368e0de39"
      },
      "execution_count": 36,
      "outputs": [
        {
          "output_type": "execute_result",
          "data": {
            "text/plain": [
              "array([False, False, False, False])"
            ]
          },
          "metadata": {},
          "execution_count": 36
        }
      ]
    },
    {
      "cell_type": "code",
      "source": [
        "# embed_weights = model_1.get_layer(\"embedding_1\").get_weights()[0]\n",
        "\n",
        "# # Create output writers\n",
        "# out_v = io.open(\"new-emb-vectors.tsv\", \"w\", encoding=\"utf-8\")\n",
        "\n",
        "# words_in_vocab = text_vectorizer.get_vocabulary()\n",
        "\n",
        "# # Write embedding vectors and words to file\n",
        "# for num, word in enumerate(words_in_vocab):\n",
        "#   if num == 0: \n",
        "#      continue # skip padding token\n",
        "#   vec = embed_weights[num]\n",
        "#   out_v.write(\"\\t\".join([str(x) for x in vec]) + \"\\n\") # write corresponding word vector to file\n",
        "# out_v.close()\n",
        "\n",
        "# # Download files locally to upload to Embedding Projector\n",
        "# try:\n",
        "#   from google.colab import files\n",
        "# except ImportError:\n",
        "#   pass\n",
        "# else:\n",
        "#   files.download(\"new-emb-vectors.tsv\")"
      ],
      "metadata": {
        "id": "5-dLamtqAw5w"
      },
      "execution_count": 37,
      "outputs": []
    },
    {
      "cell_type": "markdown",
      "source": [
        "### Visualizing the weights\n",
        "\n",
        "Go to http://projector.tensorflow.org/"
      ],
      "metadata": {
        "id": "W4QFE18f_lzx"
      }
    },
    {
      "cell_type": "markdown",
      "source": [
        "## Recurrent Neural Networks (RNN's)\n",
        "\n",
        "Read about RNNs in deep \n",
        "\n",
        "📖 Resources:\n",
        "\n",
        "- MIT Deep Learning Lecture on Recurrent Neural Networks - explains the background of recurrent neural networks and introduces LSTMs.\n",
        "- The Unreasonable Effectiveness of Recurrent Neural Networks by Andrej Karpathy - demonstrates the power of RNN's with examples generating various sequences.\n",
        "- Understanding LSTMs by Chris Olah - an in-depth (and technical) look at the mechanics of the LSTM cell, possibly the most popular RNN building block."
      ],
      "metadata": {
        "id": "txWfNmok_RLW"
      }
    },
    {
      "cell_type": "markdown",
      "source": [
        "## Model 2: LSTM"
      ],
      "metadata": {
        "id": "hyz0MJHgHsty"
      }
    },
    {
      "cell_type": "code",
      "source": [
        "tf.random.set_seed(42)\n",
        "\n",
        "embedding = tf.keras.layers.Embedding(input_dim=10000, # set input shape\n",
        "                                      output_dim=128, # set size of embedding vector\n",
        "                                      embeddings_initializer=\"uniform\", # default, intialize randomly\n",
        "                                      input_length=15, # how long is each input\n",
        "                                      name=\"embedding_1\")\n",
        "\n",
        "embedding"
      ],
      "metadata": {
        "colab": {
          "base_uri": "https://localhost:8080/"
        },
        "id": "7Dm6VTuTSnLB",
        "outputId": "5d5b7724-5312-4916-c233-4a42f4ee99af"
      },
      "execution_count": 38,
      "outputs": [
        {
          "output_type": "execute_result",
          "data": {
            "text/plain": [
              "<keras.layers.core.embedding.Embedding at 0x7fb79c0a7100>"
            ]
          },
          "metadata": {},
          "execution_count": 38
        }
      ]
    },
    {
      "cell_type": "code",
      "source": [
        "from tensorflow.keras import layers\n",
        "\n",
        "inputs = layers.Input(shape=(1,), dtype='string')\n",
        "\n",
        "x = text_vectorizer(inputs)\n",
        "x = embedding(x)\n",
        "print(x.shape)\n",
        "\n",
        "# x = layers.LSTM(units=64, return_sequences=True)(x) # when stacking RNNs u need to use return_sequences as True, else it is a error bro\n",
        "# # LSTM takes 3d vector as the input [batch, timestep, feature]. Dive deeper in TF docs\n",
        "# print(x.shape)\n",
        "x = layers.LSTM(units=64)(x)\n",
        "# print(x.shape)\n",
        "\n",
        "# x = layers.Dense(units=64, activation='relu')(x)\n",
        "outputs = layers.Dense(1, activation='sigmoid')(x)\n",
        "\n",
        "model_2 = tf.keras.Model(inputs, outputs, name=\"model_2_LSTM\")\n",
        "\n",
        "model_2.summary()"
      ],
      "metadata": {
        "colab": {
          "base_uri": "https://localhost:8080/"
        },
        "id": "GB7IartAr7Wh",
        "outputId": "fb7aa436-7c71-45d7-b184-b56e037459ca"
      },
      "execution_count": 39,
      "outputs": [
        {
          "output_type": "stream",
          "name": "stdout",
          "text": [
            "(None, 15, 128)\n",
            "Model: \"model_2_LSTM\"\n",
            "_________________________________________________________________\n",
            " Layer (type)                Output Shape              Param #   \n",
            "=================================================================\n",
            " input_2 (InputLayer)        [(None, 1)]               0         \n",
            "                                                                 \n",
            " text_vectorization (TextVec  (None, 15)               0         \n",
            " torization)                                                     \n",
            "                                                                 \n",
            " embedding_1 (Embedding)     (None, 15, 128)           1280000   \n",
            "                                                                 \n",
            " lstm (LSTM)                 (None, 64)                49408     \n",
            "                                                                 \n",
            " dense_1 (Dense)             (None, 1)                 65        \n",
            "                                                                 \n",
            "=================================================================\n",
            "Total params: 1,329,473\n",
            "Trainable params: 1,329,473\n",
            "Non-trainable params: 0\n",
            "_________________________________________________________________\n"
          ]
        }
      ]
    },
    {
      "cell_type": "code",
      "source": [
        "model_2.compile(loss='binary_crossentropy',\n",
        "                optimizer=tf.keras.optimizers.Adam(),\n",
        "                metrics=['accuracy'])"
      ],
      "metadata": {
        "id": "XNjgD2e8G4cY"
      },
      "execution_count": 40,
      "outputs": []
    },
    {
      "cell_type": "code",
      "source": [
        "history_model_2 = model_2.fit(X_train, y_train,\n",
        "                              epochs=5,\n",
        "                              validation_data=(X_val, y_val),\n",
        "                              callbacks=[create_tensorboard_callback(SAVE_DIR, \"model_2\")])"
      ],
      "metadata": {
        "colab": {
          "base_uri": "https://localhost:8080/"
        },
        "id": "l7nllqObO6K4",
        "outputId": "155d878e-5ebe-4ed4-d304-a6ef1a3e25f3"
      },
      "execution_count": 41,
      "outputs": [
        {
          "output_type": "stream",
          "name": "stdout",
          "text": [
            "Saving TensorBoard log files to: model_logs/model_2/20230127-090001\n",
            "Epoch 1/5\n",
            "215/215 [==============================] - 7s 14ms/step - loss: 0.5100 - accuracy: 0.7416 - val_loss: 0.4566 - val_accuracy: 0.7822\n",
            "Epoch 2/5\n",
            "215/215 [==============================] - 2s 10ms/step - loss: 0.3176 - accuracy: 0.8717 - val_loss: 0.5138 - val_accuracy: 0.7756\n",
            "Epoch 3/5\n",
            "215/215 [==============================] - 2s 11ms/step - loss: 0.2201 - accuracy: 0.9152 - val_loss: 0.5858 - val_accuracy: 0.7677\n",
            "Epoch 4/5\n",
            "215/215 [==============================] - 2s 11ms/step - loss: 0.1556 - accuracy: 0.9428 - val_loss: 0.6041 - val_accuracy: 0.7743\n",
            "Epoch 5/5\n",
            "215/215 [==============================] - 2s 11ms/step - loss: 0.1076 - accuracy: 0.9594 - val_loss: 0.8746 - val_accuracy: 0.7507\n"
          ]
        }
      ]
    },
    {
      "cell_type": "code",
      "source": [
        "model_2_preds = tf.squeeze(tf.round(model_2.predict(X_val)))\n",
        "model_2_preds[:10]"
      ],
      "metadata": {
        "colab": {
          "base_uri": "https://localhost:8080/"
        },
        "id": "UPYGD_Z7PM1W",
        "outputId": "8aa1bddd-06ed-4c67-8142-a9f0db697ca2"
      },
      "execution_count": 42,
      "outputs": [
        {
          "output_type": "stream",
          "name": "stdout",
          "text": [
            "24/24 [==============================] - 1s 5ms/step\n"
          ]
        },
        {
          "output_type": "execute_result",
          "data": {
            "text/plain": [
              "<tf.Tensor: shape=(10,), dtype=float32, numpy=array([0., 1., 1., 0., 0., 1., 1., 1., 1., 1.], dtype=float32)>"
            ]
          },
          "metadata": {},
          "execution_count": 42
        }
      ]
    },
    {
      "cell_type": "code",
      "source": [
        "model_2.evaluate(X_val, y_val)"
      ],
      "metadata": {
        "colab": {
          "base_uri": "https://localhost:8080/"
        },
        "id": "BQ5vynvvPbqP",
        "outputId": "c63d6a9a-bba4-40f7-bc38-9457e0318509"
      },
      "execution_count": 43,
      "outputs": [
        {
          "output_type": "stream",
          "name": "stdout",
          "text": [
            "24/24 [==============================] - 0s 5ms/step - loss: 0.8746 - accuracy: 0.7507\n"
          ]
        },
        {
          "output_type": "execute_result",
          "data": {
            "text/plain": [
              "[0.8746165633201599, 0.7506561875343323]"
            ]
          },
          "metadata": {},
          "execution_count": 43
        }
      ]
    },
    {
      "cell_type": "code",
      "source": [
        "model_2_results = evaluate_model(y_val, model_2_preds)\n",
        "model_2_results"
      ],
      "metadata": {
        "colab": {
          "base_uri": "https://localhost:8080/"
        },
        "id": "gerSgpfMPlUY",
        "outputId": "04f55643-aae2-4566-e44a-7798ca94e016"
      },
      "execution_count": 44,
      "outputs": [
        {
          "output_type": "stream",
          "name": "stdout",
          "text": [
            "Classification Report:\n",
            "\n",
            "              precision    recall  f1-score   support\n",
            "\n",
            "           0       0.75      0.82      0.78       414\n",
            "           1       0.75      0.67      0.71       348\n",
            "\n",
            "    accuracy                           0.75       762\n",
            "   macro avg       0.75      0.74      0.75       762\n",
            "weighted avg       0.75      0.75      0.75       762\n",
            "\n"
          ]
        },
        {
          "output_type": "execute_result",
          "data": {
            "text/plain": [
              "{'accuracy': 0.7506561679790026,\n",
              " 'precision': 0.7510077975908164,\n",
              " 'recall': 0.7506561679790026,\n",
              " 'f1': 0.7489268622514025}"
            ]
          },
          "metadata": {},
          "execution_count": 44
        }
      ]
    },
    {
      "cell_type": "markdown",
      "source": [
        "## Model 3: GRU "
      ],
      "metadata": {
        "id": "Z1NU36cEP87L"
      }
    },
    {
      "cell_type": "code",
      "source": [
        "tf.random.set_seed(42)\n",
        "\n",
        "embedding = tf.keras.layers.Embedding(input_dim=10000, # set input shape\n",
        "                                      output_dim=128, # set size of embedding vector\n",
        "                                      embeddings_initializer=\"uniform\", # default, intialize randomly\n",
        "                                      input_length=15, # how long is each input\n",
        "                                      name=\"embedding_1\")\n",
        "\n",
        "embedding"
      ],
      "metadata": {
        "colab": {
          "base_uri": "https://localhost:8080/"
        },
        "id": "pStX2HmzSpBu",
        "outputId": "d75426e7-028b-4835-d19d-352341ba5c9f"
      },
      "execution_count": 45,
      "outputs": [
        {
          "output_type": "execute_result",
          "data": {
            "text/plain": [
              "<keras.layers.core.embedding.Embedding at 0x7fb79c0a96a0>"
            ]
          },
          "metadata": {},
          "execution_count": 45
        }
      ]
    },
    {
      "cell_type": "code",
      "source": [
        "from tensorflow.keras import layers\n",
        "\n",
        "inputs = layers.Input(shape=(1,), dtype='string')\n",
        "\n",
        "x = text_vectorizer(inputs)\n",
        "x = embedding(x)\n",
        "\n",
        "x = layers.GRU(units=64, return_sequences=False)(x) #set True if stacking\n",
        "# x = layers.LSTM(units=99, return_sequences=True)(x)\n",
        "# x = layers.GRU(units=64)(x)\n",
        "\n",
        "outputs = layers.Dense(1, activation='sigmoid')(x)\n",
        "\n",
        "model_3 = tf.keras.Model(inputs, outputs, name=\"model_3_GRU\")\n",
        "\n",
        "model_3.summary()"
      ],
      "metadata": {
        "colab": {
          "base_uri": "https://localhost:8080/"
        },
        "id": "R5BJJKrNP_ZM",
        "outputId": "666f42d9-2822-464e-8a45-96e54f4687cd"
      },
      "execution_count": 46,
      "outputs": [
        {
          "output_type": "stream",
          "name": "stdout",
          "text": [
            "Model: \"model_3_GRU\"\n",
            "_________________________________________________________________\n",
            " Layer (type)                Output Shape              Param #   \n",
            "=================================================================\n",
            " input_3 (InputLayer)        [(None, 1)]               0         \n",
            "                                                                 \n",
            " text_vectorization (TextVec  (None, 15)               0         \n",
            " torization)                                                     \n",
            "                                                                 \n",
            " embedding_1 (Embedding)     (None, 15, 128)           1280000   \n",
            "                                                                 \n",
            " gru (GRU)                   (None, 64)                37248     \n",
            "                                                                 \n",
            " dense_2 (Dense)             (None, 1)                 65        \n",
            "                                                                 \n",
            "=================================================================\n",
            "Total params: 1,317,313\n",
            "Trainable params: 1,317,313\n",
            "Non-trainable params: 0\n",
            "_________________________________________________________________\n"
          ]
        }
      ]
    },
    {
      "cell_type": "code",
      "source": [
        "model_3.compile(loss='binary_crossentropy',\n",
        "                optimizer=tf.keras.optimizers.Adam(),\n",
        "                metrics=['accuracy'])"
      ],
      "metadata": {
        "id": "8ZOv_QzCQIWg"
      },
      "execution_count": 47,
      "outputs": []
    },
    {
      "cell_type": "code",
      "source": [
        "history_model_3 = model_3.fit(X_train, y_train,\n",
        "                              epochs=5,\n",
        "                              validation_data=(X_val, y_val),\n",
        "                              callbacks=[create_tensorboard_callback(SAVE_DIR, \"model_3\")])"
      ],
      "metadata": {
        "colab": {
          "base_uri": "https://localhost:8080/"
        },
        "id": "F_LnqTNQQh_a",
        "outputId": "9f3d6a5f-822a-4dd5-c7aa-5838889e3cb2"
      },
      "execution_count": 48,
      "outputs": [
        {
          "output_type": "stream",
          "name": "stdout",
          "text": [
            "Saving TensorBoard log files to: model_logs/model_3/20230127-090026\n",
            "Epoch 1/5\n",
            "215/215 [==============================] - 7s 14ms/step - loss: 0.5242 - accuracy: 0.7314 - val_loss: 0.4553 - val_accuracy: 0.7769\n",
            "Epoch 2/5\n",
            "215/215 [==============================] - 1s 7ms/step - loss: 0.3195 - accuracy: 0.8694 - val_loss: 0.4937 - val_accuracy: 0.7808\n",
            "Epoch 3/5\n",
            "215/215 [==============================] - 2s 9ms/step - loss: 0.2197 - accuracy: 0.9181 - val_loss: 0.5607 - val_accuracy: 0.7743\n",
            "Epoch 4/5\n",
            "215/215 [==============================] - 2s 10ms/step - loss: 0.1599 - accuracy: 0.9441 - val_loss: 0.6220 - val_accuracy: 0.7782\n",
            "Epoch 5/5\n",
            "215/215 [==============================] - 2s 8ms/step - loss: 0.1221 - accuracy: 0.9584 - val_loss: 0.6205 - val_accuracy: 0.7677\n"
          ]
        }
      ]
    },
    {
      "cell_type": "code",
      "source": [
        "model_3_preds = tf.squeeze(tf.round(model_3.predict(X_val)))\n",
        "model_3_preds[:10]"
      ],
      "metadata": {
        "colab": {
          "base_uri": "https://localhost:8080/"
        },
        "id": "s7bNXbZSQoKI",
        "outputId": "3e645306-1da9-428f-9f65-31635846b2c1"
      },
      "execution_count": 49,
      "outputs": [
        {
          "output_type": "stream",
          "name": "stdout",
          "text": [
            "24/24 [==============================] - 1s 5ms/step\n"
          ]
        },
        {
          "output_type": "execute_result",
          "data": {
            "text/plain": [
              "<tf.Tensor: shape=(10,), dtype=float32, numpy=array([0., 1., 1., 0., 0., 1., 1., 1., 1., 1.], dtype=float32)>"
            ]
          },
          "metadata": {},
          "execution_count": 49
        }
      ]
    },
    {
      "cell_type": "code",
      "source": [
        "model_3.evaluate(X_val, y_val)"
      ],
      "metadata": {
        "colab": {
          "base_uri": "https://localhost:8080/"
        },
        "id": "ycdIyNOpQ1lU",
        "outputId": "6d4658b2-03a4-478b-95bb-8f8eb1524a54"
      },
      "execution_count": 50,
      "outputs": [
        {
          "output_type": "stream",
          "name": "stdout",
          "text": [
            "24/24 [==============================] - 0s 3ms/step - loss: 0.6205 - accuracy: 0.7677\n"
          ]
        },
        {
          "output_type": "execute_result",
          "data": {
            "text/plain": [
              "[0.6204835772514343, 0.7677165269851685]"
            ]
          },
          "metadata": {},
          "execution_count": 50
        }
      ]
    },
    {
      "cell_type": "code",
      "source": [
        "model_3_results = evaluate_model(y_val, model_3_preds)\n",
        "model_3_results"
      ],
      "metadata": {
        "colab": {
          "base_uri": "https://localhost:8080/"
        },
        "id": "HaQ1hNOLQ46N",
        "outputId": "505c0a85-75cf-4d5a-d613-45a22e05553a"
      },
      "execution_count": 51,
      "outputs": [
        {
          "output_type": "stream",
          "name": "stdout",
          "text": [
            "Classification Report:\n",
            "\n",
            "              precision    recall  f1-score   support\n",
            "\n",
            "           0       0.77      0.82      0.79       414\n",
            "           1       0.76      0.71      0.74       348\n",
            "\n",
            "    accuracy                           0.77       762\n",
            "   macro avg       0.77      0.76      0.76       762\n",
            "weighted avg       0.77      0.77      0.77       762\n",
            "\n"
          ]
        },
        {
          "output_type": "execute_result",
          "data": {
            "text/plain": [
              "{'accuracy': 0.7677165354330708,\n",
              " 'precision': 0.7675450859410361,\n",
              " 'recall': 0.7677165354330708,\n",
              " 'f1': 0.7667932666650168}"
            ]
          },
          "metadata": {},
          "execution_count": 51
        }
      ]
    },
    {
      "cell_type": "markdown",
      "source": [
        "## Model 4: Bidirectional RNNs"
      ],
      "metadata": {
        "id": "8C--wTb_Yq5t"
      }
    },
    {
      "cell_type": "code",
      "source": [
        "tf.random.set_seed(42)\n",
        "\n",
        "embedding = tf.keras.layers.Embedding(input_dim=10000, # set input shape\n",
        "                                      output_dim=128, # set size of embedding vector\n",
        "                                      embeddings_initializer=\"uniform\", # default, intialize randomly\n",
        "                                      input_length=15, # how long is each input\n",
        "                                      name=\"embedding_1\")\n",
        "\n",
        "embedding"
      ],
      "metadata": {
        "colab": {
          "base_uri": "https://localhost:8080/"
        },
        "id": "5kvCGIiPSqXQ",
        "outputId": "cb1af1e7-8b9a-4d28-cf64-3055706a0b62"
      },
      "execution_count": 52,
      "outputs": [
        {
          "output_type": "execute_result",
          "data": {
            "text/plain": [
              "<keras.layers.core.embedding.Embedding at 0x7fb797f12490>"
            ]
          },
          "metadata": {},
          "execution_count": 52
        }
      ]
    },
    {
      "cell_type": "code",
      "source": [
        "from tensorflow.keras import layers\n",
        "\n",
        "inputs = layers.Input(shape=(1,), dtype='string')\n",
        "\n",
        "x = text_vectorizer(inputs)\n",
        "x = embedding(x)\n",
        "\n",
        "x = layers.Bidirectional(layers.LSTM(64, return_sequences=False))(x) #set True if stacking\n",
        "# x = layers.Bidirectional(layers.GRU(64, return_sequences=False))(x)\n",
        "# x = layers.LSTM(units=99, return_sequences=True)(x)\n",
        "# x = layers.GRU(units=64)(x)\n",
        "\n",
        "outputs = layers.Dense(1, activation='sigmoid')(x)\n",
        "model_4 = tf.keras.Model(inputs, outputs, name=\"model_4_bidirectional\")\n",
        "\n",
        "model_4.summary()"
      ],
      "metadata": {
        "colab": {
          "base_uri": "https://localhost:8080/"
        },
        "id": "2SnKZ6s5Q-uw",
        "outputId": "856f0622-2a03-4699-b0d1-ef7f0606eaa6"
      },
      "execution_count": 53,
      "outputs": [
        {
          "output_type": "stream",
          "name": "stdout",
          "text": [
            "Model: \"model_4_bidirectional\"\n",
            "_________________________________________________________________\n",
            " Layer (type)                Output Shape              Param #   \n",
            "=================================================================\n",
            " input_4 (InputLayer)        [(None, 1)]               0         \n",
            "                                                                 \n",
            " text_vectorization (TextVec  (None, 15)               0         \n",
            " torization)                                                     \n",
            "                                                                 \n",
            " embedding_1 (Embedding)     (None, 15, 128)           1280000   \n",
            "                                                                 \n",
            " bidirectional (Bidirectiona  (None, 128)              98816     \n",
            " l)                                                              \n",
            "                                                                 \n",
            " dense_3 (Dense)             (None, 1)                 129       \n",
            "                                                                 \n",
            "=================================================================\n",
            "Total params: 1,378,945\n",
            "Trainable params: 1,378,945\n",
            "Non-trainable params: 0\n",
            "_________________________________________________________________\n"
          ]
        }
      ]
    },
    {
      "cell_type": "code",
      "source": [
        "model_4.compile(loss='binary_crossentropy',\n",
        "                optimizer=tf.keras.optimizers.Adam(),\n",
        "                metrics=['accuracy'])"
      ],
      "metadata": {
        "id": "fxyD5BaiZYHE"
      },
      "execution_count": 54,
      "outputs": []
    },
    {
      "cell_type": "code",
      "source": [
        "history_model_4 = model_4.fit(X_train, y_train,\n",
        "                              epochs=5,\n",
        "                              validation_data=(X_val, y_val),\n",
        "                              callbacks=[create_tensorboard_callback(SAVE_DIR, \"model_4\")])"
      ],
      "metadata": {
        "colab": {
          "base_uri": "https://localhost:8080/"
        },
        "id": "gPCwMfI6ZxEd",
        "outputId": "72d1861f-8f64-47e1-8817-ea9cafc78d5b"
      },
      "execution_count": 55,
      "outputs": [
        {
          "output_type": "stream",
          "name": "stdout",
          "text": [
            "Saving TensorBoard log files to: model_logs/model_4/20230127-090042\n",
            "Epoch 1/5\n",
            "215/215 [==============================] - 6s 12ms/step - loss: 0.5093 - accuracy: 0.7481 - val_loss: 0.4606 - val_accuracy: 0.7795\n",
            "Epoch 2/5\n",
            "215/215 [==============================] - 2s 8ms/step - loss: 0.3135 - accuracy: 0.8708 - val_loss: 0.5144 - val_accuracy: 0.7690\n",
            "Epoch 3/5\n",
            "215/215 [==============================] - 2s 8ms/step - loss: 0.2150 - accuracy: 0.9178 - val_loss: 0.5626 - val_accuracy: 0.7677\n",
            "Epoch 4/5\n",
            "215/215 [==============================] - 2s 8ms/step - loss: 0.1523 - accuracy: 0.9469 - val_loss: 0.6365 - val_accuracy: 0.7769\n",
            "Epoch 5/5\n",
            "215/215 [==============================] - 2s 8ms/step - loss: 0.1083 - accuracy: 0.9639 - val_loss: 0.6509 - val_accuracy: 0.7664\n"
          ]
        }
      ]
    },
    {
      "cell_type": "code",
      "source": [
        "model_4.evaluate(X_val, y_val)"
      ],
      "metadata": {
        "colab": {
          "base_uri": "https://localhost:8080/"
        },
        "id": "mO2dU2MHZ8Vq",
        "outputId": "a1b8a0c0-6a3e-439d-dff5-c96ddfd172c3"
      },
      "execution_count": 56,
      "outputs": [
        {
          "output_type": "stream",
          "name": "stdout",
          "text": [
            "24/24 [==============================] - 0s 5ms/step - loss: 0.6509 - accuracy: 0.7664\n"
          ]
        },
        {
          "output_type": "execute_result",
          "data": {
            "text/plain": [
              "[0.6509270071983337, 0.7664042115211487]"
            ]
          },
          "metadata": {},
          "execution_count": 56
        }
      ]
    },
    {
      "cell_type": "code",
      "source": [
        "model_4_preds = tf.squeeze(tf.round(model_4.predict(X_val)))\n",
        "model_4_preds[:10]"
      ],
      "metadata": {
        "colab": {
          "base_uri": "https://localhost:8080/"
        },
        "id": "iM32VDWCacTE",
        "outputId": "ad549065-c518-40dc-baa6-670d7d5c7ea7"
      },
      "execution_count": 57,
      "outputs": [
        {
          "output_type": "stream",
          "name": "stdout",
          "text": [
            "24/24 [==============================] - 1s 4ms/step\n"
          ]
        },
        {
          "output_type": "execute_result",
          "data": {
            "text/plain": [
              "<tf.Tensor: shape=(10,), dtype=float32, numpy=array([0., 1., 1., 0., 0., 1., 1., 1., 1., 0.], dtype=float32)>"
            ]
          },
          "metadata": {},
          "execution_count": 57
        }
      ]
    },
    {
      "cell_type": "code",
      "source": [
        "model_4_results = evaluate_model(y_val, model_4_preds)\n",
        "model_4_results"
      ],
      "metadata": {
        "colab": {
          "base_uri": "https://localhost:8080/"
        },
        "id": "Eic2QHqiaj90",
        "outputId": "11dce5fd-4554-43c9-b6bb-e8fe56806ee2"
      },
      "execution_count": 58,
      "outputs": [
        {
          "output_type": "stream",
          "name": "stdout",
          "text": [
            "Classification Report:\n",
            "\n",
            "              precision    recall  f1-score   support\n",
            "\n",
            "           0       0.76      0.82      0.79       414\n",
            "           1       0.77      0.70      0.73       348\n",
            "\n",
            "    accuracy                           0.77       762\n",
            "   macro avg       0.77      0.76      0.76       762\n",
            "weighted avg       0.77      0.77      0.77       762\n",
            "\n"
          ]
        },
        {
          "output_type": "execute_result",
          "data": {
            "text/plain": [
              "{'accuracy': 0.7664041994750657,\n",
              " 'precision': 0.7665895370389821,\n",
              " 'recall': 0.7664041994750657,\n",
              " 'f1': 0.7651213533864446}"
            ]
          },
          "metadata": {},
          "execution_count": 58
        }
      ]
    },
    {
      "cell_type": "code",
      "source": [
        "baseline_results"
      ],
      "metadata": {
        "colab": {
          "base_uri": "https://localhost:8080/"
        },
        "id": "kFf7Lcb3atyp",
        "outputId": "3f2d43a4-5497-443a-9ba9-c6a683bdba82"
      },
      "execution_count": 59,
      "outputs": [
        {
          "output_type": "execute_result",
          "data": {
            "text/plain": [
              "{'accuracy': 0.7926509186351706,\n",
              " 'precision': 0.8111390004213173,\n",
              " 'recall': 0.7926509186351706,\n",
              " 'f1': 0.7862189758049549}"
            ]
          },
          "metadata": {},
          "execution_count": 59
        }
      ]
    },
    {
      "cell_type": "markdown",
      "source": [
        "## Model 5: CNN 1D"
      ],
      "metadata": {
        "id": "LOCHhDIVa6hs"
      }
    },
    {
      "cell_type": "code",
      "source": [
        "tf.random.set_seed(42)\n",
        "\n",
        "embedding = tf.keras.layers.Embedding(input_dim=10000, # set input shape\n",
        "                                      output_dim=128, # set size of embedding vector\n",
        "                                      embeddings_initializer=\"uniform\", # default, intialize randomly\n",
        "                                      input_length=15, # how long is each input\n",
        "                                      name=\"embedding_1\")\n",
        "\n",
        "embedding"
      ],
      "metadata": {
        "colab": {
          "base_uri": "https://localhost:8080/"
        },
        "id": "OtbvJyg0Sswi",
        "outputId": "e3c18d80-bac6-423a-9631-02e2f4a5111b"
      },
      "execution_count": 60,
      "outputs": [
        {
          "output_type": "execute_result",
          "data": {
            "text/plain": [
              "<keras.layers.core.embedding.Embedding at 0x7fb795642070>"
            ]
          },
          "metadata": {},
          "execution_count": 60
        }
      ]
    },
    {
      "cell_type": "code",
      "source": [
        "from tensorflow.keras import layers\n",
        "\n",
        "inputs = layers.Input(shape=(1,), dtype='string')\n",
        "\n",
        "x = text_vectorizer(inputs)\n",
        "x = embedding(x)\n",
        "\n",
        "x = layers.Conv1D(64, kernel_size=5)(x)\n",
        "x = layers.GlobalAveragePooling1D()(x)\n",
        "outputs = layers.Dense(1, activation='sigmoid')(x)\n",
        "model_5 = tf.keras.Model(inputs, outputs, name=\"model_5_conv1d\")\n",
        "\n",
        "model_5.summary()"
      ],
      "metadata": {
        "colab": {
          "base_uri": "https://localhost:8080/"
        },
        "id": "UdmpQ4oma6F4",
        "outputId": "8d25f782-bc61-42f0-cc12-6ab543720557"
      },
      "execution_count": 61,
      "outputs": [
        {
          "output_type": "stream",
          "name": "stdout",
          "text": [
            "Model: \"model_5_conv1d\"\n",
            "_________________________________________________________________\n",
            " Layer (type)                Output Shape              Param #   \n",
            "=================================================================\n",
            " input_5 (InputLayer)        [(None, 1)]               0         \n",
            "                                                                 \n",
            " text_vectorization (TextVec  (None, 15)               0         \n",
            " torization)                                                     \n",
            "                                                                 \n",
            " embedding_1 (Embedding)     (None, 15, 128)           1280000   \n",
            "                                                                 \n",
            " conv1d (Conv1D)             (None, 11, 64)            41024     \n",
            "                                                                 \n",
            " global_average_pooling1d_1   (None, 64)               0         \n",
            " (GlobalAveragePooling1D)                                        \n",
            "                                                                 \n",
            " dense_4 (Dense)             (None, 1)                 65        \n",
            "                                                                 \n",
            "=================================================================\n",
            "Total params: 1,321,089\n",
            "Trainable params: 1,321,089\n",
            "Non-trainable params: 0\n",
            "_________________________________________________________________\n"
          ]
        }
      ]
    },
    {
      "cell_type": "code",
      "source": [
        "model_5.compile(loss=\"binary_crossentropy\",\n",
        "                optimizer=tf.keras.optimizers.Adam(),\n",
        "                metrics=['accuracy'])"
      ],
      "metadata": {
        "id": "w7W4RSiCbHao"
      },
      "execution_count": 62,
      "outputs": []
    },
    {
      "cell_type": "code",
      "source": [
        "history_model_5 = model_5.fit(X_train, y_train,\n",
        "                              epochs=5,\n",
        "                              validation_data=(X_val, y_val),\n",
        "                              callbacks=[create_tensorboard_callback(SAVE_DIR, \"model_5\")])"
      ],
      "metadata": {
        "colab": {
          "base_uri": "https://localhost:8080/"
        },
        "id": "NBqeNTrhbvzu",
        "outputId": "5234d255-d7fd-49f4-d023-fc1cd6ea84f7"
      },
      "execution_count": 63,
      "outputs": [
        {
          "output_type": "stream",
          "name": "stdout",
          "text": [
            "Saving TensorBoard log files to: model_logs/model_5/20230127-090056\n",
            "Epoch 1/5\n",
            "215/215 [==============================] - 3s 7ms/step - loss: 0.5206 - accuracy: 0.7443 - val_loss: 0.4708 - val_accuracy: 0.7756\n",
            "Epoch 2/5\n",
            "215/215 [==============================] - 2s 8ms/step - loss: 0.3227 - accuracy: 0.8685 - val_loss: 0.5087 - val_accuracy: 0.7717\n",
            "Epoch 3/5\n",
            "215/215 [==============================] - 2s 10ms/step - loss: 0.2226 - accuracy: 0.9096 - val_loss: 0.5849 - val_accuracy: 0.7690\n",
            "Epoch 4/5\n",
            "215/215 [==============================] - 2s 11ms/step - loss: 0.1626 - accuracy: 0.9385 - val_loss: 0.6708 - val_accuracy: 0.7664\n",
            "Epoch 5/5\n",
            "215/215 [==============================] - 2s 9ms/step - loss: 0.1199 - accuracy: 0.9562 - val_loss: 0.7281 - val_accuracy: 0.7664\n"
          ]
        }
      ]
    },
    {
      "cell_type": "code",
      "source": [
        "model_5.evaluate(X_val, y_val)"
      ],
      "metadata": {
        "id": "_K5_1h5nb27Q",
        "colab": {
          "base_uri": "https://localhost:8080/"
        },
        "outputId": "5af66ed2-67dc-4f4a-bb9e-f71c06bafed9"
      },
      "execution_count": 64,
      "outputs": [
        {
          "output_type": "stream",
          "name": "stdout",
          "text": [
            "24/24 [==============================] - 0s 5ms/step - loss: 0.7281 - accuracy: 0.7664\n"
          ]
        },
        {
          "output_type": "execute_result",
          "data": {
            "text/plain": [
              "[0.7281109690666199, 0.7664042115211487]"
            ]
          },
          "metadata": {},
          "execution_count": 64
        }
      ]
    },
    {
      "cell_type": "code",
      "source": [
        "model_5_preds = tf.squeeze(tf.round(model_5.predict(X_val)))\n",
        "model_5_preds[:10]"
      ],
      "metadata": {
        "colab": {
          "base_uri": "https://localhost:8080/"
        },
        "id": "UEJacv8wT02F",
        "outputId": "6b35b748-7903-4bf6-de27-0edd0fc1b39e"
      },
      "execution_count": 65,
      "outputs": [
        {
          "output_type": "stream",
          "name": "stdout",
          "text": [
            "24/24 [==============================] - 0s 2ms/step\n"
          ]
        },
        {
          "output_type": "execute_result",
          "data": {
            "text/plain": [
              "<tf.Tensor: shape=(10,), dtype=float32, numpy=array([1., 1., 1., 0., 0., 1., 1., 1., 1., 0.], dtype=float32)>"
            ]
          },
          "metadata": {},
          "execution_count": 65
        }
      ]
    },
    {
      "cell_type": "code",
      "source": [
        "model_5_results = evaluate_model(y_val, model_5_preds)\n",
        "model_5_results"
      ],
      "metadata": {
        "colab": {
          "base_uri": "https://localhost:8080/"
        },
        "id": "p9oqjf8BT8BJ",
        "outputId": "7afe36f3-b201-49d8-f9bf-8012f1b68f62"
      },
      "execution_count": 66,
      "outputs": [
        {
          "output_type": "stream",
          "name": "stdout",
          "text": [
            "Classification Report:\n",
            "\n",
            "              precision    recall  f1-score   support\n",
            "\n",
            "           0       0.78      0.80      0.79       414\n",
            "           1       0.75      0.73      0.74       348\n",
            "\n",
            "    accuracy                           0.77       762\n",
            "   macro avg       0.76      0.76      0.76       762\n",
            "weighted avg       0.77      0.77      0.77       762\n",
            "\n"
          ]
        },
        {
          "output_type": "execute_result",
          "data": {
            "text/plain": [
              "{'accuracy': 0.7664041994750657,\n",
              " 'precision': 0.7660259457004495,\n",
              " 'recall': 0.7664041994750657,\n",
              " 'f1': 0.7660236549378696}"
            ]
          },
          "metadata": {},
          "execution_count": 66
        }
      ]
    },
    {
      "cell_type": "markdown",
      "source": [
        "## Model 6: TF Hub Model\n",
        "\n",
        "USE Feature Extrator : https://tfhub.dev/google/universal-sentence-encoder/1"
      ],
      "metadata": {
        "id": "hS1o7fzYUOzR"
      }
    },
    {
      "cell_type": "code",
      "source": [
        "import tensorflow_hub as hub\n",
        "\n",
        "embedding = hub.KerasLayer(\"https://tfhub.dev/google/universal-sentence-encoder/4\", \n",
        "                           input_shape=[],\n",
        "                           dtype='string',\n",
        "                           trainable=False, \n",
        "                           name=\"USE\")\n",
        "embedding"
      ],
      "metadata": {
        "colab": {
          "base_uri": "https://localhost:8080/"
        },
        "id": "hYH9-ARSVenE",
        "outputId": "2409e9df-68e7-4966-ee23-d4d0ce3a00e1"
      },
      "execution_count": 67,
      "outputs": [
        {
          "output_type": "execute_result",
          "data": {
            "text/plain": [
              "<tensorflow_hub.keras_layer.KerasLayer at 0x7fb797a46cd0>"
            ]
          },
          "metadata": {},
          "execution_count": 67
        }
      ]
    },
    {
      "cell_type": "code",
      "source": [
        "model_6 = tf.keras.Sequential([\n",
        "    embedding,\n",
        "    layers.Dense(64, activation='relu'),\n",
        "    layers.Dense(1, activation='sigmoid'),\n",
        "], name=\"model_6_use\")\n",
        "\n",
        "model_6.compile(loss=\"binary_crossentropy\",\n",
        "                optimizer=tf.keras.optimizers.Adam(),\n",
        "                metrics=['accuracy'])\n",
        "\n",
        "model_6.summary()"
      ],
      "metadata": {
        "colab": {
          "base_uri": "https://localhost:8080/"
        },
        "id": "ClrYFVicUDTT",
        "outputId": "80545fff-05dc-4a24-acf2-3b2ee370a660"
      },
      "execution_count": 68,
      "outputs": [
        {
          "output_type": "stream",
          "name": "stdout",
          "text": [
            "Model: \"model_6_use\"\n",
            "_________________________________________________________________\n",
            " Layer (type)                Output Shape              Param #   \n",
            "=================================================================\n",
            " USE (KerasLayer)            (None, 512)               256797824 \n",
            "                                                                 \n",
            " dense_5 (Dense)             (None, 64)                32832     \n",
            "                                                                 \n",
            " dense_6 (Dense)             (None, 1)                 65        \n",
            "                                                                 \n",
            "=================================================================\n",
            "Total params: 256,830,721\n",
            "Trainable params: 32,897\n",
            "Non-trainable params: 256,797,824\n",
            "_________________________________________________________________\n"
          ]
        }
      ]
    },
    {
      "cell_type": "code",
      "source": [
        "history_model_6 = model_6.fit(X_train, y_train,\n",
        "                              epochs=5,\n",
        "                              validation_data=(X_val, y_val),\n",
        "                              callbacks=[create_tensorboard_callback(SAVE_DIR, \"model_6\")])"
      ],
      "metadata": {
        "colab": {
          "base_uri": "https://localhost:8080/"
        },
        "id": "nyqasQ2EVP3N",
        "outputId": "a890bc07-41fa-448e-ccbc-067b75958c06"
      },
      "execution_count": 69,
      "outputs": [
        {
          "output_type": "stream",
          "name": "stdout",
          "text": [
            "Saving TensorBoard log files to: model_logs/model_6/20230127-090113\n",
            "Epoch 1/5\n",
            "215/215 [==============================] - 7s 14ms/step - loss: 0.5008 - accuracy: 0.7892 - val_loss: 0.4478 - val_accuracy: 0.7966\n",
            "Epoch 2/5\n",
            "215/215 [==============================] - 3s 12ms/step - loss: 0.4144 - accuracy: 0.8133 - val_loss: 0.4369 - val_accuracy: 0.8058\n",
            "Epoch 3/5\n",
            "215/215 [==============================] - 3s 12ms/step - loss: 0.3998 - accuracy: 0.8212 - val_loss: 0.4329 - val_accuracy: 0.8110\n",
            "Epoch 4/5\n",
            "215/215 [==============================] - 3s 12ms/step - loss: 0.3925 - accuracy: 0.8266 - val_loss: 0.4288 - val_accuracy: 0.8110\n",
            "Epoch 5/5\n",
            "215/215 [==============================] - 3s 12ms/step - loss: 0.3860 - accuracy: 0.8276 - val_loss: 0.4309 - val_accuracy: 0.8123\n"
          ]
        }
      ]
    },
    {
      "cell_type": "code",
      "source": [
        "model_6.evaluate(X_val, y_val)"
      ],
      "metadata": {
        "colab": {
          "base_uri": "https://localhost:8080/"
        },
        "id": "bZfLMSSfXzxq",
        "outputId": "4f2773bd-0378-4008-8d5e-6c8fc6a7f750"
      },
      "execution_count": 70,
      "outputs": [
        {
          "output_type": "stream",
          "name": "stdout",
          "text": [
            "24/24 [==============================] - 0s 10ms/step - loss: 0.4309 - accuracy: 0.8123\n"
          ]
        },
        {
          "output_type": "execute_result",
          "data": {
            "text/plain": [
              "[0.43088313937187195, 0.8123359680175781]"
            ]
          },
          "metadata": {},
          "execution_count": 70
        }
      ]
    },
    {
      "cell_type": "code",
      "source": [
        "model_6_preds = tf.squeeze(tf.round(model_6.predict(X_val)))\n",
        "model_6_preds[:10]"
      ],
      "metadata": {
        "colab": {
          "base_uri": "https://localhost:8080/"
        },
        "id": "sVllet3UX8Wm",
        "outputId": "08dee847-596e-4f1e-ff39-e1d671b7775f"
      },
      "execution_count": 71,
      "outputs": [
        {
          "output_type": "stream",
          "name": "stdout",
          "text": [
            "24/24 [==============================] - 1s 10ms/step\n"
          ]
        },
        {
          "output_type": "execute_result",
          "data": {
            "text/plain": [
              "<tf.Tensor: shape=(10,), dtype=float32, numpy=array([0., 1., 1., 0., 1., 1., 1., 1., 1., 0.], dtype=float32)>"
            ]
          },
          "metadata": {},
          "execution_count": 71
        }
      ]
    },
    {
      "cell_type": "code",
      "source": [
        "model_6_results = evaluate_model(y_val, model_6_preds)\n",
        "model_6_results"
      ],
      "metadata": {
        "colab": {
          "base_uri": "https://localhost:8080/"
        },
        "id": "_jCdSvvAYIud",
        "outputId": "1327b9d3-f26a-485b-98ed-abb53e00a837"
      },
      "execution_count": 72,
      "outputs": [
        {
          "output_type": "stream",
          "name": "stdout",
          "text": [
            "Classification Report:\n",
            "\n",
            "              precision    recall  f1-score   support\n",
            "\n",
            "           0       0.80      0.88      0.84       414\n",
            "           1       0.84      0.73      0.78       348\n",
            "\n",
            "    accuracy                           0.81       762\n",
            "   macro avg       0.82      0.81      0.81       762\n",
            "weighted avg       0.81      0.81      0.81       762\n",
            "\n"
          ]
        },
        {
          "output_type": "execute_result",
          "data": {
            "text/plain": [
              "{'accuracy': 0.8123359580052494,\n",
              " 'precision': 0.8148798668657973,\n",
              " 'recall': 0.8123359580052494,\n",
              " 'f1': 0.810686575717776}"
            ]
          },
          "metadata": {},
          "execution_count": 72
        }
      ]
    },
    {
      "cell_type": "code",
      "source": [
        "all_results = {\"baseline\": baseline_results,\n",
        "               \"dense_model\": model_1_results,\n",
        "               \"lstm\": model_2_results,\n",
        "               \"gru\": model_3_results,\n",
        "               \"bidirectional\": model_4_results,\n",
        "               \"conv1d\": model_5_results,\n",
        "               \"tfhub_use\": model_6_results}\n",
        "all_results = pd.DataFrame(all_results)\n",
        "all_results = all_results.T"
      ],
      "metadata": {
        "id": "P1sj3UkPYUkK"
      },
      "execution_count": 73,
      "outputs": []
    },
    {
      "cell_type": "code",
      "source": [
        "all_results.plot(kind='bar', figsize=(10, 7))"
      ],
      "metadata": {
        "colab": {
          "base_uri": "https://localhost:8080/",
          "height": 502
        },
        "id": "pAWIdhPPblnJ",
        "outputId": "3a293adb-c656-4c21-a0b8-009081a96dd3"
      },
      "execution_count": 74,
      "outputs": [
        {
          "output_type": "execute_result",
          "data": {
            "text/plain": [
              "<matplotlib.axes._subplots.AxesSubplot at 0x7fb7958279a0>"
            ]
          },
          "metadata": {},
          "execution_count": 74
        },
        {
          "output_type": "display_data",
          "data": {
            "text/plain": [
              "<Figure size 720x504 with 1 Axes>"
            ],
            "image/png": "[encoded data removed]"
          },
          "metadata": {
            "needs_background": "light"
          }
        }
      ]
    },
    {
      "cell_type": "code",
      "source": [
        "all_results.sort_values(['f1'], ascending=False)[\"f1\"].plot(kind='bar', figsize=(10, 7))"
      ],
      "metadata": {
        "colab": {
          "base_uri": "https://localhost:8080/",
          "height": 502
        },
        "id": "TLQdHvalbsfQ",
        "outputId": "d90d0853-daa8-4e55-ccb1-ee4696736095"
      },
      "execution_count": 75,
      "outputs": [
        {
          "output_type": "execute_result",
          "data": {
            "text/plain": [
              "<matplotlib.axes._subplots.AxesSubplot at 0x7fb7955883a0>"
            ]
          },
          "metadata": {},
          "execution_count": 75
        },
        {
          "output_type": "display_data",
          "data": {
            "text/plain": [
              "<Figure size 720x504 with 1 Axes>"
            ],
            "image/png": "[encoded data removed]"
          },
          "metadata": {
            "needs_background": "light"
          }
        }
      ]
    },
    {
      "cell_type": "code",
      "source": [
        "!tensorboard dev upload --logdir ./model_logs/ \\\n",
        "                                --name \"NLP Modelling Experiments\" \\\n",
        "                                --one_shot"
      ],
      "metadata": {
        "id": "u4Erx_5ycfmN"
      },
      "execution_count": null,
      "outputs": []
    },
    {
      "cell_type": "code",
      "source": [],
      "metadata": {
        "id": "J-aouOH9dfu1"
      },
      "execution_count": null,
      "outputs": []
    }
  ]
}