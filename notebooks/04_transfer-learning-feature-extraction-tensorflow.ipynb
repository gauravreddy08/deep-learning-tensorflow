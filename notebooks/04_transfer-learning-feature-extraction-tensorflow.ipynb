{
  "nbformat": 4,
  "nbformat_minor": 0,
  "metadata": {
    "accelerator": "GPU",
    "colab": {
      "name": "04_transfer-learning-feature-extraction-tensorflow.ipynb",
      "provenance": [],
      "collapsed_sections": [],
      "authorship_tag": "ABX9TyP4dgxKP4nGjolV+SmEtfVI",
      "include_colab_link": true
    },
    "kernelspec": {
      "display_name": "Python 3",
      "name": "python3"
    },
    "language_info": {
      "name": "python"
    }
  },
  "cells": [
    {
      "cell_type": "markdown",
      "metadata": {
        "id": "view-in-github",
        "colab_type": "text"
      },
      "source": [
        "<a href=\"https://colab.research.google.com/github/gauravreddy08/deep-learning-tensorflow/blob/main/notebooks/04_transfer-learning-feature-extraction-tensorflow.ipynb\" target=\"_parent\"><img src=\"https://colab.research.google.com/assets/colab-badge.svg\" alt=\"Open In Colab\"/></a>"
      ]
    },
    {
      "cell_type": "markdown",
      "metadata": {
        "id": "QicDCuU0cp0u"
      },
      "source": [
        "# **Transfer Learning** : Feature Extraction\n",
        "\n",
        "**Transfer Learning** in leveraging on a existing models's architecture and learned patterns, which are proven to work on similar problem of ours."
      ]
    },
    {
      "cell_type": "markdown",
      "metadata": {
        "id": "nVX85Fz3dpP0"
      },
      "source": [
        "## **Becoming One with the data**\n",
        "\n",
        "[**Kaggle's Food101**](https://www.kaggle.com/dansbecker/food-101) dataset has over 100 food classes but for now we would be only importing 10% of 10 classes from orginal Dataset."
      ]
    },
    {
      "cell_type": "code",
      "metadata": {
        "colab": {
          "base_uri": "https://localhost:8080/"
        },
        "id": "Ix6tkt5Yd1rF",
        "outputId": "6175b2c4-7eb9-48ba-9036-c533abcf47b5"
      },
      "source": [
        "import zipfile\n",
        "\n",
        "!wget https://storage.googleapis.com/ztm_tf_course/food_vision/10_food_classes_10_percent.zip\n",
        "\n",
        "zip_ref = zipfile.ZipFile(\"10_food_classes_10_percent.zip\")\n",
        "zip_ref.extractall()\n",
        "zip_ref.close()"
      ],
      "execution_count": null,
      "outputs": [
        {
          "output_type": "stream",
          "text": [
            "--2021-05-20 05:47:41--  https://storage.googleapis.com/ztm_tf_course/food_vision/10_food_classes_10_percent.zip\n",
            "Resolving storage.googleapis.com (storage.googleapis.com)... 142.250.141.128, 142.250.101.128, 2607:f8b0:4023:c0b::80, ...\n",
            "Connecting to storage.googleapis.com (storage.googleapis.com)|142.250.141.128|:443... connected.\n",
            "HTTP request sent, awaiting response... 200 OK\n",
            "Length: 168546183 (161M) [application/zip]\n",
            "Saving to: ‘10_food_classes_10_percent.zip’\n",
            "\n",
            "10_food_classes_10_ 100%[===================>] 160.74M   149MB/s    in 1.1s    \n",
            "\n",
            "2021-05-20 05:47:43 (149 MB/s) - ‘10_food_classes_10_percent.zip’ saved [168546183/168546183]\n",
            "\n"
          ],
          "name": "stdout"
        }
      ]
    },
    {
      "cell_type": "code",
      "metadata": {
        "colab": {
          "base_uri": "https://localhost:8080/"
        },
        "id": "TTaBIGu2efWH",
        "outputId": "48039ce3-eae5-4d3d-97a9-a9035159993d"
      },
      "source": [
        "import os\n",
        "\n",
        "for dirpath, dirnames, filenames in os.walk(\"10_food_classes_10_percent\"):\n",
        "  print(f\"There are {len(dirnames)} directories and {len(filenames)} images in {dirpath} \")"
      ],
      "execution_count": null,
      "outputs": [
        {
          "output_type": "stream",
          "text": [
            "There are 2 directories and 0 images in 10_food_classes_10_percent \n",
            "There are 10 directories and 0 images in 10_food_classes_10_percent/train \n",
            "There are 0 directories and 75 images in 10_food_classes_10_percent/train/steak \n",
            "There are 0 directories and 75 images in 10_food_classes_10_percent/train/ice_cream \n",
            "There are 0 directories and 75 images in 10_food_classes_10_percent/train/hamburger \n",
            "There are 0 directories and 75 images in 10_food_classes_10_percent/train/sushi \n",
            "There are 0 directories and 75 images in 10_food_classes_10_percent/train/grilled_salmon \n",
            "There are 0 directories and 75 images in 10_food_classes_10_percent/train/pizza \n",
            "There are 0 directories and 75 images in 10_food_classes_10_percent/train/chicken_wings \n",
            "There are 0 directories and 75 images in 10_food_classes_10_percent/train/chicken_curry \n",
            "There are 0 directories and 75 images in 10_food_classes_10_percent/train/fried_rice \n",
            "There are 0 directories and 75 images in 10_food_classes_10_percent/train/ramen \n",
            "There are 10 directories and 0 images in 10_food_classes_10_percent/test \n",
            "There are 0 directories and 250 images in 10_food_classes_10_percent/test/steak \n",
            "There are 0 directories and 250 images in 10_food_classes_10_percent/test/ice_cream \n",
            "There are 0 directories and 250 images in 10_food_classes_10_percent/test/hamburger \n",
            "There are 0 directories and 250 images in 10_food_classes_10_percent/test/sushi \n",
            "There are 0 directories and 250 images in 10_food_classes_10_percent/test/grilled_salmon \n",
            "There are 0 directories and 250 images in 10_food_classes_10_percent/test/pizza \n",
            "There are 0 directories and 250 images in 10_food_classes_10_percent/test/chicken_wings \n",
            "There are 0 directories and 250 images in 10_food_classes_10_percent/test/chicken_curry \n",
            "There are 0 directories and 250 images in 10_food_classes_10_percent/test/fried_rice \n",
            "There are 0 directories and 250 images in 10_food_classes_10_percent/test/ramen \n"
          ],
          "name": "stdout"
        }
      ]
    },
    {
      "cell_type": "markdown",
      "metadata": {
        "id": "Y6b9OcTigDDQ"
      },
      "source": [
        "Instead of using 750 images in a class we are now using only 75 images. This is to touch on the Power of transfer learning."
      ]
    },
    {
      "cell_type": "markdown",
      "metadata": {
        "id": "_8wPn4DufmDb"
      },
      "source": [
        "## **Preprocessing the Data**"
      ]
    },
    {
      "cell_type": "code",
      "metadata": {
        "id": "fzCH61k-gcii"
      },
      "source": [
        "import tensorflow as tf"
      ],
      "execution_count": null,
      "outputs": []
    },
    {
      "cell_type": "markdown",
      "metadata": {
        "id": "ADDx1NrmhlE9"
      },
      "source": [
        "### **Creating Data Generators and rescaling the images**"
      ]
    },
    {
      "cell_type": "code",
      "metadata": {
        "colab": {
          "base_uri": "https://localhost:8080/"
        },
        "id": "yEuH2SNjgkSh",
        "outputId": "54c1143a-8ae8-42e1-cdf9-3bfb7ab5829f"
      },
      "source": [
        "from tensorflow.keras.preprocessing.image import ImageDataGenerator\n",
        "\n",
        "IMG_SIZE = (224, 224)\n",
        "BATCH_SIZE = 32\n",
        "\n",
        "train_dir = '10_food_classes_10_percent/train'\n",
        "test_dir = '10_food_classes_10_percent/test'\n",
        "\n",
        "train_datagen = ImageDataGenerator(rescale = 1/255.)\n",
        "test_datagen = ImageDataGenerator(rescale = 1/255.)\n",
        "\n",
        "print(\"Training Images : \")\n",
        "train_data = train_datagen.flow_from_directory(train_dir,\n",
        "                                                target_size=IMG_SIZE,\n",
        "                                                batch_size=BATCH_SIZE)\n",
        "print(\"\")\n",
        "\n",
        "print(\"Test Images : \")\n",
        "test_data = test_datagen.flow_from_directory(test_dir,\n",
        "                                              target_size=IMG_SIZE,\n",
        "                                              batch_size=BATCH_SIZE)"
      ],
      "execution_count": null,
      "outputs": [
        {
          "output_type": "stream",
          "text": [
            "Training Images : \n",
            "Found 750 images belonging to 10 classes.\n",
            "\n",
            "Test Images : \n",
            "Found 2500 images belonging to 10 classes.\n"
          ],
          "name": "stdout"
        }
      ]
    },
    {
      "cell_type": "markdown",
      "metadata": {
        "id": "8J3ZUdpHhPW0"
      },
      "source": [
        "## **Setting up the Callbacks**\n",
        "\n",
        "**Callbacks** are the extra funtionality you can add to your models to be performed during or after training.\n",
        "\n",
        "* Tracking experiments with **TensorBoard Callback**\n",
        "* Model checkpoint with **ModelCheckpoint Callback**\n",
        "* Stopping a model from training longer with **EarlyStopping Callback**"
      ]
    },
    {
      "cell_type": "code",
      "metadata": {
        "id": "jJXG1RkDicx2"
      },
      "source": [
        "import datetime\n",
        "\n",
        "def create_tensorboard_callback(dir_name, experiment_name):\n",
        "  log_dir = dir_name + '/' + experiment_name + '/' + datetime.datetime.now().strftime(\"%Y%m%d-%H%M%S\")\n",
        "  tensorboard_call = tf.keras.callbacks.TensorBoard(log_dir)\n",
        "  print(f\"Saving TensorBoard log files to {log_dir}\")\n",
        "  return tensorboard_call"
      ],
      "execution_count": null,
      "outputs": []
    },
    {
      "cell_type": "markdown",
      "metadata": {
        "id": "oJc5yGL3yvKX"
      },
      "source": [
        "## **Importing Models from Tensorflow Hub**"
      ]
    },
    {
      "cell_type": "markdown",
      "metadata": {
        "id": "GRxC2b9WkSFh"
      },
      "source": [
        "In the past we've created our own Neural Network models layer by layer from scratch.\n",
        "\n",
        "But now, we're goint to do a similar process but the majority of our model's layers are going to come from **TensorFlow Hub**.\n",
        "\n",
        "**Feature extraction transfer learning** is when you take the underlying patterns (also called weights) a pretrained model has learned and adjust its outputs to be more suited to your problem. \n",
        "\n",
        "\n",
        "**EfficientNet Model :** https://tfhub.dev/tensorflow/efficientnet/b0/feature-vector/1\n",
        "\n",
        "**ResNet Model :** https://tfhub.dev/google/imagenet/resnet_v2_50/feature_vector/5"
      ]
    },
    {
      "cell_type": "markdown",
      "metadata": {
        "id": "Cstq-n2H52rf"
      },
      "source": [
        "### **ResNet Model**"
      ]
    },
    {
      "cell_type": "code",
      "metadata": {
        "id": "sBuIhl67k1kT"
      },
      "source": [
        "resnet_url = \"https://tfhub.dev/google/imagenet/resnet_v2_50/feature_vector/5\"\n",
        "efficientnet_url = \"https://tfhub.dev/tensorflow/efficientnet/b0/feature-vector/1\""
      ],
      "execution_count": null,
      "outputs": []
    },
    {
      "cell_type": "code",
      "metadata": {
        "id": "KWTBLAuxzgBl"
      },
      "source": [
        "import tensorflow as tf\n",
        "import pandas as pd\n",
        "import numpy as np\n",
        "import tensorflow_hub as hub\n",
        "from tensorflow.keras import layers"
      ],
      "execution_count": null,
      "outputs": []
    },
    {
      "cell_type": "code",
      "metadata": {
        "id": "vVWWrK9uzzXC"
      },
      "source": [
        "def create_model(model_url, num_classes=10):\n",
        "  '''\n",
        "  Takes TFH url and creates keras Sequential model with it.\n",
        "\n",
        "  Args:\n",
        "    model_url : A Tensorfloe Hub feature extraction URL.\n",
        "    num_classes : Number of output Neurons in output layer\n",
        "  '''\n",
        "\n",
        "  # Downloading pretrained model and saving it as a Sequential Layer\n",
        "  feature_extractor_layer = hub.KerasLayer(model_url,\n",
        "                                           trainable=False, #Freeze already learned patterns\n",
        "                                           name=\"feature_ectraction_layer\",\n",
        "                                           input_shape=(IMG_SIZE + (3, ))) \n",
        "  model = tf.keras.Sequential([\n",
        "            feature_extractor_layer,\n",
        "            layers.Dense(num_classes, activation='softmax', name='output_layer')\n",
        "  ])\n",
        "  return model"
      ],
      "execution_count": null,
      "outputs": []
    },
    {
      "cell_type": "code",
      "metadata": {
        "colab": {
          "base_uri": "https://localhost:8080/"
        },
        "id": "d7IXpqiJ0G3_",
        "outputId": "50b64307-f341-44b4-b504-cde3815b0b34"
      },
      "source": [
        "resnet_model = create_model(resnet_url, 10)\n",
        "\n",
        "resnet_model.summary()"
      ],
      "execution_count": null,
      "outputs": [
        {
          "output_type": "stream",
          "text": [
            "Model: \"sequential\"\n",
            "_________________________________________________________________\n",
            "Layer (type)                 Output Shape              Param #   \n",
            "=================================================================\n",
            "feature_ectraction_layer (Ke (None, 2048)              23564800  \n",
            "_________________________________________________________________\n",
            "output_layer (Dense)         (None, 10)                20490     \n",
            "=================================================================\n",
            "Total params: 23,585,290\n",
            "Trainable params: 20,490\n",
            "Non-trainable params: 23,564,800\n",
            "_________________________________________________________________\n"
          ],
          "name": "stdout"
        }
      ]
    },
    {
      "cell_type": "code",
      "metadata": {
        "id": "qwld8z6M2KrF"
      },
      "source": [
        "# Compiling ResNet Model\n",
        "\n",
        "resnet_model.compile(loss=tf.keras.losses.categorical_crossentropy,\n",
        "                     optimizer=tf.keras.optimizers.Adam(),\n",
        "                     metrics=['accuracy'])"
      ],
      "execution_count": null,
      "outputs": []
    },
    {
      "cell_type": "code",
      "metadata": {
        "colab": {
          "base_uri": "https://localhost:8080/"
        },
        "id": "BwyQ3XPb3N-H",
        "outputId": "23138585-c120-4afe-9ab0-45b8d2a04d88"
      },
      "source": [
        "# Training the model\n",
        "\n",
        "res_history = resnet_model.fit(train_data,\n",
        "                               epochs=5,\n",
        "                               steps_per_epoch=len(train_data),\n",
        "                               validation_data=test_data,\n",
        "                               validation_steps=len(test_data),\n",
        "                               callbacks=[create_tensorboard_callback('tensorflow_hub',\n",
        "                                                                      'resnet50v2')])"
      ],
      "execution_count": null,
      "outputs": [
        {
          "output_type": "stream",
          "text": [
            "Saving TensorBoard log files to tensorflow_hub/resnet50v2/20210520-054756\n",
            "Epoch 1/5\n",
            "24/24 [==============================] - 54s 786ms/step - loss: 2.3726 - accuracy: 0.2087 - val_loss: 1.1967 - val_accuracy: 0.6284\n",
            "Epoch 2/5\n",
            "24/24 [==============================] - 15s 655ms/step - loss: 0.9327 - accuracy: 0.7264 - val_loss: 0.8626 - val_accuracy: 0.7328\n",
            "Epoch 3/5\n",
            "24/24 [==============================] - 15s 655ms/step - loss: 0.6220 - accuracy: 0.8254 - val_loss: 0.7668 - val_accuracy: 0.7568\n",
            "Epoch 4/5\n",
            "24/24 [==============================] - 15s 646ms/step - loss: 0.4987 - accuracy: 0.8672 - val_loss: 0.7092 - val_accuracy: 0.7752\n",
            "Epoch 5/5\n",
            "24/24 [==============================] - 15s 651ms/step - loss: 0.3886 - accuracy: 0.8984 - val_loss: 0.6909 - val_accuracy: 0.7748\n"
          ],
          "name": "stdout"
        }
      ]
    },
    {
      "cell_type": "code",
      "metadata": {
        "colab": {
          "base_uri": "https://localhost:8080/",
          "height": 285
        },
        "id": "jdkYW0Rl39eT",
        "outputId": "c5991069-3459-4e79-a2be-aa0bfc17a155"
      },
      "source": [
        "pd.DataFrame(res_history.history).plot()"
      ],
      "execution_count": null,
      "outputs": [
        {
          "output_type": "execute_result",
          "data": {
            "text/plain": [
              "<matplotlib.axes._subplots.AxesSubplot at 0x7fab363a64d0>"
            ]
          },
          "metadata": {
            "tags": []
          },
          "execution_count": 12
        },
        {
          "output_type": "display_data",
          "data": {
            "image/png": "[encoded data removed]",
            "text/plain": [
              "<Figure size 432x288 with 1 Axes>"
            ]
          },
          "metadata": {
            "tags": [],
            "needs_background": "light"
          }
        }
      ]
    },
    {
      "cell_type": "markdown",
      "metadata": {
        "id": "MSlrGvzq597F"
      },
      "source": [
        "### **EfficientNet B0 Model**"
      ]
    },
    {
      "cell_type": "code",
      "metadata": {
        "colab": {
          "base_uri": "https://localhost:8080/"
        },
        "id": "HL4fSzPg5NtF",
        "outputId": "c1bf0afd-4c4c-4399-b71c-d8a8740416f3"
      },
      "source": [
        "efficientnet_model = create_model(efficientnet_url, 10)\n",
        "\n",
        "efficientnet_model.summary()"
      ],
      "execution_count": null,
      "outputs": [
        {
          "output_type": "stream",
          "text": [
            "Model: \"sequential_1\"\n",
            "_________________________________________________________________\n",
            "Layer (type)                 Output Shape              Param #   \n",
            "=================================================================\n",
            "feature_ectraction_layer (Ke (None, 1280)              4049564   \n",
            "_________________________________________________________________\n",
            "output_layer (Dense)         (None, 10)                12810     \n",
            "=================================================================\n",
            "Total params: 4,062,374\n",
            "Trainable params: 12,810\n",
            "Non-trainable params: 4,049,564\n",
            "_________________________________________________________________\n"
          ],
          "name": "stdout"
        }
      ]
    },
    {
      "cell_type": "code",
      "metadata": {
        "id": "JnIZjH8s6JXZ"
      },
      "source": [
        "# Compiling EfficientNet Model\n",
        "\n",
        "efficientnet_model.compile(loss=tf.keras.losses.categorical_crossentropy,\n",
        "                           optimizer=tf.keras.optimizers.Adam(),\n",
        "                           metrics=['accuracy'])"
      ],
      "execution_count": null,
      "outputs": []
    },
    {
      "cell_type": "code",
      "metadata": {
        "colab": {
          "base_uri": "https://localhost:8080/"
        },
        "id": "mG1Ur_6r6S2S",
        "outputId": "8d408b79-6ed9-4a03-aa7c-458809d1d18f"
      },
      "source": [
        "# Training the model\n",
        "\n",
        "eff_history = efficientnet_model.fit(train_data,\n",
        "                                     epochs=5,\n",
        "                                     steps_per_epoch=len(train_data),\n",
        "                                     validation_data=test_data,\n",
        "                                     validation_steps=len(test_data),\n",
        "                                     callbacks=[create_tensorboard_callback('tensorflow_hub',\n",
        "                                                                            'efficientnetb0')])"
      ],
      "execution_count": null,
      "outputs": [
        {
          "output_type": "stream",
          "text": [
            "Saving TensorBoard log files to tensorflow_hub/efficientnetb0/20210520-055001\n",
            "Epoch 1/5\n",
            "24/24 [==============================] - 25s 777ms/step - loss: 2.0620 - accuracy: 0.2996 - val_loss: 1.2497 - val_accuracy: 0.7596\n",
            "Epoch 2/5\n",
            "24/24 [==============================] - 14s 622ms/step - loss: 1.1179 - accuracy: 0.7729 - val_loss: 0.8385 - val_accuracy: 0.8304\n",
            "Epoch 3/5\n",
            "24/24 [==============================] - 14s 622ms/step - loss: 0.7704 - accuracy: 0.8393 - val_loss: 0.6767 - val_accuracy: 0.8488\n",
            "Epoch 4/5\n",
            "24/24 [==============================] - 15s 625ms/step - loss: 0.6179 - accuracy: 0.8452 - val_loss: 0.5972 - val_accuracy: 0.8600\n",
            "Epoch 5/5\n",
            "24/24 [==============================] - 15s 626ms/step - loss: 0.5305 - accuracy: 0.8682 - val_loss: 0.5440 - val_accuracy: 0.8668\n"
          ],
          "name": "stdout"
        }
      ]
    },
    {
      "cell_type": "code",
      "metadata": {
        "colab": {
          "base_uri": "https://localhost:8080/",
          "height": 282
        },
        "id": "FoMT7LLl6feo",
        "outputId": "7e2a7c30-1992-4304-8855-9a44aae4a266"
      },
      "source": [
        "pd.DataFrame(eff_history.history).plot()"
      ],
      "execution_count": null,
      "outputs": [
        {
          "output_type": "execute_result",
          "data": {
            "text/plain": [
              "<matplotlib.axes._subplots.AxesSubplot at 0x7faa7a87c250>"
            ]
          },
          "metadata": {
            "tags": []
          },
          "execution_count": 16
        },
        {
          "output_type": "display_data",
          "data": {
            "image/png": "[encoded data removed]",
            "text/plain": [
              "<Figure size 432x288 with 1 Axes>"
            ]
          },
          "metadata": {
            "tags": [],
            "needs_background": "light"
          }
        }
      ]
    },
    {
      "cell_type": "markdown",
      "metadata": {
        "id": "7mk1OK2e_kyR"
      },
      "source": [
        "## **Comparing our Models using TensorBoard**"
      ]
    },
    {
      "cell_type": "code",
      "metadata": {
        "colab": {
          "base_uri": "https://localhost:8080/"
        },
        "id": "2BDXoA6qDzyl",
        "outputId": "11e27f5b-0670-40fb-cf66-7a66a9241aac"
      },
      "source": [
        "!tensorboard dev upload --logdir ./tensorflow_hub/ \\\n",
        "  --name \"EfficientNetB0 vs. ResNet50V2\" \\\n",
        "  --description \"Comparing two different TF Hub feature extraction models architectures using 10% of training images\" \\\n",
        "  --one_shot"
      ],
      "execution_count": null,
      "outputs": [
        {
          "output_type": "stream",
          "text": [
            "2021-05-20 05:51:27.211547: I tensorflow/stream_executor/platform/default/dso_loader.cc:49] Successfully opened dynamic library libcudart.so.11.0\n",
            "\n",
            "***** TensorBoard Uploader *****\n",
            "\n",
            "This will upload your TensorBoard logs to https://tensorboard.dev/ from\n",
            "the following directory:\n",
            "\n",
            "./tensorflow_hub/\n",
            "\n",
            "This TensorBoard will be visible to everyone. Do not upload sensitive\n",
            "data.\n",
            "\n",
            "Your use of this service is subject to Google's Terms of Service\n",
            "<https://policies.google.com/terms> and Privacy Policy\n",
            "<https://policies.google.com/privacy>, and TensorBoard.dev's Terms of Service\n",
            "<https://tensorboard.dev/policy/terms/>.\n",
            "\n",
            "This notice will not be shown again while you are logged into the uploader.\n",
            "To log out, run `tensorboard dev auth revoke`.\n",
            "\n",
            "Continue? (yes/NO) yes\n",
            "\n",
            "Please visit this URL to authorize this application: https://accounts.google.com/o/oauth2/auth?response_type=code&client_id=373649185512-8v619h5kft38l4456nm2dj4ubeqsrvh6.apps.googleusercontent.com&redirect_uri=urn%3Aietf%3Awg%3Aoauth%3A2.0%3Aoob&scope=openid+https%3A%2F%2Fwww.googleapis.com%2Fauth%2Fuserinfo.email&state=pYJkoyttaiQbYkNnDG4u2Ca5GG7HSg&prompt=consent&access_type=offline\n",
            "Enter the authorization code: 4/1AY0e-g7i9mMi5Bg48cCSTRwESyfs1EDwyqWAVZLgAqCaGRPTt_C6z8YyJeU\n",
            "\n",
            "Data for the \"text\" plugin is now uploaded to TensorBoard.dev! Note that uploaded data is public. If you do not want to upload data for this plugin, use the \"--plugins\" command line argument.\n",
            "\n",
            "New experiment created. View your TensorBoard at: https://tensorboard.dev/experiment/gHJ3MbKGQVOPPDldY0pd3g/\n",
            "\n",
            "\u001b[1m[2021-05-20T05:51:52]\u001b[0m Started scanning logdir.\n",
            "\u001b[1m[2021-05-20T05:51:54]\u001b[0m Total uploaded: 40 scalars, 0 tensors, 2 binary objects (5.6 MB)\n",
            "\u001b[1m[2021-05-20T05:51:54]\u001b[0m Done scanning logdir.\n",
            "\n",
            "\n",
            "Done. View your TensorBoard at https://tensorboard.dev/experiment/gHJ3MbKGQVOPPDldY0pd3g/\n"
          ],
          "name": "stdout"
        }
      ]
    },
    {
      "cell_type": "code",
      "metadata": {
        "colab": {
          "base_uri": "https://localhost:8080/"
        },
        "id": "RCym6cpREvxX",
        "outputId": "a7f96a57-40d4-4759-8695-d44383071dfd"
      },
      "source": [
        "!tensorboard dev list"
      ],
      "execution_count": null,
      "outputs": [
        {
          "output_type": "stream",
          "text": [
            "2021-05-20 05:51:56.150409: I tensorflow/stream_executor/platform/default/dso_loader.cc:49] Successfully opened dynamic library libcudart.so.11.0\n",
            "Data for the \"text\" plugin is now uploaded to TensorBoard.dev! Note that uploaded data is public. If you do not want to upload data for this plugin, use the \"--plugins\" command line argument.\n",
            "https://tensorboard.dev/experiment/gHJ3MbKGQVOPPDldY0pd3g/\n",
            "\tName                 [No Name]\n",
            "\tDescription          [No Description]\n",
            "\tId                   gHJ3MbKGQVOPPDldY0pd3g\n",
            "\tCreated              2021-05-20 05:51:52 (25 seconds ago)\n",
            "\tUpdated              2021-05-20 05:51:54 (23 seconds ago)\n",
            "\tRuns                 4\n",
            "\tTags                 3\n",
            "\tScalars              40\n",
            "\tTensor bytes         0\n",
            "\tBinary object bytes  5891438\n",
            "https://tensorboard.dev/experiment/WQfmqQJzRief7IXxzO3zRQ/\n",
            "\tName                 [No Name]\n",
            "\tDescription          [No Description]\n",
            "\tId                   WQfmqQJzRief7IXxzO3zRQ\n",
            "\tCreated              2021-05-20 03:34:37 (2 hours ago)\n",
            "\tUpdated              2021-05-20 03:34:39 (2 hours ago)\n",
            "\tRuns                 4\n",
            "\tTags                 3\n",
            "\tScalars              40\n",
            "\tTensor bytes         0\n",
            "\tBinary object bytes  5891438\n",
            "https://tensorboard.dev/experiment/Z58be5fdS2SxP5w2YPWqTw/\n",
            "\tName                 [No Name]\n",
            "\tDescription          [No Description]\n",
            "\tId                   Z58be5fdS2SxP5w2YPWqTw\n",
            "\tCreated              2021-05-20 03:32:36 (2 hours ago)\n",
            "\tUpdated              2021-05-20 03:32:39 (2 hours ago)\n",
            "\tRuns                 4\n",
            "\tTags                 3\n",
            "\tScalars              40\n",
            "\tTensor bytes         0\n",
            "\tBinary object bytes  5891438\n",
            "Total: 3 experiment(s)\n"
          ],
          "name": "stdout"
        }
      ]
    },
    {
      "cell_type": "code",
      "metadata": {
        "id": "-MfAhDwnFNxr"
      },
      "source": [
        ""
      ],
      "execution_count": null,
      "outputs": []
    }
  ]
}